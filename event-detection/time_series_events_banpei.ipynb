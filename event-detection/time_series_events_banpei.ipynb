{
 "cells": [
  {
   "cell_type": "markdown",
   "metadata": {},
   "source": [
    "## Time series change point detection using banpei\n",
    "https://github.com/tsurubee/banpei"
   ]
  },
  {
   "cell_type": "code",
   "execution_count": 53,
   "metadata": {},
   "outputs": [],
   "source": [
    "import banpei\n",
    "import pandas as pd\n",
    "import numpy as np\n",
    "import matplotlib.pyplot as plt\n",
    "import time"
   ]
  },
  {
   "cell_type": "markdown",
   "metadata": {},
   "source": [
    "### Read files"
   ]
  },
  {
   "cell_type": "code",
   "execution_count": 3,
   "metadata": {},
   "outputs": [],
   "source": [
    "data = pd.read_csv('./csv/2017-01-03/book_events_total_view_2017-01-03.csv')"
   ]
  },
  {
   "cell_type": "markdown",
   "metadata": {},
   "source": [
    "### Data exploration"
   ]
  },
  {
   "cell_type": "code",
   "execution_count": 6,
   "metadata": {},
   "outputs": [
    {
     "data": {
      "text/html": [
       "<div>\n",
       "<style scoped>\n",
       "    .dataframe tbody tr th:only-of-type {\n",
       "        vertical-align: middle;\n",
       "    }\n",
       "\n",
       "    .dataframe tbody tr th {\n",
       "        vertical-align: top;\n",
       "    }\n",
       "\n",
       "    .dataframe thead th {\n",
       "        text-align: right;\n",
       "    }\n",
       "</style>\n",
       "<table border=\"1\" class=\"dataframe\">\n",
       "  <thead>\n",
       "    <tr style=\"text-align: right;\">\n",
       "      <th></th>\n",
       "      <th>Unnamed: 0</th>\n",
       "      <th>timestamp</th>\n",
       "      <th>order_id</th>\n",
       "      <th>book_event_type</th>\n",
       "      <th>price</th>\n",
       "      <th>quantity</th>\n",
       "      <th>aux_quantity</th>\n",
       "      <th>side</th>\n",
       "      <th>aux1</th>\n",
       "      <th>aux2</th>\n",
       "      <th>sector</th>\n",
       "      <th>ticker</th>\n",
       "    </tr>\n",
       "  </thead>\n",
       "  <tbody>\n",
       "    <tr>\n",
       "      <th>0</th>\n",
       "      <td>277</td>\n",
       "      <td>1483453800048957906</td>\n",
       "      <td>0</td>\n",
       "      <td>T</td>\n",
       "      <td>45930000000</td>\n",
       "      <td>100</td>\n",
       "      <td>0</td>\n",
       "      <td>U</td>\n",
       "      <td>35</td>\n",
       "      <td>0</td>\n",
       "      <td>Health Care</td>\n",
       "      <td>A</td>\n",
       "    </tr>\n",
       "    <tr>\n",
       "      <th>1</th>\n",
       "      <td>569</td>\n",
       "      <td>1483453923291060179</td>\n",
       "      <td>0</td>\n",
       "      <td>T</td>\n",
       "      <td>45960000000</td>\n",
       "      <td>65</td>\n",
       "      <td>0</td>\n",
       "      <td>U</td>\n",
       "      <td>35</td>\n",
       "      <td>0</td>\n",
       "      <td>Health Care</td>\n",
       "      <td>A</td>\n",
       "    </tr>\n",
       "    <tr>\n",
       "      <th>2</th>\n",
       "      <td>570</td>\n",
       "      <td>1483453923291060179</td>\n",
       "      <td>14151601</td>\n",
       "      <td>T</td>\n",
       "      <td>45950000000</td>\n",
       "      <td>100</td>\n",
       "      <td>0</td>\n",
       "      <td>B</td>\n",
       "      <td>35</td>\n",
       "      <td>0</td>\n",
       "      <td>Health Care</td>\n",
       "      <td>A</td>\n",
       "    </tr>\n",
       "    <tr>\n",
       "      <th>3</th>\n",
       "      <td>571</td>\n",
       "      <td>1483453923291060179</td>\n",
       "      <td>14151605</td>\n",
       "      <td>T</td>\n",
       "      <td>45950000000</td>\n",
       "      <td>135</td>\n",
       "      <td>65</td>\n",
       "      <td>B</td>\n",
       "      <td>35</td>\n",
       "      <td>0</td>\n",
       "      <td>Health Care</td>\n",
       "      <td>A</td>\n",
       "    </tr>\n",
       "    <tr>\n",
       "      <th>4</th>\n",
       "      <td>599</td>\n",
       "      <td>1483453981377368442</td>\n",
       "      <td>14151605</td>\n",
       "      <td>T</td>\n",
       "      <td>45950000000</td>\n",
       "      <td>65</td>\n",
       "      <td>0</td>\n",
       "      <td>B</td>\n",
       "      <td>35</td>\n",
       "      <td>0</td>\n",
       "      <td>Health Care</td>\n",
       "      <td>A</td>\n",
       "    </tr>\n",
       "  </tbody>\n",
       "</table>\n",
       "</div>"
      ],
      "text/plain": [
       "   Unnamed: 0            timestamp  order_id book_event_type        price  \\\n",
       "0         277  1483453800048957906         0               T  45930000000   \n",
       "1         569  1483453923291060179         0               T  45960000000   \n",
       "2         570  1483453923291060179  14151601               T  45950000000   \n",
       "3         571  1483453923291060179  14151605               T  45950000000   \n",
       "4         599  1483453981377368442  14151605               T  45950000000   \n",
       "\n",
       "   quantity  aux_quantity side  aux1  aux2       sector ticker  \n",
       "0       100             0    U    35     0  Health Care      A  \n",
       "1        65             0    U    35     0  Health Care      A  \n",
       "2       100             0    B    35     0  Health Care      A  \n",
       "3       135            65    B    35     0  Health Care      A  \n",
       "4        65             0    B    35     0  Health Care      A  "
      ]
     },
     "execution_count": 6,
     "metadata": {},
     "output_type": "execute_result"
    }
   ],
   "source": [
    "data.head()"
   ]
  },
  {
   "cell_type": "code",
   "execution_count": 26,
   "metadata": {},
   "outputs": [],
   "source": [
    "data = data.drop(columns='Unnamed: 0')"
   ]
  },
  {
   "cell_type": "code",
   "execution_count": 36,
   "metadata": {},
   "outputs": [],
   "source": [
    "data = data.sort_values(by='timestamp', axis=0)"
   ]
  },
  {
   "cell_type": "code",
   "execution_count": 37,
   "metadata": {},
   "outputs": [
    {
     "data": {
      "image/png": "[encoded data removed]",
      "text/plain": [
       "<Figure size 432x288 with 1 Axes>"
      ]
     },
     "metadata": {
      "needs_background": "light"
     },
     "output_type": "display_data"
    }
   ],
   "source": [
    "data.sector.value_counts().plot(kind='bar')\n",
    "plt.show()"
   ]
  },
  {
   "cell_type": "markdown",
   "metadata": {},
   "source": [
    "### Based on above representation choosing two different sectors: IT and Financials"
   ]
  },
  {
   "cell_type": "code",
   "execution_count": 38,
   "metadata": {},
   "outputs": [],
   "source": [
    "infotech = data[data.sector=='Information Technology']"
   ]
  },
  {
   "cell_type": "code",
   "execution_count": 39,
   "metadata": {},
   "outputs": [
    {
     "data": {
      "text/plain": [
       "(641353, 11)"
      ]
     },
     "execution_count": 39,
     "metadata": {},
     "output_type": "execute_result"
    }
   ],
   "source": [
    "infotech.shape"
   ]
  },
  {
   "cell_type": "code",
   "execution_count": 40,
   "metadata": {},
   "outputs": [],
   "source": [
    "finance = data[data.sector=='Financials']"
   ]
  },
  {
   "cell_type": "code",
   "execution_count": 41,
   "metadata": {},
   "outputs": [
    {
     "data": {
      "text/plain": [
       "(364246, 11)"
      ]
     },
     "execution_count": 41,
     "metadata": {},
     "output_type": "execute_result"
    }
   ],
   "source": [
    "finance.shape"
   ]
  },
  {
   "cell_type": "code",
   "execution_count": 43,
   "metadata": {},
   "outputs": [
    {
     "data": {
      "text/html": [
       "<div>\n",
       "<style scoped>\n",
       "    .dataframe tbody tr th:only-of-type {\n",
       "        vertical-align: middle;\n",
       "    }\n",
       "\n",
       "    .dataframe tbody tr th {\n",
       "        vertical-align: top;\n",
       "    }\n",
       "\n",
       "    .dataframe thead th {\n",
       "        text-align: right;\n",
       "    }\n",
       "</style>\n",
       "<table border=\"1\" class=\"dataframe\">\n",
       "  <thead>\n",
       "    <tr style=\"text-align: right;\">\n",
       "      <th></th>\n",
       "      <th>timestamp</th>\n",
       "      <th>order_id</th>\n",
       "      <th>book_event_type</th>\n",
       "      <th>price</th>\n",
       "      <th>quantity</th>\n",
       "      <th>aux_quantity</th>\n",
       "      <th>side</th>\n",
       "      <th>aux1</th>\n",
       "      <th>aux2</th>\n",
       "      <th>sector</th>\n",
       "      <th>ticker</th>\n",
       "    </tr>\n",
       "  </thead>\n",
       "  <tbody>\n",
       "    <tr>\n",
       "      <th>18660</th>\n",
       "      <td>1483434214797190628</td>\n",
       "      <td>257357</td>\n",
       "      <td>T</td>\n",
       "      <td>116020000000</td>\n",
       "      <td>41</td>\n",
       "      <td>59</td>\n",
       "      <td>B</td>\n",
       "      <td>35</td>\n",
       "      <td>0</td>\n",
       "      <td>Information Technology</td>\n",
       "      <td>AAPL</td>\n",
       "    </tr>\n",
       "    <tr>\n",
       "      <th>18661</th>\n",
       "      <td>1483434214797455124</td>\n",
       "      <td>257357</td>\n",
       "      <td>T</td>\n",
       "      <td>116020000000</td>\n",
       "      <td>25</td>\n",
       "      <td>34</td>\n",
       "      <td>B</td>\n",
       "      <td>35</td>\n",
       "      <td>0</td>\n",
       "      <td>Information Technology</td>\n",
       "      <td>AAPL</td>\n",
       "    </tr>\n",
       "    <tr>\n",
       "      <th>18662</th>\n",
       "      <td>1483434234152860708</td>\n",
       "      <td>257493</td>\n",
       "      <td>T</td>\n",
       "      <td>116020000000</td>\n",
       "      <td>100</td>\n",
       "      <td>0</td>\n",
       "      <td>B</td>\n",
       "      <td>35</td>\n",
       "      <td>0</td>\n",
       "      <td>Information Technology</td>\n",
       "      <td>AAPL</td>\n",
       "    </tr>\n",
       "    <tr>\n",
       "      <th>18663</th>\n",
       "      <td>1483434234169803932</td>\n",
       "      <td>258653</td>\n",
       "      <td>T</td>\n",
       "      <td>116020000000</td>\n",
       "      <td>100</td>\n",
       "      <td>0</td>\n",
       "      <td>B</td>\n",
       "      <td>35</td>\n",
       "      <td>0</td>\n",
       "      <td>Information Technology</td>\n",
       "      <td>AAPL</td>\n",
       "    </tr>\n",
       "    <tr>\n",
       "      <th>18664</th>\n",
       "      <td>1483434234169803932</td>\n",
       "      <td>0</td>\n",
       "      <td>T</td>\n",
       "      <td>116020000000</td>\n",
       "      <td>34</td>\n",
       "      <td>0</td>\n",
       "      <td>U</td>\n",
       "      <td>35</td>\n",
       "      <td>0</td>\n",
       "      <td>Information Technology</td>\n",
       "      <td>AAPL</td>\n",
       "    </tr>\n",
       "  </tbody>\n",
       "</table>\n",
       "</div>"
      ],
      "text/plain": [
       "                 timestamp  order_id book_event_type         price  quantity  \\\n",
       "18660  1483434214797190628    257357               T  116020000000        41   \n",
       "18661  1483434214797455124    257357               T  116020000000        25   \n",
       "18662  1483434234152860708    257493               T  116020000000       100   \n",
       "18663  1483434234169803932    258653               T  116020000000       100   \n",
       "18664  1483434234169803932         0               T  116020000000        34   \n",
       "\n",
       "       aux_quantity side  aux1  aux2                  sector ticker  \n",
       "18660            59    B    35     0  Information Technology   AAPL  \n",
       "18661            34    B    35     0  Information Technology   AAPL  \n",
       "18662             0    B    35     0  Information Technology   AAPL  \n",
       "18663             0    B    35     0  Information Technology   AAPL  \n",
       "18664             0    U    35     0  Information Technology   AAPL  "
      ]
     },
     "execution_count": 43,
     "metadata": {},
     "output_type": "execute_result"
    }
   ],
   "source": [
    "infotech.head()"
   ]
  },
  {
   "cell_type": "markdown",
   "metadata": {},
   "source": [
    "### Doing change point detection using banpei for finance data"
   ]
  },
  {
   "cell_type": "code",
   "execution_count": 45,
   "metadata": {},
   "outputs": [],
   "source": [
    "model   = banpei.SST(w=50)"
   ]
  },
  {
   "cell_type": "code",
   "execution_count": 47,
   "metadata": {},
   "outputs": [],
   "source": [
    "fin_price = np.array(finance.price)"
   ]
  },
  {
   "cell_type": "code",
   "execution_count": 49,
   "metadata": {},
   "outputs": [
    {
     "data": {
      "text/plain": [
       "array([22460000000, 22410000000, 22410000000, ..., 22570000000,\n",
       "       22580000000, 87250000000], dtype=int64)"
      ]
     },
     "execution_count": 49,
     "metadata": {},
     "output_type": "execute_result"
    }
   ],
   "source": [
    "fin_price"
   ]
  },
  {
   "cell_type": "code",
   "execution_count": 54,
   "metadata": {},
   "outputs": [
    {
     "name": "stdout",
     "output_type": "stream",
     "text": [
      "--- 161.80820202827454 seconds ---\n"
     ]
    }
   ],
   "source": [
    "start_time = time.time()\n",
    "results = model.detect(fin_price, is_lanczos=True)\n",
    "print(\"--- %s seconds ---\" % (time.time() - start_time))"
   ]
  },
  {
   "cell_type": "code",
   "execution_count": 86,
   "metadata": {},
   "outputs": [
    {
     "name": "stdout",
     "output_type": "stream",
     "text": [
      "Current size: [8.0, 6.0]\n"
     ]
    }
   ],
   "source": [
    "# set figure size\n",
    "fig_size = plt.rcParams[\"figure.figsize\"]\n",
    " \n",
    "# Prints: [8.0, 6.0]\n",
    "print(\"Current size:\", fig_size)\n",
    "fig_size[0] = 10\n",
    "fig_size[1] = 10\n",
    "plt.rcParams[\"figure.figsize\"] = fig_size"
   ]
  },
  {
   "cell_type": "code",
   "execution_count": 91,
   "metadata": {},
   "outputs": [
    {
     "name": "stderr",
     "output_type": "stream",
     "text": [
      "No handles with labels found to put in legend.\n"
     ]
    },
    {
     "data": {
      "text/plain": [
       "Text(0,1,'SST Change Point')"
      ]
     },
     "execution_count": 91,
     "metadata": {},
     "output_type": "execute_result"
    },
    {
     "data": {
      "image/png": "[encoded data removed]",
      "text/plain": [
       "<Figure size 720x720 with 2 Axes>"
      ]
     },
     "metadata": {
      "needs_background": "light"
     },
     "output_type": "display_data"
    }
   ],
   "source": [
    "plt.subplot(211)\n",
    "plt.plot(fin_price)\n",
    "plt.xlim(0, 500)\n",
    "\n",
    "\n",
    "plt.subplot(212)\n",
    "plt.plot(results)\n",
    "plt.xlim(0, 500)\n",
    "plt.ylim(-0.1, 0.7)\n",
    "plt.legend()\n",
    "plt.title('SST Change Point', loc='left')"
   ]
  }
 ],
 "metadata": {
  "kernelspec": {
   "display_name": "Python 3",
   "language": "python",
   "name": "python3"
  },
  "language_info": {
   "codemirror_mode": {
    "name": "ipython",
    "version": 3
   },
   "file_extension": ".py",
   "mimetype": "text/x-python",
   "name": "python",
   "nbconvert_exporter": "python",
   "pygments_lexer": "ipython3",
   "version": "3.6.6"
  }
 },
 "nbformat": 4,
 "nbformat_minor": 2
}
