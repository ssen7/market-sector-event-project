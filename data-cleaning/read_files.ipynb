{
 "cells": [
  {
   "cell_type": "code",
   "execution_count": 41,
   "metadata": {},
   "outputs": [],
   "source": [
    "import pandas as pd\n",
    "import os\n",
    "import time"
   ]
  },
  {
   "cell_type": "markdown",
   "metadata": {},
   "source": [
    "## Get sector data from Kaggle\n",
    "https://www.kaggle.com/dgawlik/nyse#securities.csv\n"
   ]
  },
  {
   "cell_type": "code",
   "execution_count": 3,
   "metadata": {},
   "outputs": [
    {
     "data": {
      "text/html": [
       "<div>\n",
       "<style scoped>\n",
       "    .dataframe tbody tr th:only-of-type {\n",
       "        vertical-align: middle;\n",
       "    }\n",
       "\n",
       "    .dataframe tbody tr th {\n",
       "        vertical-align: top;\n",
       "    }\n",
       "\n",
       "    .dataframe thead th {\n",
       "        text-align: right;\n",
       "    }\n",
       "</style>\n",
       "<table border=\"1\" class=\"dataframe\">\n",
       "  <thead>\n",
       "    <tr style=\"text-align: right;\">\n",
       "      <th></th>\n",
       "      <th>Ticker symbol</th>\n",
       "      <th>Security</th>\n",
       "      <th>SEC filings</th>\n",
       "      <th>GICS Sector</th>\n",
       "      <th>GICS Sub Industry</th>\n",
       "      <th>Address of Headquarters</th>\n",
       "      <th>Date first added</th>\n",
       "      <th>CIK</th>\n",
       "    </tr>\n",
       "  </thead>\n",
       "  <tbody>\n",
       "    <tr>\n",
       "      <th>0</th>\n",
       "      <td>MMM</td>\n",
       "      <td>3M Company</td>\n",
       "      <td>reports</td>\n",
       "      <td>Industrials</td>\n",
       "      <td>Industrial Conglomerates</td>\n",
       "      <td>St. Paul, Minnesota</td>\n",
       "      <td>NaN</td>\n",
       "      <td>66740</td>\n",
       "    </tr>\n",
       "    <tr>\n",
       "      <th>1</th>\n",
       "      <td>ABT</td>\n",
       "      <td>Abbott Laboratories</td>\n",
       "      <td>reports</td>\n",
       "      <td>Health Care</td>\n",
       "      <td>Health Care Equipment</td>\n",
       "      <td>North Chicago, Illinois</td>\n",
       "      <td>1964-03-31</td>\n",
       "      <td>1800</td>\n",
       "    </tr>\n",
       "    <tr>\n",
       "      <th>2</th>\n",
       "      <td>ABBV</td>\n",
       "      <td>AbbVie</td>\n",
       "      <td>reports</td>\n",
       "      <td>Health Care</td>\n",
       "      <td>Pharmaceuticals</td>\n",
       "      <td>North Chicago, Illinois</td>\n",
       "      <td>2012-12-31</td>\n",
       "      <td>1551152</td>\n",
       "    </tr>\n",
       "    <tr>\n",
       "      <th>3</th>\n",
       "      <td>ACN</td>\n",
       "      <td>Accenture plc</td>\n",
       "      <td>reports</td>\n",
       "      <td>Information Technology</td>\n",
       "      <td>IT Consulting &amp; Other Services</td>\n",
       "      <td>Dublin, Ireland</td>\n",
       "      <td>2011-07-06</td>\n",
       "      <td>1467373</td>\n",
       "    </tr>\n",
       "    <tr>\n",
       "      <th>4</th>\n",
       "      <td>ATVI</td>\n",
       "      <td>Activision Blizzard</td>\n",
       "      <td>reports</td>\n",
       "      <td>Information Technology</td>\n",
       "      <td>Home Entertainment Software</td>\n",
       "      <td>Santa Monica, California</td>\n",
       "      <td>2015-08-31</td>\n",
       "      <td>718877</td>\n",
       "    </tr>\n",
       "  </tbody>\n",
       "</table>\n",
       "</div>"
      ],
      "text/plain": [
       "  Ticker symbol             Security SEC filings             GICS Sector  \\\n",
       "0           MMM           3M Company     reports             Industrials   \n",
       "1           ABT  Abbott Laboratories     reports             Health Care   \n",
       "2          ABBV               AbbVie     reports             Health Care   \n",
       "3           ACN        Accenture plc     reports  Information Technology   \n",
       "4          ATVI  Activision Blizzard     reports  Information Technology   \n",
       "\n",
       "                GICS Sub Industry   Address of Headquarters Date first added  \\\n",
       "0        Industrial Conglomerates       St. Paul, Minnesota              NaN   \n",
       "1           Health Care Equipment   North Chicago, Illinois       1964-03-31   \n",
       "2                 Pharmaceuticals   North Chicago, Illinois       2012-12-31   \n",
       "3  IT Consulting & Other Services           Dublin, Ireland       2011-07-06   \n",
       "4     Home Entertainment Software  Santa Monica, California       2015-08-31   \n",
       "\n",
       "       CIK  \n",
       "0    66740  \n",
       "1     1800  \n",
       "2  1551152  \n",
       "3  1467373  \n",
       "4   718877  "
      ]
     },
     "execution_count": 3,
     "metadata": {},
     "output_type": "execute_result"
    }
   ],
   "source": [
    "sec = pd.read_csv('./securities.csv')\n",
    "sec.head()"
   ]
  },
  {
   "cell_type": "markdown",
   "metadata": {},
   "source": [
    "### We only need the unique tickers and the GICS Sector\n",
    "\n",
    "Ref: https://www.fidelity.com/learning-center/trading-investing/markets-sectors/global-industry-classification-standard\n"
   ]
  },
  {
   "cell_type": "code",
   "execution_count": 30,
   "metadata": {
    "scrolled": true
   },
   "outputs": [
    {
     "data": {
      "text/plain": [
       "array(['Industrials', 'Health Care', 'Information Technology',\n",
       "       'Consumer Discretionary', 'Utilities', 'Financials', 'Materials',\n",
       "       'Consumer Staples', 'Real Estate', 'Energy',\n",
       "       'Telecommunications Services'], dtype=object)"
      ]
     },
     "execution_count": 30,
     "metadata": {},
     "output_type": "execute_result"
    }
   ],
   "source": [
    "sec = sec[['Ticker symbol', 'GICS Sector']]\n",
    "sec = sec.drop_duplicates()\n",
    "sec.head()\n",
    "# list(sec['Ticker symbol'])\n",
    "pd.unique(sec['GICS Sector'])"
   ]
  },
  {
   "cell_type": "markdown",
   "metadata": {},
   "source": [
    "### We need to make directories for each sector"
   ]
  },
  {
   "cell_type": "code",
   "execution_count": 31,
   "metadata": {},
   "outputs": [
    {
     "data": {
      "text/html": [
       "<div>\n",
       "<style scoped>\n",
       "    .dataframe tbody tr th:only-of-type {\n",
       "        vertical-align: middle;\n",
       "    }\n",
       "\n",
       "    .dataframe tbody tr th {\n",
       "        vertical-align: top;\n",
       "    }\n",
       "\n",
       "    .dataframe thead th {\n",
       "        text-align: right;\n",
       "    }\n",
       "</style>\n",
       "<table border=\"1\" class=\"dataframe\">\n",
       "  <thead>\n",
       "    <tr style=\"text-align: right;\">\n",
       "      <th></th>\n",
       "      <th>Ticker symbol</th>\n",
       "      <th>GICS Sector</th>\n",
       "    </tr>\n",
       "  </thead>\n",
       "  <tbody>\n",
       "    <tr>\n",
       "      <th>0</th>\n",
       "      <td>MMM</td>\n",
       "      <td>Industrials</td>\n",
       "    </tr>\n",
       "    <tr>\n",
       "      <th>1</th>\n",
       "      <td>ABT</td>\n",
       "      <td>Health Care</td>\n",
       "    </tr>\n",
       "    <tr>\n",
       "      <th>2</th>\n",
       "      <td>ABBV</td>\n",
       "      <td>Health Care</td>\n",
       "    </tr>\n",
       "    <tr>\n",
       "      <th>3</th>\n",
       "      <td>ACN</td>\n",
       "      <td>Information Technology</td>\n",
       "    </tr>\n",
       "    <tr>\n",
       "      <th>4</th>\n",
       "      <td>ATVI</td>\n",
       "      <td>Information Technology</td>\n",
       "    </tr>\n",
       "  </tbody>\n",
       "</table>\n",
       "</div>"
      ],
      "text/plain": [
       "  Ticker symbol             GICS Sector\n",
       "0           MMM             Industrials\n",
       "1           ABT             Health Care\n",
       "2          ABBV             Health Care\n",
       "3           ACN  Information Technology\n",
       "4          ATVI  Information Technology"
      ]
     },
     "execution_count": 31,
     "metadata": {},
     "output_type": "execute_result"
    }
   ],
   "source": [
    "sec.head()"
   ]
  },
  {
   "cell_type": "code",
   "execution_count": 38,
   "metadata": {},
   "outputs": [],
   "source": [
    "# path_to_file = './csv/2017-01-03/'\n",
    "h5file_path = './data/book_events_total_view_2017-01-03.h5'\n",
    "\n",
    "csv_file_name = h5file_path.split('/')[2].split('.')[0]"
   ]
  },
  {
   "cell_type": "markdown",
   "metadata": {},
   "source": [
    "### We store one day's worth of data into on csv file with the appropriate ticker and sector given for each traded stock"
   ]
  },
  {
   "cell_type": "code",
   "execution_count": 42,
   "metadata": {
    "scrolled": true
   },
   "outputs": [
    {
     "name": "stdout",
     "output_type": "stream",
     "text": [
      "--- 552.9635646343231 seconds ---\n"
     ]
    }
   ],
   "source": [
    "start_time = time.time()\n",
    "csv_path_to_file = './csv/2017-01-03/'\n",
    "with pd.HDFStore(h5file_path, 'r') as train:\n",
    "    final_df = pd.DataFrame()\n",
    "    for key in train.keys():\n",
    "#         path_to_file = './csv/2017-01-03/'\n",
    "        key2 = key[1:]\n",
    "        if key2 in list(sec['Ticker symbol']):\n",
    "            df = train.get(key)\n",
    "            df = df[df['book_event_type']=='T']\n",
    "            # get sector\n",
    "            sector = sec[sec['Ticker symbol'] == key2]['GICS Sector'].iloc[0]\n",
    "            df['sector'] = sector\n",
    "            df['ticker'] = key2\n",
    "#             path_to_file += sector\n",
    "#             if not os.path.exists(path_to_file):\n",
    "#                 os.mkdir(path_to_file)\n",
    "            final_df = final_df.append(df)\n",
    "            \n",
    "    final_df.to_csv(csv_path_to_file + '/' + csv_file_name +'.csv')\n",
    "\n",
    "print(\"--- %s seconds ---\" % (time.time() - start_time))"
   ]
  }
 ],
 "metadata": {
  "kernelspec": {
   "display_name": "Python 3",
   "language": "python",
   "name": "python3"
  },
  "language_info": {
   "codemirror_mode": {
    "name": "ipython",
    "version": 3
   },
   "file_extension": ".py",
   "mimetype": "text/x-python",
   "name": "python",
   "nbconvert_exporter": "python",
   "pygments_lexer": "ipython3",
   "version": "3.6.6"
  }
 },
 "nbformat": 4,
 "nbformat_minor": 2
}
