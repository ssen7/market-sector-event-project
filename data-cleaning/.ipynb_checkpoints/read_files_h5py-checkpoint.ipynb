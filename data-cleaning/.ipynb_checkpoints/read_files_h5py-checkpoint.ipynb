{
 "cells": [
  {
   "cell_type": "code",
   "execution_count": 2,
   "metadata": {},
   "outputs": [],
   "source": [
    "import pandas as pd\n",
    "import os\n",
    "import time\n",
    "import matplotlib.pyplot as plt\n",
    "import h5py"
   ]
  },
  {
   "cell_type": "code",
   "execution_count": 34,
   "metadata": {},
   "outputs": [
    {
     "data": {
      "text/html": [
       "<div>\n",
       "<style scoped>\n",
       "    .dataframe tbody tr th:only-of-type {\n",
       "        vertical-align: middle;\n",
       "    }\n",
       "\n",
       "    .dataframe tbody tr th {\n",
       "        vertical-align: top;\n",
       "    }\n",
       "\n",
       "    .dataframe thead th {\n",
       "        text-align: right;\n",
       "    }\n",
       "</style>\n",
       "<table border=\"1\" class=\"dataframe\">\n",
       "  <thead>\n",
       "    <tr style=\"text-align: right;\">\n",
       "      <th></th>\n",
       "      <th>timestamp</th>\n",
       "      <th>order_id</th>\n",
       "      <th>book_event_type</th>\n",
       "      <th>price</th>\n",
       "      <th>quantity</th>\n",
       "      <th>aux_quantity</th>\n",
       "      <th>side</th>\n",
       "      <th>aux1</th>\n",
       "      <th>aux2</th>\n",
       "    </tr>\n",
       "  </thead>\n",
       "  <tbody>\n",
       "    <tr>\n",
       "      <th>0</th>\n",
       "      <td>1483704000266037061</td>\n",
       "      <td>2972485</td>\n",
       "      <td>b'A'</td>\n",
       "      <td>10000000</td>\n",
       "      <td>100</td>\n",
       "      <td>0</td>\n",
       "      <td>b'B'</td>\n",
       "      <td>0</td>\n",
       "      <td>0</td>\n",
       "    </tr>\n",
       "    <tr>\n",
       "      <th>1</th>\n",
       "      <td>1483704000266039013</td>\n",
       "      <td>2972489</td>\n",
       "      <td>b'A'</td>\n",
       "      <td>199999990000000</td>\n",
       "      <td>100</td>\n",
       "      <td>0</td>\n",
       "      <td>b'A'</td>\n",
       "      <td>0</td>\n",
       "      <td>0</td>\n",
       "    </tr>\n",
       "    <tr>\n",
       "      <th>2</th>\n",
       "      <td>1483704899684781946</td>\n",
       "      <td>3213581</td>\n",
       "      <td>b'A'</td>\n",
       "      <td>17500000000</td>\n",
       "      <td>100</td>\n",
       "      <td>0</td>\n",
       "      <td>b'B'</td>\n",
       "      <td>0</td>\n",
       "      <td>0</td>\n",
       "    </tr>\n",
       "    <tr>\n",
       "      <th>3</th>\n",
       "      <td>1483704921815520741</td>\n",
       "      <td>3217533</td>\n",
       "      <td>b'A'</td>\n",
       "      <td>19930000000</td>\n",
       "      <td>100</td>\n",
       "      <td>0</td>\n",
       "      <td>b'B'</td>\n",
       "      <td>0</td>\n",
       "      <td>0</td>\n",
       "    </tr>\n",
       "    <tr>\n",
       "      <th>4</th>\n",
       "      <td>1483704926547889441</td>\n",
       "      <td>3218037</td>\n",
       "      <td>b'A'</td>\n",
       "      <td>15000000000</td>\n",
       "      <td>100</td>\n",
       "      <td>0</td>\n",
       "      <td>b'B'</td>\n",
       "      <td>0</td>\n",
       "      <td>0</td>\n",
       "    </tr>\n",
       "  </tbody>\n",
       "</table>\n",
       "</div>"
      ],
      "text/plain": [
       "             timestamp  order_id book_event_type            price  quantity  \\\n",
       "0  1483704000266037061   2972485            b'A'         10000000       100   \n",
       "1  1483704000266039013   2972489            b'A'  199999990000000       100   \n",
       "2  1483704899684781946   3213581            b'A'      17500000000       100   \n",
       "3  1483704921815520741   3217533            b'A'      19930000000       100   \n",
       "4  1483704926547889441   3218037            b'A'      15000000000       100   \n",
       "\n",
       "   aux_quantity  side  aux1  aux2  \n",
       "0             0  b'B'     0     0  \n",
       "1             0  b'A'     0     0  \n",
       "2             0  b'B'     0     0  \n",
       "3             0  b'B'     0     0  \n",
       "4             0  b'B'     0     0  "
      ]
     },
     "execution_count": 34,
     "metadata": {},
     "output_type": "execute_result"
    }
   ],
   "source": [
    "f = h5py.File('../data/book_events_total_view_2017-01-06.h5', 'r')\n",
    "keys = list(f.keys())\n",
    "pd.DataFrame(f[keys[0]][:]).head()"
   ]
  },
  {
   "cell_type": "code",
   "execution_count": 20,
   "metadata": {},
   "outputs": [
    {
     "data": {
      "text/html": [
       "<div>\n",
       "<style scoped>\n",
       "    .dataframe tbody tr th:only-of-type {\n",
       "        vertical-align: middle;\n",
       "    }\n",
       "\n",
       "    .dataframe tbody tr th {\n",
       "        vertical-align: top;\n",
       "    }\n",
       "\n",
       "    .dataframe thead th {\n",
       "        text-align: right;\n",
       "    }\n",
       "</style>\n",
       "<table border=\"1\" class=\"dataframe\">\n",
       "  <thead>\n",
       "    <tr style=\"text-align: right;\">\n",
       "      <th></th>\n",
       "      <th>Ticker symbol</th>\n",
       "      <th>GICS Sector</th>\n",
       "    </tr>\n",
       "  </thead>\n",
       "  <tbody>\n",
       "    <tr>\n",
       "      <th>0</th>\n",
       "      <td>MMM</td>\n",
       "      <td>Industrials</td>\n",
       "    </tr>\n",
       "    <tr>\n",
       "      <th>1</th>\n",
       "      <td>ABT</td>\n",
       "      <td>Health Care</td>\n",
       "    </tr>\n",
       "    <tr>\n",
       "      <th>2</th>\n",
       "      <td>ABBV</td>\n",
       "      <td>Health Care</td>\n",
       "    </tr>\n",
       "    <tr>\n",
       "      <th>3</th>\n",
       "      <td>ACN</td>\n",
       "      <td>Information Technology</td>\n",
       "    </tr>\n",
       "    <tr>\n",
       "      <th>4</th>\n",
       "      <td>ATVI</td>\n",
       "      <td>Information Technology</td>\n",
       "    </tr>\n",
       "  </tbody>\n",
       "</table>\n",
       "</div>"
      ],
      "text/plain": [
       "  Ticker symbol             GICS Sector\n",
       "0           MMM             Industrials\n",
       "1           ABT             Health Care\n",
       "2          ABBV             Health Care\n",
       "3           ACN  Information Technology\n",
       "4          ATVI  Information Technology"
      ]
     },
     "execution_count": 20,
     "metadata": {},
     "output_type": "execute_result"
    }
   ],
   "source": [
    "sec = pd.read_csv('../data/securities.csv')\n",
    "sec = sec[['Ticker symbol', 'GICS Sector']]\n",
    "sec = sec.drop_duplicates()\n",
    "sec.head()"
   ]
  },
  {
   "cell_type": "code",
   "execution_count": 29,
   "metadata": {},
   "outputs": [
    {
     "data": {
      "text/plain": [
       "'book_events_total_view_2017-01-06'"
      ]
     },
     "execution_count": 29,
     "metadata": {},
     "output_type": "execute_result"
    }
   ],
   "source": [
    "# path_to_file = './csv/2017-01-03/'\n",
    "h5file_path = '../data/book_events_total_view_2017-01-06.h5'\n",
    "\n",
    "csv_file_name = h5file_path.split('/')[2].split('.')[0]\n",
    "csv_file_name"
   ]
  },
  {
   "cell_type": "code",
   "execution_count": 32,
   "metadata": {},
   "outputs": [],
   "source": [
    "start_time = time.time()\n",
    "csv_path_to_file = './csv/2017-01-06/'\n",
    "with h5py.File('../data/book_events_total_view_2017-01-06.h5', 'r') as f:\n",
    "    final_df = pd.DataFrame()\n",
    "    for key in list(f.keys()):\n",
    "#         path_to_file = './csv/2017-01-03/'\n",
    "#         key2 = key[1:]\n",
    "        if key in list(sec['Ticker symbol']):\n",
    "            print(key)\n",
    "            df = pd.DataFrame(f[key][:])\n",
    "            df = df[df['book_event_type']==b'T']\n",
    "            # get sector\n",
    "            sector = sec[sec['Ticker symbol'] == key]['GICS Sector'].iloc[0]\n",
    "            df['sector'] = sector\n",
    "            df['ticker'] = key\n",
    "#             path_to_file += sector\n",
    "#             if not os.path.exists(path_to_file):\n",
    "#                 os.mkdir(path_to_file)\n",
    "      \n",
    "\n",
    "      final_df = final_df.append(df)\n",
    "        \n",
    "final_df.to_csv('./data/'+ csv_file_name +'.csv')\n",
    "\n",
    "print(\"--- %s seconds ---\" % (time.time() - start_time))"
   ]
  }
 ],
 "metadata": {
  "kernelspec": {
   "display_name": "Python 3",
   "language": "python",
   "name": "python3"
  },
  "language_info": {
   "codemirror_mode": {
    "name": "ipython",
    "version": 3
   },
   "file_extension": ".py",
   "mimetype": "text/x-python",
   "name": "python",
   "nbconvert_exporter": "python",
   "pygments_lexer": "ipython3",
   "version": "3.6.8"
  }
 },
 "nbformat": 4,
 "nbformat_minor": 2
}
