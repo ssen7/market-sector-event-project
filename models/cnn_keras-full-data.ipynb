{
 "cells": [
  {
   "cell_type": "code",
   "execution_count": 60,
   "metadata": {},
   "outputs": [],
   "source": [
    "from math import sqrt\n",
    "from numpy import split\n",
    "from numpy import array\n",
    "from pandas import read_csv\n",
    "from sklearn.metrics import mean_squared_error\n",
    "from matplotlib import pyplot\n",
    "from keras.models import Sequential\n",
    "from keras.layers import Dense\n",
    "from keras.layers import Flatten\n",
    "from keras.layers.convolutional import Conv1D\n",
    "from keras.layers.convolutional import MaxPooling1D\n",
    "from keras.layers import Dropout\n",
    "\n",
    "import pandas as pd\n",
    "import numpy as np\n",
    "from sklearn.model_selection import train_test_split\n",
    "from sklearn.metrics import mean_squared_error\n",
    "\n",
    "from time import time\n",
    "from tensorflow.python.keras.callbacks import TensorBoard\n",
    "\n",
    "tensorboard = TensorBoard(log_dir='./final_logs/{}'.format(time()))"
   ]
  },
  {
   "cell_type": "markdown",
   "metadata": {},
   "source": [
    "## Reading in the data"
   ]
  },
  {
   "cell_type": "code",
   "execution_count": 2,
   "metadata": {},
   "outputs": [
    {
     "data": {
      "text/html": [
       "<div>\n",
       "<style scoped>\n",
       "    .dataframe tbody tr th:only-of-type {\n",
       "        vertical-align: middle;\n",
       "    }\n",
       "\n",
       "    .dataframe tbody tr th {\n",
       "        vertical-align: top;\n",
       "    }\n",
       "\n",
       "    .dataframe thead th {\n",
       "        text-align: right;\n",
       "    }\n",
       "</style>\n",
       "<table border=\"1\" class=\"dataframe\">\n",
       "  <thead>\n",
       "    <tr style=\"text-align: right;\">\n",
       "      <th></th>\n",
       "      <th>Unnamed: 0</th>\n",
       "      <th>height</th>\n",
       "      <th>width</th>\n",
       "      <th>distance</th>\n",
       "      <th>left_slope</th>\n",
       "      <th>right_slope</th>\n",
       "      <th>event_sector</th>\n",
       "      <th>target_sector</th>\n",
       "      <th>target_sector_average_price</th>\n",
       "    </tr>\n",
       "  </thead>\n",
       "  <tbody>\n",
       "    <tr>\n",
       "      <th>0</th>\n",
       "      <td>0</td>\n",
       "      <td>0.053152</td>\n",
       "      <td>0.000003</td>\n",
       "      <td>0.000000</td>\n",
       "      <td>0.113784</td>\n",
       "      <td>0.964781</td>\n",
       "      <td>Consumer Discretionary</td>\n",
       "      <td>Health Care</td>\n",
       "      <td>0.017173</td>\n",
       "    </tr>\n",
       "    <tr>\n",
       "      <th>1</th>\n",
       "      <td>0</td>\n",
       "      <td>0.089049</td>\n",
       "      <td>0.000023</td>\n",
       "      <td>0.016760</td>\n",
       "      <td>0.104410</td>\n",
       "      <td>0.992334</td>\n",
       "      <td>Consumer Discretionary</td>\n",
       "      <td>Health Care</td>\n",
       "      <td>0.116957</td>\n",
       "    </tr>\n",
       "    <tr>\n",
       "      <th>2</th>\n",
       "      <td>0</td>\n",
       "      <td>0.075720</td>\n",
       "      <td>0.000007</td>\n",
       "      <td>0.022346</td>\n",
       "      <td>0.033813</td>\n",
       "      <td>0.976758</td>\n",
       "      <td>Consumer Discretionary</td>\n",
       "      <td>Health Care</td>\n",
       "      <td>0.116957</td>\n",
       "    </tr>\n",
       "    <tr>\n",
       "      <th>3</th>\n",
       "      <td>0</td>\n",
       "      <td>0.023592</td>\n",
       "      <td>0.000005</td>\n",
       "      <td>0.044693</td>\n",
       "      <td>0.007957</td>\n",
       "      <td>0.964307</td>\n",
       "      <td>Consumer Discretionary</td>\n",
       "      <td>Health Care</td>\n",
       "      <td>0.231336</td>\n",
       "    </tr>\n",
       "    <tr>\n",
       "      <th>4</th>\n",
       "      <td>0</td>\n",
       "      <td>0.023596</td>\n",
       "      <td>0.000003</td>\n",
       "      <td>0.016760</td>\n",
       "      <td>0.014150</td>\n",
       "      <td>0.976824</td>\n",
       "      <td>Consumer Discretionary</td>\n",
       "      <td>Health Care</td>\n",
       "      <td>0.231336</td>\n",
       "    </tr>\n",
       "  </tbody>\n",
       "</table>\n",
       "</div>"
      ],
      "text/plain": [
       "   Unnamed: 0    height     width  distance  left_slope  right_slope  \\\n",
       "0           0  0.053152  0.000003  0.000000    0.113784     0.964781   \n",
       "1           0  0.089049  0.000023  0.016760    0.104410     0.992334   \n",
       "2           0  0.075720  0.000007  0.022346    0.033813     0.976758   \n",
       "3           0  0.023592  0.000005  0.044693    0.007957     0.964307   \n",
       "4           0  0.023596  0.000003  0.016760    0.014150     0.976824   \n",
       "\n",
       "             event_sector target_sector  target_sector_average_price  \n",
       "0  Consumer Discretionary   Health Care                     0.017173  \n",
       "1  Consumer Discretionary   Health Care                     0.116957  \n",
       "2  Consumer Discretionary   Health Care                     0.116957  \n",
       "3  Consumer Discretionary   Health Care                     0.231336  \n",
       "4  Consumer Discretionary   Health Care                     0.231336  "
      ]
     },
     "execution_count": 2,
     "metadata": {},
     "output_type": "execute_result"
    }
   ],
   "source": [
    "data = pd.read_csv('../data/events_prices/events_prices/Consumer Discretionary.csv')\n",
    "data.name = 'ConsumerDiscretion'\n",
    "data.head(5)"
   ]
  },
  {
   "cell_type": "code",
   "execution_count": 12,
   "metadata": {},
   "outputs": [
    {
     "data": {
      "text/html": [
       "<div>\n",
       "<style scoped>\n",
       "    .dataframe tbody tr th:only-of-type {\n",
       "        vertical-align: middle;\n",
       "    }\n",
       "\n",
       "    .dataframe tbody tr th {\n",
       "        vertical-align: top;\n",
       "    }\n",
       "\n",
       "    .dataframe thead th {\n",
       "        text-align: right;\n",
       "    }\n",
       "</style>\n",
       "<table border=\"1\" class=\"dataframe\">\n",
       "  <thead>\n",
       "    <tr style=\"text-align: right;\">\n",
       "      <th></th>\n",
       "      <th>height</th>\n",
       "      <th>width</th>\n",
       "      <th>distance</th>\n",
       "      <th>left_slope</th>\n",
       "      <th>right_slope</th>\n",
       "    </tr>\n",
       "  </thead>\n",
       "  <tbody>\n",
       "    <tr>\n",
       "      <th>0</th>\n",
       "      <td>0.053152</td>\n",
       "      <td>0.000003</td>\n",
       "      <td>0.000000</td>\n",
       "      <td>0.113784</td>\n",
       "      <td>0.964781</td>\n",
       "    </tr>\n",
       "    <tr>\n",
       "      <th>1</th>\n",
       "      <td>0.089049</td>\n",
       "      <td>0.000023</td>\n",
       "      <td>0.016760</td>\n",
       "      <td>0.104410</td>\n",
       "      <td>0.992334</td>\n",
       "    </tr>\n",
       "    <tr>\n",
       "      <th>2</th>\n",
       "      <td>0.075720</td>\n",
       "      <td>0.000007</td>\n",
       "      <td>0.022346</td>\n",
       "      <td>0.033813</td>\n",
       "      <td>0.976758</td>\n",
       "    </tr>\n",
       "    <tr>\n",
       "      <th>3</th>\n",
       "      <td>0.023592</td>\n",
       "      <td>0.000005</td>\n",
       "      <td>0.044693</td>\n",
       "      <td>0.007957</td>\n",
       "      <td>0.964307</td>\n",
       "    </tr>\n",
       "    <tr>\n",
       "      <th>4</th>\n",
       "      <td>0.023596</td>\n",
       "      <td>0.000003</td>\n",
       "      <td>0.016760</td>\n",
       "      <td>0.014150</td>\n",
       "      <td>0.976824</td>\n",
       "    </tr>\n",
       "  </tbody>\n",
       "</table>\n",
       "</div>"
      ],
      "text/plain": [
       "     height     width  distance  left_slope  right_slope\n",
       "0  0.053152  0.000003  0.000000    0.113784     0.964781\n",
       "1  0.089049  0.000023  0.016760    0.104410     0.992334\n",
       "2  0.075720  0.000007  0.022346    0.033813     0.976758\n",
       "3  0.023592  0.000005  0.044693    0.007957     0.964307\n",
       "4  0.023596  0.000003  0.016760    0.014150     0.976824"
      ]
     },
     "execution_count": 12,
     "metadata": {},
     "output_type": "execute_result"
    }
   ],
   "source": [
    "X = data.iloc[:, 1:6]\n",
    "X.head()"
   ]
  },
  {
   "cell_type": "code",
   "execution_count": 13,
   "metadata": {},
   "outputs": [
    {
     "data": {
      "text/plain": [
       "0    0.017173\n",
       "1    0.116957\n",
       "2    0.116957\n",
       "3    0.231336\n",
       "4    0.231336\n",
       "Name: target_sector_average_price, dtype: float64"
      ]
     },
     "execution_count": 13,
     "metadata": {},
     "output_type": "execute_result"
    }
   ],
   "source": [
    "y = data.iloc[:, -1]\n",
    "y.head()"
   ]
  },
  {
   "cell_type": "markdown",
   "metadata": {},
   "source": [
    "## Data Pre-processing\n",
    "\n",
    "We reshape the data for 1D convolution, with 5 features. We have variable **image_height**, which indicates the height of the convolution window. The default image height is 5.\n"
   ]
  },
  {
   "cell_type": "code",
   "execution_count": 39,
   "metadata": {},
   "outputs": [],
   "source": [
    "# reshapes data into n (len(data)/image_height) image_heightx5 data values.\n",
    "def split_reshape_dataset(X, y, image_height=5):\n",
    "    \n",
    "    X = X.sample(frac=0.05, random_state=100)\n",
    "    y = y.sample(frac=0.05, random_state=100)\n",
    "    X_train, X_test, y_train, y_test = train_test_split(X, y, test_size=0.2, random_state=1)\n",
    "    \n",
    "    X_train = make_dataset_whole(X_train,image_height)\n",
    "    X_test = make_dataset_whole(X_test,image_height)\n",
    "    y_train = make_dataset_whole(y_train,image_height)\n",
    "    y_test = make_dataset_whole(y_test,image_height)\n",
    "    \n",
    "    X_train = np.reshape(X_train.values, (-1, image_height, 5))\n",
    "    X_test = np.reshape(X_test.values, (-1, image_height, 5))\n",
    "    y_train = np.reshape(y_train.values, (-1, image_height))\n",
    "    y_test = np.reshape(y_test.values, (-1, image_height))\n",
    "    \n",
    "    return X_train, X_test, y_train, y_test\n",
    "\n",
    "# to make sure we have uniform sized images. \n",
    "# eg. If there are 161 rows of observations and we want to make predictions on 5 time steps each,\n",
    "# this will reduce the dataset to 160 observations as 160%5==0\n",
    "def make_dataset_whole(X, image_height=5):\n",
    "    X = X.reset_index(drop='index')\n",
    "    x_shape=X.shape[0]\n",
    "    i = x_shape%image_height\n",
    "    if i != 0:\n",
    "        X = X.drop(list(range(x_shape-1, x_shape-i-1,-1)),axis=0)\n",
    "    \n",
    "    return X"
   ]
  },
  {
   "cell_type": "markdown",
   "metadata": {},
   "source": [
    "## Split data into train and test"
   ]
  },
  {
   "cell_type": "code",
   "execution_count": 40,
   "metadata": {},
   "outputs": [
    {
     "data": {
      "text/plain": [
       "((1124, 5), (1124, 5, 5))"
      ]
     },
     "execution_count": 40,
     "metadata": {},
     "output_type": "execute_result"
    }
   ],
   "source": [
    "X_train, X_test, y_train, y_test = split_reshape_dataset(X,y)\n",
    "\n",
    "y_train.shape, X_train.shape"
   ]
  },
  {
   "cell_type": "code",
   "execution_count": 8,
   "metadata": {},
   "outputs": [],
   "source": [
    "data1 = pd.read_csv('../data/events_prices/events_prices/Consumer Discretionary.csv')"
   ]
  },
  {
   "cell_type": "code",
   "execution_count": 41,
   "metadata": {},
   "outputs": [],
   "source": [
    "def get_target_dfs(data):\n",
    "    df_list = []\n",
    "    event = str(data.event_sector[0])\n",
    "    for target in pd.unique(data.target_sector):\n",
    "        \n",
    "        target_name = str(target)\n",
    "        df = data[data.target_sector == target]\n",
    "        df.name = event+'-'+target_name\n",
    "        df_list.append(df)\n",
    "        \n",
    "    return df_list\n",
    "\n",
    "target_dflist = get_target_dfs(data1)"
   ]
  },
  {
   "cell_type": "code",
   "execution_count": 7,
   "metadata": {},
   "outputs": [],
   "source": []
  },
  {
   "cell_type": "markdown",
   "metadata": {},
   "source": [
    "## Build basic model using 1 1D convolution layer with kernel_size = 3"
   ]
  },
  {
   "cell_type": "code",
   "execution_count": 42,
   "metadata": {},
   "outputs": [],
   "source": [
    "def build_model(X_train, y_train):\n",
    "    verbose, epochs, batch_size = 0, 20, 4\n",
    "    n_timesteps, n_features, n_outputs = X_train.shape[1], X_train.shape[2], y_train.shape[1]\n",
    "    model = Sequential()\n",
    "    model.add(Conv1D(filters=16, kernel_size=2, activation='relu',\n",
    "                     input_shape=(n_timesteps, n_features)))\n",
    "    \n",
    "    model.add(MaxPooling1D(pool_size=2))\n",
    "    model.add(Flatten())\n",
    "    model.add(Dense(10, activation='relu'))\n",
    "    model.add(Dense(n_outputs))\n",
    "    model.compile(loss='mse', optimizer='adam')\n",
    "    model.fit(X_train, y_train, epochs=epochs,\n",
    "              batch_size=batch_size, verbose=verbose)\n",
    "    return model"
   ]
  },
  {
   "cell_type": "code",
   "execution_count": 43,
   "metadata": {},
   "outputs": [
    {
     "name": "stdout",
     "output_type": "stream",
     "text": [
      "0.0013794300178229424\n",
      "0.0012250820105853889\n",
      "0.0006843781874176421\n",
      "0.002825744763597792\n",
      "0.003363960698824228\n",
      "0.0012336542774464023\n",
      "0.0028413736164810384\n",
      "0.0031752534141794354\n",
      "0.003479179458192337\n",
      "0.014152756029514258\n",
      "{'Consumer Discretionary-Health Care': 0.0013794300178229424, 'Consumer Discretionary-Industrials': 0.0012250820105853889, 'Consumer Discretionary-Information Technology': 0.0006843781874176421, 'Consumer Discretionary-Consumer Staples': 0.002825744763597792, 'Consumer Discretionary-Utilities': 0.003363960698824228, 'Consumer Discretionary-Financials': 0.0012336542774464023, 'Consumer Discretionary-Real Estate': 0.0028413736164810384, 'Consumer Discretionary-Materials': 0.0031752534141794354, 'Consumer Discretionary-Energy': 0.003479179458192337, 'Consumer Discretionary-Telecommunications Services': 0.014152756029514258}\n"
     ]
    }
   ],
   "source": [
    "i = 0\n",
    "# target_dflist = [data1, data2, data3, data4, data5, data6]\n",
    "index = []\n",
    "cols = []\n",
    "mse_dict = {}\n",
    "while i < len(target_dflist):\n",
    "    data = target_dflist[i]\n",
    "    name = data.name\n",
    "    event_sector = name.split('-')[0]\n",
    "    target_sector = name.split('-')[1]\n",
    "    index+=[event_sector]\n",
    "    cols+=[target_sector]\n",
    "    X = data.iloc[:, 1:6]\n",
    "    y = data.iloc[:, -1]\n",
    "    X_train, X_test, y_train, y_test = split_reshape_dataset(X,y)\n",
    "    model = build_model(X_train, y_train)\n",
    "    y_pred = model.predict(X_test)\n",
    "    mse = mean_squared_error(y_test, y_pred)\n",
    "    mse_dict[name] = mse\n",
    "    print(mse)\n",
    "    i+=1\n",
    "print(mse_dict)"
   ]
  },
  {
   "cell_type": "code",
   "execution_count": 45,
   "metadata": {},
   "outputs": [
    {
     "data": {
      "text/plain": [
       "0.003436081247406146"
      ]
     },
     "execution_count": 45,
     "metadata": {},
     "output_type": "execute_result"
    }
   ],
   "source": [
    "# consumer_dict = pd.DataFrame(mse_dict)\n",
    "# consumer_dict.to_csv('CD_model1.csv')\n",
    "np.mean(list(mse_dict.values()))"
   ]
  },
  {
   "cell_type": "markdown",
   "metadata": {},
   "source": [
    "## Model with 2 convolution layers with kernel_size=2"
   ]
  },
  {
   "cell_type": "code",
   "execution_count": 48,
   "metadata": {},
   "outputs": [],
   "source": [
    "def build_model_2(X_train, y_train):\n",
    "    verbose, epochs, batch_size = 0, 20, 4\n",
    "    n_timesteps, n_features, n_outputs = X_train.shape[1], X_train.shape[2], y_train.shape[1]\n",
    "    # define model\n",
    "    model = Sequential()\n",
    "    model.add(Conv1D(filters=20, kernel_size=2, activation='relu',\n",
    "                     input_shape=(n_timesteps, n_features)))\n",
    "    model.add(Conv1D(filters=10, kernel_size=2, activation='relu'))\n",
    "    model.add(MaxPooling1D(pool_size=1))\n",
    "    model.add(Flatten())\n",
    "    model.add(Dense(100, activation='relu'))\n",
    "    model.add(Dense(n_outputs))\n",
    "    model.compile(loss='mse', optimizer='adam')\n",
    "    # fit network\n",
    "    model.fit(X_train, y_train, epochs=epochs,\n",
    "              batch_size=batch_size, verbose=verbose)\n",
    "    return model"
   ]
  },
  {
   "cell_type": "code",
   "execution_count": 49,
   "metadata": {},
   "outputs": [
    {
     "name": "stdout",
     "output_type": "stream",
     "text": [
      "0.00141969758149393\n",
      "0.0012219664118559704\n",
      "0.0006834738584785911\n",
      "0.0026699880355763508\n",
      "0.003395965483112876\n",
      "0.0013021739886564464\n",
      "0.0028086327098332635\n",
      "0.0032137529862367293\n",
      "0.003528651510155088\n",
      "0.014578122250404446\n",
      "{'Consumer Discretionary-Health Care': 0.00141969758149393, 'Consumer Discretionary-Industrials': 0.0012219664118559704, 'Consumer Discretionary-Information Technology': 0.0006834738584785911, 'Consumer Discretionary-Consumer Staples': 0.0026699880355763508, 'Consumer Discretionary-Utilities': 0.003395965483112876, 'Consumer Discretionary-Financials': 0.0013021739886564464, 'Consumer Discretionary-Real Estate': 0.0028086327098332635, 'Consumer Discretionary-Materials': 0.0032137529862367293, 'Consumer Discretionary-Energy': 0.003528651510155088, 'Consumer Discretionary-Telecommunications Services': 0.014578122250404446}\n"
     ]
    }
   ],
   "source": [
    "i = 0\n",
    "# target_dflist = [data1, data2, data3, data4, data5, data6]\n",
    "index = []\n",
    "cols = []\n",
    "mse_dict = {}\n",
    "while i < len(target_dflist):\n",
    "    data = target_dflist[i]\n",
    "    name = data.name\n",
    "    event_sector = name.split('-')[0]\n",
    "    target_sector = name.split('-')[1]\n",
    "    index+=[event_sector]\n",
    "    cols+=[target_sector]\n",
    "    X = data.iloc[:, 1:6]\n",
    "    y = data.iloc[:, -1]\n",
    "    X_train, X_test, y_train, y_test = split_reshape_dataset(X,y)\n",
    "    model = build_model_2(X_train, y_train)\n",
    "    y_pred = model.predict(X_test)\n",
    "    mse = mean_squared_error(y_test, y_pred)\n",
    "    mse_dict[name] = mse\n",
    "    print(mse)\n",
    "    i+=1\n",
    "print(mse_dict)"
   ]
  },
  {
   "cell_type": "markdown",
   "metadata": {},
   "source": [
    "## Changing the timestep size from 5 to 10 and building model with 3 convolution layers.\n",
    "\n",
    "## Increasing the timestep allows us to use more convolution layers."
   ]
  },
  {
   "cell_type": "code",
   "execution_count": 50,
   "metadata": {},
   "outputs": [],
   "source": [
    "def build_model_3(X_train, y_train):\n",
    "    verbose, epochs, batch_size = 0, 20, 4\n",
    "    n_timesteps, n_features, n_outputs = X_train.shape[1], X_train.shape[2], y_train.shape[1]\n",
    "    # define model\n",
    "    model = Sequential()\n",
    "    \n",
    "    model.add(Conv1D(filters=20, kernel_size=3, activation='relu',\n",
    "                     input_shape=(n_timesteps, n_features)))\n",
    "    model.add(Conv1D(filters=10, kernel_size=3, activation='relu'))\n",
    "    model.add(Dropout(0.2))\n",
    "    model.add(Conv1D(filters=5, kernel_size=3, activation='relu'))\n",
    "    model.add(MaxPooling1D(pool_size=1))\n",
    "    model.add(Flatten())\n",
    "    model.add(Dense(100, activation='relu'))\n",
    "    model.add(Dense(n_outputs))\n",
    "    model.compile(loss='mse', optimizer='adam')\n",
    "    # fit network\n",
    "    model.fit(X_train, y_train, epochs=epochs,\n",
    "              batch_size=batch_size, verbose=verbose, callbacks=[tensorboard])\n",
    "    return model"
   ]
  },
  {
   "cell_type": "markdown",
   "metadata": {},
   "source": [
    "### Testing the changed timestep size with build_model 2"
   ]
  },
  {
   "cell_type": "code",
   "execution_count": 53,
   "metadata": {},
   "outputs": [
    {
     "name": "stdout",
     "output_type": "stream",
     "text": [
      "0.001531568287631271\n",
      "0.00133000158947943\n",
      "0.000739482175976337\n",
      "0.0030756871047207617\n",
      "0.0035288014208112567\n",
      "0.0013566928827960854\n",
      "0.003003303418114345\n",
      "0.0034887569093828147\n",
      "0.003821921532877616\n",
      "0.015269900625870548\n",
      "{'Consumer Discretionary-Health Care': 0.001531568287631271, 'Consumer Discretionary-Industrials': 0.00133000158947943, 'Consumer Discretionary-Information Technology': 0.000739482175976337, 'Consumer Discretionary-Consumer Staples': 0.0030756871047207617, 'Consumer Discretionary-Utilities': 0.0035288014208112567, 'Consumer Discretionary-Financials': 0.0013566928827960854, 'Consumer Discretionary-Real Estate': 0.003003303418114345, 'Consumer Discretionary-Materials': 0.0034887569093828147, 'Consumer Discretionary-Energy': 0.003821921532877616, 'Consumer Discretionary-Telecommunications Services': 0.015269900625870548}\n"
     ]
    },
    {
     "data": {
      "text/plain": [
       "0.0037146115947660464"
      ]
     },
     "execution_count": 53,
     "metadata": {},
     "output_type": "execute_result"
    }
   ],
   "source": [
    "i = 0\n",
    "# target_dflist = [data1, data2, data3, data4, data5, data6]\n",
    "index = []\n",
    "cols = []\n",
    "mse_dict = {}\n",
    "while i < len(target_dflist):\n",
    "    data = target_dflist[i]\n",
    "    name = data.name\n",
    "    event_sector = name.split('-')[0]\n",
    "    target_sector = name.split('-')[1]\n",
    "    index+=[event_sector]\n",
    "    cols+=[target_sector]\n",
    "    X = data.iloc[:, 1:6]\n",
    "    y = data.iloc[:, -1]\n",
    "    X_train, X_test, y_train, y_test = split_reshape_dataset(X,y, image_height=10) ## change image height\n",
    "    model = build_model_2(X_train, y_train)\n",
    "    y_pred = model.predict(X_test)\n",
    "    mse = mean_squared_error(y_test, y_pred)\n",
    "    mse_dict[name] = mse\n",
    "    print(mse)\n",
    "    i+=1\n",
    "print(mse_dict)\n",
    "np.mean(list(mse_dict.values()))"
   ]
  },
  {
   "cell_type": "code",
   "execution_count": 54,
   "metadata": {},
   "outputs": [
    {
     "name": "stdout",
     "output_type": "stream",
     "text": [
      "0.0013897012092876646\n",
      "0.0012282276224936783\n",
      "0.0006891808668886771\n",
      "0.002681524017329346\n",
      "0.0031754255677073026\n",
      "0.0012258341006400892\n",
      "0.0028631484347698037\n",
      "0.0031624380596742864\n",
      "0.00365463521475482\n",
      "0.014358575152452768\n",
      "{'Consumer Discretionary-Health Care': 0.0013897012092876646, 'Consumer Discretionary-Industrials': 0.0012282276224936783, 'Consumer Discretionary-Information Technology': 0.0006891808668886771, 'Consumer Discretionary-Consumer Staples': 0.002681524017329346, 'Consumer Discretionary-Utilities': 0.0031754255677073026, 'Consumer Discretionary-Financials': 0.0012258341006400892, 'Consumer Discretionary-Real Estate': 0.0028631484347698037, 'Consumer Discretionary-Materials': 0.0031624380596742864, 'Consumer Discretionary-Energy': 0.00365463521475482, 'Consumer Discretionary-Telecommunications Services': 0.014358575152452768}\n"
     ]
    },
    {
     "data": {
      "text/plain": [
       "0.003442869024599844"
      ]
     },
     "execution_count": 54,
     "metadata": {},
     "output_type": "execute_result"
    }
   ],
   "source": [
    "## Final CNN\n",
    "## Testing with build_model_3\n",
    "i = 0\n",
    "# target_dflist = [data1, data2, data3, data4, data5, data6]\n",
    "index = []\n",
    "cols = []\n",
    "mse_dict = {}\n",
    "while i < len(target_dflist):\n",
    "    data = target_dflist[i]\n",
    "    name = data.name\n",
    "    event_sector = name.split('-')[0]\n",
    "    target_sector = name.split('-')[1]\n",
    "    index+=[event_sector]\n",
    "    cols+=[target_sector]\n",
    "    X = data.iloc[:, 1:6]\n",
    "    y = data.iloc[:, -1]\n",
    "    X_train, X_test, y_train, y_test = split_reshape_dataset(X,y, image_height=10) ## change image height\n",
    "    model = build_model_3(X_train, y_train)\n",
    "    y_pred = model.predict(X_test)\n",
    "    mse = mean_squared_error(y_test, y_pred)\n",
    "    mse_dict[name] = mse\n",
    "    print(mse)\n",
    "    i+=1\n",
    "print(mse_dict)\n",
    "np.mean(list(mse_dict.values()))"
   ]
  },
  {
   "cell_type": "code",
   "execution_count": 56,
   "metadata": {},
   "outputs": [],
   "source": [
    "# Using model 3 to build the rest of the models"
   ]
  },
  {
   "cell_type": "code",
   "execution_count": 57,
   "metadata": {},
   "outputs": [],
   "source": [
    "data2 = pd.read_csv('../data/events_prices/events_prices/Health Care.csv')\n",
    "data3 = pd.read_csv('../data/events_prices/events_prices/Industrials.csv')\n",
    "data4 = pd.read_csv('../data/events_prices/events_prices/Information Technology.csv')\n",
    "data5 = pd.read_csv('../data/events_prices/events_prices/Consumer Staples.csv')\n",
    "data6 = pd.read_csv('../data/events_prices/events_prices/Utilities.csv')\n",
    "data7 = pd.read_csv('../data/events_prices/events_prices/Financials.csv')\n",
    "data8 = pd.read_csv('../data/events_prices/events_prices/Real Estate.csv')\n",
    "data9 = pd.read_csv('../data/events_prices/events_prices/Materials.csv')\n",
    "data10 = pd.read_csv('../data/events_prices/events_prices/Energy.csv')\n",
    "data11 = pd.read_csv('../data/events_prices/events_prices/Telecommunications Services.csv')"
   ]
  },
  {
   "cell_type": "code",
   "execution_count": 64,
   "metadata": {},
   "outputs": [
    {
     "name": "stdout",
     "output_type": "stream",
     "text": [
      "0.0016250920525311939\n",
      "0.0004672604387827129\n",
      "0.000833812141797443\n",
      "0.003508558276847489\n",
      "0.015832987349681676\n",
      "0.0015141539542638841\n",
      "0.003542430118331546\n",
      "0.008642233142560265\n",
      "0.006283547740131405\n",
      "0.01822320931601045\n",
      "{'Health Care-Industrials': 0.0016250920525311939, 'Health Care-Consumer Discretionary': 0.0004672604387827129, 'Health Care-Information Technology': 0.000833812141797443, 'Health Care-Consumer Staples': 0.003508558276847489, 'Health Care-Utilities': 0.015832987349681676, 'Health Care-Financials': 0.0015141539542638841, 'Health Care-Real Estate': 0.003542430118331546, 'Health Care-Materials': 0.008642233142560265, 'Health Care-Energy': 0.006283547740131405, 'Health Care-Telecommunications Services': 0.01822320931601045}\n",
      "0.004128211788297582\n",
      "0.009811379833129099\n",
      "0.015226353591726425\n",
      "0.02196964008529944\n",
      "0.005030971330622363\n",
      "0.008021103911155092\n",
      "0.01220399748926228\n",
      "0.012592781085598307\n",
      "0.00651968950764536\n",
      "0.02191525428732087\n",
      "{'Industrials-Health Care': 0.004128211788297582, 'Industrials-Consumer Discretionary': 0.009811379833129099, 'Industrials-Information Technology': 0.015226353591726425, 'Industrials-Consumer Staples': 0.02196964008529944, 'Industrials-Utilities': 0.005030971330622363, 'Industrials-Financials': 0.008021103911155092, 'Industrials-Real Estate': 0.01220399748926228, 'Industrials-Materials': 0.012592781085598307, 'Industrials-Energy': 0.00651968950764536, 'Industrials-Telecommunications Services': 0.02191525428732087}\n",
      "0.0021094231609597005\n",
      "0.0014966809039124909\n",
      "0.0006140469702316802\n",
      "0.0021976376193593725\n",
      "0.004128799427857821\n",
      "0.0015964602918974262\n",
      "0.0030983784667063486\n",
      "0.0037150661664865072\n",
      "0.004098777754533012\n",
      "0.0164804978479686\n",
      "{'Information Technology-Health Care': 0.0021094231609597005, 'Information Technology-Industrials': 0.0014966809039124909, 'Information Technology-Consumer Discretionary': 0.0006140469702316802, 'Information Technology-Consumer Staples': 0.0021976376193593725, 'Information Technology-Utilities': 0.004128799427857821, 'Information Technology-Financials': 0.0015964602918974262, 'Information Technology-Real Estate': 0.0030983784667063486, 'Information Technology-Materials': 0.0037150661664865072, 'Information Technology-Energy': 0.004098777754533012, 'Information Technology-Telecommunications Services': 0.0164804978479686}\n",
      "0.002541418292726174\n",
      "0.0013927774535660014\n",
      "0.0032740630402920343\n",
      "0.0025838653457342423\n",
      "0.00534985757780348\n",
      "0.008545538195941806\n",
      "0.014483229104871783\n",
      "0.010978356041627682\n",
      "0.009734947349841993\n",
      "0.0199245735136948\n",
      "{'Consumer Staples-Health Care': 0.002541418292726174, 'Consumer Staples-Industrials': 0.0013927774535660014, 'Consumer Staples-Consumer Discretionary': 0.0032740630402920343, 'Consumer Staples-Information Technology': 0.0025838653457342423, 'Consumer Staples-Utilities': 0.00534985757780348, 'Consumer Staples-Financials': 0.008545538195941806, 'Consumer Staples-Real Estate': 0.014483229104871783, 'Consumer Staples-Materials': 0.010978356041627682, 'Consumer Staples-Energy': 0.009734947349841993, 'Consumer Staples-Telecommunications Services': 0.0199245735136948}\n",
      "0.026306170959088097\n",
      "0.015203299381349109\n",
      "0.012567131611400306\n",
      "0.013248560676599852\n",
      "0.02937116447477544\n",
      "0.015279588769971264\n",
      "0.015020060800220336\n",
      "0.012363393980201084\n",
      "0.021785671331862193\n",
      "0.02516357878163828\n",
      "{'Utilities-Health Care': 0.026306170959088097, 'Utilities-Industrials': 0.015203299381349109, 'Utilities-Consumer Discretionary': 0.012567131611400306, 'Utilities-Information Technology': 0.013248560676599852, 'Utilities-Consumer Staples': 0.02937116447477544, 'Utilities-Financials': 0.015279588769971264, 'Utilities-Real Estate': 0.015020060800220336, 'Utilities-Materials': 0.012363393980201084, 'Utilities-Energy': 0.021785671331862193, 'Utilities-Telecommunications Services': 0.02516357878163828}\n",
      "0.001662973201907708\n",
      "0.0012118727930675512\n",
      "0.0004516403614309868\n",
      "0.0008555696250619789\n",
      "0.0031322970633407424\n",
      "0.0037391689387088825\n",
      "0.0033001492973478326\n",
      "0.004211818397256937\n",
      "0.003757377770301161\n",
      "0.016069913124586704\n",
      "{'Financials-Health Care': 0.001662973201907708, 'Financials-Industrials': 0.0012118727930675512, 'Financials-Consumer Discretionary': 0.0004516403614309868, 'Financials-Information Technology': 0.0008555696250619789, 'Financials-Consumer Staples': 0.0031322970633407424, 'Financials-Utilities': 0.0037391689387088825, 'Financials-Real Estate': 0.0033001492973478326, 'Financials-Materials': 0.004211818397256937, 'Financials-Energy': 0.003757377770301161, 'Financials-Telecommunications Services': 0.016069913124586704}\n",
      "0.01643455745986306\n",
      "0.01848374561280098\n",
      "0.005308861406346567\n",
      "0.019282168035264034\n",
      "0.022327212189147294\n",
      "0.013291404162795475\n",
      "0.01919268894643299\n",
      "0.01501797586731228\n",
      "0.01342089058314582\n",
      "0.021222111012802306\n",
      "{'Real Estate-Health Care': 0.01643455745986306, 'Real Estate-Industrials': 0.01848374561280098, 'Real Estate-Consumer Discretionary': 0.005308861406346567, 'Real Estate-Information Technology': 0.019282168035264034, 'Real Estate-Consumer Staples': 0.022327212189147294, 'Real Estate-Utilities': 0.013291404162795475, 'Real Estate-Financials': 0.01919268894643299, 'Real Estate-Materials': 0.01501797586731228, 'Real Estate-Energy': 0.01342089058314582, 'Real Estate-Telecommunications Services': 0.021222111012802306}\n",
      "0.0019642443053820543\n",
      "0.001453604814128653\n",
      "0.0016811410748043426\n",
      "0.000724825485796534\n",
      "0.013533803147154832\n",
      "0.005256104828350456\n",
      "0.0017920637377698257\n",
      "0.018570229593399917\n",
      "0.005557248714909959\n",
      "0.011134648026103321\n",
      "{'Materials-Health Care': 0.0019642443053820543, 'Materials-Industrials': 0.001453604814128653, 'Materials-Consumer Discretionary': 0.0016811410748043426, 'Materials-Information Technology': 0.000724825485796534, 'Materials-Consumer Staples': 0.013533803147154832, 'Materials-Utilities': 0.005256104828350456, 'Materials-Financials': 0.0017920637377698257, 'Materials-Real Estate': 0.018570229593399917, 'Materials-Energy': 0.005557248714909959, 'Materials-Telecommunications Services': 0.011134648026103321}\n",
      "0.0017253366948771314\n",
      "0.00455703755987952\n",
      "0.0015470081702655114\n",
      "0.0017352859742701808\n",
      "0.007812324208202953\n",
      "0.01630488548022751\n",
      "0.006959619562543587\n",
      "0.003115695983210304\n",
      "0.012043241220583091\n",
      "0.017954016775271732\n",
      "{'Energy-Health Care': 0.0017253366948771314, 'Energy-Industrials': 0.00455703755987952, 'Energy-Consumer Discretionary': 0.0015470081702655114, 'Energy-Information Technology': 0.0017352859742701808, 'Energy-Consumer Staples': 0.007812324208202953, 'Energy-Utilities': 0.01630488548022751, 'Energy-Financials': 0.006959619562543587, 'Energy-Real Estate': 0.003115695983210304, 'Energy-Materials': 0.012043241220583091, 'Energy-Telecommunications Services': 0.017954016775271732}\n",
      "0.027670111138989085\n",
      "0.004577227780551597\n",
      "0.004390954114795742\n",
      "0.008906549347284222\n",
      "0.028584628784195498\n",
      "0.009890382009338384\n",
      "0.0030629506609043755\n",
      "0.013951367360759831\n",
      "0.025019314243233847\n",
      "0.005739424852682319\n",
      "{'Telecommunications Services-Health Care': 0.027670111138989085, 'Telecommunications Services-Industrials': 0.004577227780551597, 'Telecommunications Services-Consumer Discretionary': 0.004390954114795742, 'Telecommunications Services-Information Technology': 0.008906549347284222, 'Telecommunications Services-Consumer Staples': 0.028584628784195498, 'Telecommunications Services-Utilities': 0.009890382009338384, 'Telecommunications Services-Financials': 0.0030629506609043755, 'Telecommunications Services-Real Estate': 0.013951367360759831, 'Telecommunications Services-Materials': 0.025019314243233847, 'Telecommunications Services-Energy': 0.005739424852682319}\n"
     ]
    }
   ],
   "source": [
    "dataList = [data2, data3, data4, data5, data6, data7, data8, data9, data10, data11]\n",
    "mse_list = []\n",
    "\n",
    "for df in dataList:\n",
    "    target_dflist = get_target_dfs(df)\n",
    "    i = 0\n",
    "    # target_dflist = [data1, data2, data3, data4, data5, data6]\n",
    "    index = []\n",
    "    cols = []\n",
    "    mse_dict = {}\n",
    "    while i < len(target_dflist):\n",
    "        data = target_dflist[i]\n",
    "        name = data.name\n",
    "        event_sector = name.split('-')[0]\n",
    "        target_sector = name.split('-')[1]\n",
    "        index+=[event_sector]\n",
    "        cols+=[target_sector]\n",
    "        X = data.iloc[:, 1:6]\n",
    "        y = data.iloc[:, -1]\n",
    "        X_train, X_test, y_train, y_test = split_reshape_dataset(X,y, image_height=10) ## change image height\n",
    "        model = build_model_2(X_train, y_train)\n",
    "        y_pred = model.predict(X_test)\n",
    "        mse = mean_squared_error(y_test, y_pred)\n",
    "        mse_dict[name] = mse\n",
    "        print(mse)\n",
    "        i+=1\n",
    "    print(mse_dict)\n",
    "    mse_list.append(mse_dict)\n",
    "#     np.mean(list(mse_dict.values()))\n",
    "    \n",
    "    "
   ]
  }
 ],
 "metadata": {
  "kernelspec": {
   "display_name": "Python 3",
   "language": "python",
   "name": "python3"
  },
  "language_info": {
   "codemirror_mode": {
    "name": "ipython",
    "version": 3
   },
   "file_extension": ".py",
   "mimetype": "text/x-python",
   "name": "python",
   "nbconvert_exporter": "python",
   "pygments_lexer": "ipython3",
   "version": "3.6.8"
  }
 },
 "nbformat": 4,
 "nbformat_minor": 2
}
