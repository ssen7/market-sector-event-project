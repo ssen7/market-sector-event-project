{
 "cells": [
  {
   "cell_type": "code",
   "execution_count": 2,
   "metadata": {},
   "outputs": [],
   "source": [
    "import pandas as pd\n",
    "import numpy as np\n",
    "import matplotlib.pyplot as plt"
   ]
  },
  {
   "cell_type": "code",
   "execution_count": 1,
   "metadata": {},
   "outputs": [
    {
     "name": "stderr",
     "output_type": "stream",
     "text": [
      "Using TensorFlow backend.\n"
     ]
    }
   ],
   "source": [
    "from math import sqrt\n",
    "from numpy import concatenate\n",
    "from matplotlib import pyplot\n",
    "from pandas import read_csv\n",
    "from pandas import DataFrame\n",
    "from pandas import concat\n",
    "from sklearn.preprocessing import MinMaxScaler\n",
    "from sklearn.preprocessing import LabelEncoder\n",
    "from sklearn.metrics import mean_squared_error\n",
    "from keras.models import Sequential\n",
    "from keras.layers import Dense\n",
    "from keras.layers import LSTM\n",
    "from sklearn.pipeline import Pipeline\n",
    "from sklearn import datasets, linear_model\n",
    "from sklearn.model_selection import cross_validate\n",
    "from sklearn.model_selection import train_test_split"
   ]
  },
  {
   "cell_type": "markdown",
   "metadata": {},
   "source": [
    "## Data Pre-processing\n",
    "\n",
    "We reshape the data for 1D convolution, with 5 features. We have variable **image_height**, which indicates the height of the convolution window. The default image height is 5.\n"
   ]
  },
  {
   "cell_type": "code",
   "execution_count": 27,
   "metadata": {},
   "outputs": [],
   "source": [
    "# reshapes data into n (len(data)/image_height) image_heightx5 data values.\n",
    "def split_reshape_dataset(X, y, image_height=1):\n",
    "    \n",
    "    X = X.sample(frac=0.05, random_state=100)\n",
    "    y = y.sample(frac=0.05, random_state=100)\n",
    "    X_train, X_test, y_train, y_test = train_test_split(X, y, test_size=0.2, random_state=1)\n",
    "    \n",
    "    X_train = make_dataset_whole(X_train,image_height)\n",
    "    X_test = make_dataset_whole(X_test,image_height)\n",
    "    y_train = make_dataset_whole(y_train,image_height)\n",
    "    y_test = make_dataset_whole(y_test,image_height)\n",
    "    \n",
    "    X_train = np.reshape(X_train.values, (-1, image_height, 5))\n",
    "    X_test = np.reshape(X_test.values, (-1, image_height, 5))\n",
    "    y_train = np.reshape(y_train.values, (-1, image_height))\n",
    "    y_test = np.reshape(y_test.values, (-1, image_height))\n",
    "    \n",
    "    return X_train, X_test, y_train, y_test\n",
    "\n",
    "# to make sure we have uniform sized images. \n",
    "# eg. If there are 161 rows of observations and we want to make predictions on 5 time steps each,\n",
    "# this will reduce the dataset to 160 observations as 160%5==0\n",
    "def make_dataset_whole(X, image_height=1):\n",
    "    X = X.reset_index(drop='index')\n",
    "    x_shape=X.shape[0]\n",
    "    i = x_shape%image_height\n",
    "    if i != 0:\n",
    "        X = X.drop(list(range(x_shape-1, x_shape-i-1,-1)),axis=0)\n",
    "    \n",
    "    return X"
   ]
  },
  {
   "cell_type": "markdown",
   "metadata": {},
   "source": [
    "## Split data into train and test"
   ]
  },
  {
   "cell_type": "code",
   "execution_count": 28,
   "metadata": {},
   "outputs": [],
   "source": [
    "data1 = pd.read_csv('../data/events_prices/events_prices/Consumer Discretionary.csv')"
   ]
  },
  {
   "cell_type": "code",
   "execution_count": 29,
   "metadata": {},
   "outputs": [
    {
     "data": {
      "text/plain": [
       "((56236, 1), (56236, 1, 5))"
      ]
     },
     "execution_count": 29,
     "metadata": {},
     "output_type": "execute_result"
    }
   ],
   "source": [
    "y = data1.iloc[:, -1]\n",
    "y.head()\n",
    "X = data1.iloc[:, 1:6]\n",
    "X.head()\n",
    "X_train, X_test, y_train, y_test = split_reshape_dataset(X,y)\n",
    "\n",
    "y_train.shape, X_train.shape"
   ]
  },
  {
   "cell_type": "code",
   "execution_count": 6,
   "metadata": {},
   "outputs": [],
   "source": [
    "def get_target_dfs(data):\n",
    "    df_list = []\n",
    "    event = str(data.event_sector[0])\n",
    "    for target in pd.unique(data.target_sector):\n",
    "        \n",
    "        target_name = str(target)\n",
    "        df = data[data.target_sector == target]\n",
    "        df.name = event+'-'+target_name\n",
    "        df_list.append(df)\n",
    "        \n",
    "    return df_list\n",
    "\n",
    "target_dflist = get_target_dfs(data1)"
   ]
  },
  {
   "cell_type": "code",
   "execution_count": 14,
   "metadata": {},
   "outputs": [
    {
     "name": "stdout",
     "output_type": "stream",
     "text": [
      "(140, 1, 5) (140,) (36, 1, 5) (36,)\n"
     ]
    }
   ],
   "source": [
    "# reshape input to be 3D [samples, timesteps, features]\n",
    "X_train = X_train.reshape((X_train.shape[0], 1, X_train.shape[1]))\n",
    "X_test = X_test.reshape((X_test.shape[0], 1, X_test.shape[1]))\n",
    "print(X_train.shape, Y_train.shape, X_test.shape, Y_test.shape)"
   ]
  },
  {
   "cell_type": "code",
   "execution_count": 30,
   "metadata": {},
   "outputs": [],
   "source": [
    "def build_model(X_train, y_train):\n",
    "    verbose, epochs, batch_size = 0, 20, 4\n",
    "    n_timesteps, n_features, n_outputs = X_train.shape[1], X_train.shape[2], y_train.shape[1]\n",
    "    model = Sequential()\n",
    "    model.add(LSTM(50, input_shape=(X_train.shape[1], X_train.shape[2])))\n",
    "    model.add(Dense(1))\n",
    "    model.compile(loss='mse', optimizer='adam')\n",
    "    model.fit(X_train, y_train, epochs=50, batch_size=72, verbose=verbose)\n",
    "    return model\n",
    "# design network\n",
    "# model = Sequential()\n",
    "# model.add(LSTM(50, input_shape=(X_train.shape[1], X_train.shape[2])))\n",
    "# model.add(Dense(1))\n",
    "# model.compile(loss='mse', optimizer='adam')\n"
   ]
  },
  {
   "cell_type": "code",
   "execution_count": 31,
   "metadata": {},
   "outputs": [
    {
     "name": "stdout",
     "output_type": "stream",
     "text": [
      "0.0013475841828293005\n",
      "0.0011941526287744305\n",
      "0.0006828516869340578\n",
      "0.002593099310043047\n",
      "0.0031566117989556344\n",
      "0.0011641522857340511\n",
      "0.002740759282949725\n",
      "0.0030957454166181207\n",
      "0.0033746116717441664\n",
      "0.013825772684224847\n",
      "{'Consumer Discretionary-Health Care': 0.0013475841828293005, 'Consumer Discretionary-Industrials': 0.0011941526287744305, 'Consumer Discretionary-Information Technology': 0.0006828516869340578, 'Consumer Discretionary-Consumer Staples': 0.002593099310043047, 'Consumer Discretionary-Utilities': 0.0031566117989556344, 'Consumer Discretionary-Financials': 0.0011641522857340511, 'Consumer Discretionary-Real Estate': 0.002740759282949725, 'Consumer Discretionary-Materials': 0.0030957454166181207, 'Consumer Discretionary-Energy': 0.0033746116717441664, 'Consumer Discretionary-Telecommunications Services': 0.013825772684224847}\n"
     ]
    }
   ],
   "source": [
    "i = 0\n",
    "# target_dflist = [data1, data2, data3, data4, data5, data6]\n",
    "index = []\n",
    "cols = []\n",
    "mse_dict = {}\n",
    "while i < len(target_dflist):\n",
    "    data = target_dflist[i]\n",
    "    name = data.name\n",
    "    event_sector = name.split('-')[0]\n",
    "    target_sector = name.split('-')[1]\n",
    "    index+=[event_sector]\n",
    "    cols+=[target_sector]\n",
    "    X = data.iloc[:, 1:6]\n",
    "    y = data.iloc[:, -1]\n",
    "    X_train, X_test, y_train, y_test = split_reshape_dataset(X,y)\n",
    "    model = build_model(X_train, y_train)\n",
    "    y_pred = model.predict(X_test)\n",
    "    mse = mean_squared_error(y_test, y_pred)\n",
    "    mse_dict[name] = mse\n",
    "    print(mse)\n",
    "    i+=1\n",
    "print(mse_dict)"
   ]
  },
  {
   "cell_type": "code",
   "execution_count": 35,
   "metadata": {},
   "outputs": [
    {
     "data": {
      "text/plain": [
       "0.003317534094880738"
      ]
     },
     "execution_count": 35,
     "metadata": {},
     "output_type": "execute_result"
    }
   ],
   "source": [
    "np.mean(list(mse_dict.values()))"
   ]
  },
  {
   "cell_type": "code",
   "execution_count": 22,
   "metadata": {},
   "outputs": [
    {
     "name": "stdout",
     "output_type": "stream",
     "text": [
      "Train on 1124 samples, validate on 281 samples\n",
      "Epoch 1/50\n",
      " - 0s - loss: 0.0153 - val_loss: 0.0142\n",
      "Epoch 2/50\n",
      " - 0s - loss: 0.0153 - val_loss: 0.0142\n",
      "Epoch 3/50\n",
      " - 0s - loss: 0.0153 - val_loss: 0.0142\n",
      "Epoch 4/50\n",
      " - 0s - loss: 0.0153 - val_loss: 0.0142\n",
      "Epoch 5/50\n",
      " - 0s - loss: 0.0153 - val_loss: 0.0142\n",
      "Epoch 6/50\n",
      " - 0s - loss: 0.0153 - val_loss: 0.0142\n",
      "Epoch 7/50\n",
      " - 0s - loss: 0.0153 - val_loss: 0.0142\n",
      "Epoch 8/50\n",
      " - 0s - loss: 0.0153 - val_loss: 0.0142\n",
      "Epoch 9/50\n",
      " - 0s - loss: 0.0153 - val_loss: 0.0142\n",
      "Epoch 10/50\n",
      " - 0s - loss: 0.0153 - val_loss: 0.0142\n",
      "Epoch 11/50\n",
      " - 0s - loss: 0.0153 - val_loss: 0.0142\n",
      "Epoch 12/50\n",
      " - 0s - loss: 0.0153 - val_loss: 0.0142\n",
      "Epoch 13/50\n",
      " - 0s - loss: 0.0153 - val_loss: 0.0142\n",
      "Epoch 14/50\n",
      " - 0s - loss: 0.0153 - val_loss: 0.0142\n",
      "Epoch 15/50\n",
      " - 0s - loss: 0.0153 - val_loss: 0.0142\n",
      "Epoch 16/50\n",
      " - 0s - loss: 0.0153 - val_loss: 0.0142\n",
      "Epoch 17/50\n",
      " - 0s - loss: 0.0153 - val_loss: 0.0142\n",
      "Epoch 18/50\n",
      " - 0s - loss: 0.0153 - val_loss: 0.0142\n",
      "Epoch 19/50\n",
      " - 0s - loss: 0.0153 - val_loss: 0.0142\n",
      "Epoch 20/50\n",
      " - 0s - loss: 0.0153 - val_loss: 0.0142\n",
      "Epoch 21/50\n",
      " - 0s - loss: 0.0153 - val_loss: 0.0142\n",
      "Epoch 22/50\n",
      " - 0s - loss: 0.0153 - val_loss: 0.0142\n",
      "Epoch 23/50\n",
      " - 0s - loss: 0.0153 - val_loss: 0.0142\n",
      "Epoch 24/50\n",
      " - 0s - loss: 0.0153 - val_loss: 0.0142\n",
      "Epoch 25/50\n",
      " - 0s - loss: 0.0153 - val_loss: 0.0142\n",
      "Epoch 26/50\n",
      " - 0s - loss: 0.0153 - val_loss: 0.0142\n",
      "Epoch 27/50\n",
      " - 0s - loss: 0.0153 - val_loss: 0.0142\n",
      "Epoch 28/50\n",
      " - 0s - loss: 0.0153 - val_loss: 0.0142\n",
      "Epoch 29/50\n",
      " - 0s - loss: 0.0153 - val_loss: 0.0142\n",
      "Epoch 30/50\n",
      " - 0s - loss: 0.0153 - val_loss: 0.0142\n",
      "Epoch 31/50\n",
      " - 0s - loss: 0.0153 - val_loss: 0.0142\n",
      "Epoch 32/50\n",
      " - 0s - loss: 0.0153 - val_loss: 0.0142\n",
      "Epoch 33/50\n",
      " - 0s - loss: 0.0153 - val_loss: 0.0142\n",
      "Epoch 34/50\n",
      " - 0s - loss: 0.0153 - val_loss: 0.0142\n",
      "Epoch 35/50\n",
      " - 0s - loss: 0.0153 - val_loss: 0.0142\n",
      "Epoch 36/50\n",
      " - 0s - loss: 0.0153 - val_loss: 0.0142\n",
      "Epoch 37/50\n",
      " - 0s - loss: 0.0153 - val_loss: 0.0142\n",
      "Epoch 38/50\n",
      " - 0s - loss: 0.0153 - val_loss: 0.0142\n",
      "Epoch 39/50\n",
      " - 0s - loss: 0.0153 - val_loss: 0.0142\n",
      "Epoch 40/50\n",
      " - 0s - loss: 0.0153 - val_loss: 0.0142\n",
      "Epoch 41/50\n",
      " - 0s - loss: 0.0153 - val_loss: 0.0142\n",
      "Epoch 42/50\n",
      " - 0s - loss: 0.0153 - val_loss: 0.0142\n",
      "Epoch 43/50\n",
      " - 0s - loss: 0.0153 - val_loss: 0.0142\n",
      "Epoch 44/50\n",
      " - 0s - loss: 0.0152 - val_loss: 0.0142\n",
      "Epoch 45/50\n",
      " - 0s - loss: 0.0152 - val_loss: 0.0142\n",
      "Epoch 46/50\n",
      " - 0s - loss: 0.0152 - val_loss: 0.0142\n",
      "Epoch 47/50\n",
      " - 0s - loss: 0.0152 - val_loss: 0.0142\n",
      "Epoch 48/50\n",
      " - 0s - loss: 0.0152 - val_loss: 0.0142\n",
      "Epoch 49/50\n",
      " - 0s - loss: 0.0152 - val_loss: 0.0142\n",
      "Epoch 50/50\n",
      " - 0s - loss: 0.0152 - val_loss: 0.0142\n"
     ]
    }
   ],
   "source": [
    "# fit network\n",
    "history = model.fit(X_train, y_train, epochs=50, batch_size=72, validation_data=(X_test, y_test), verbose=2, shuffle=False)"
   ]
  },
  {
   "cell_type": "code",
   "execution_count": 23,
   "metadata": {},
   "outputs": [
    {
     "data": {
      "image/png": "[encoded data removed]",
      "text/plain": [
       "<Figure size 432x288 with 1 Axes>"
      ]
     },
     "metadata": {
      "needs_background": "light"
     },
     "output_type": "display_data"
    }
   ],
   "source": [
    "# plot history\n",
    "pyplot.plot(history.history['loss'], label='train')\n",
    "pyplot.plot(history.history['val_loss'], label='test')\n",
    "pyplot.legend()\n",
    "pyplot.show()"
   ]
  },
  {
   "cell_type": "code",
   "execution_count": 24,
   "metadata": {},
   "outputs": [],
   "source": [
    "yhat = model.predict(X_test)"
   ]
  },
  {
   "cell_type": "code",
   "execution_count": 26,
   "metadata": {},
   "outputs": [
    {
     "name": "stdout",
     "output_type": "stream",
     "text": [
      "Test RMSE: 0.119\n"
     ]
    }
   ],
   "source": [
    "rmse = sqrt(mean_squared_error(y_test, yhat))\n",
    "print('Test RMSE: %.3f' % rmse)"
   ]
  },
  {
   "cell_type": "code",
   "execution_count": null,
   "metadata": {},
   "outputs": [],
   "source": [
    "def build_model(X_train, y_train):\n",
    "    verbose, epochs, batch_size = 0, 20, 4\n",
    "    n_timesteps, n_features, n_outputs = X_train.shape[1], X_train.shape[2], y_train.shape[1]\n",
    "    model = Sequential()\n",
    "    model.add(LSTM(50, return_sequences = True, input_shape=(X_train.shape[1], X_train.shape[2])))\n",
    "    model.add(LSTM(300, return_sequences = True))\n",
    "    model.add(LSTM(800))\n",
    "    model.add(Dense(1))\n",
    "    model.compile(loss='mse', optimizer='adam')\n",
    "    model.fit(X_train, y_train, epochs=50, batch_size=72, verbose=verbose)\n",
    "    return model"
   ]
  },
  {
   "cell_type": "markdown",
   "metadata": {},
   "source": [
    "Financial -- Information Technology"
   ]
  },
  {
   "cell_type": "code",
   "execution_count": 22,
   "metadata": {},
   "outputs": [],
   "source": [
    "f_it = f.loc[f['target_sector'] == \"Information Technology\"]"
   ]
  },
  {
   "cell_type": "code",
   "execution_count": 23,
   "metadata": {},
   "outputs": [
    {
     "data": {
      "text/html": [
       "<div>\n",
       "<style scoped>\n",
       "    .dataframe tbody tr th:only-of-type {\n",
       "        vertical-align: middle;\n",
       "    }\n",
       "\n",
       "    .dataframe tbody tr th {\n",
       "        vertical-align: top;\n",
       "    }\n",
       "\n",
       "    .dataframe thead th {\n",
       "        text-align: right;\n",
       "    }\n",
       "</style>\n",
       "<table border=\"1\" class=\"dataframe\">\n",
       "  <thead>\n",
       "    <tr style=\"text-align: right;\">\n",
       "      <th></th>\n",
       "      <th>height</th>\n",
       "      <th>width</th>\n",
       "      <th>distance</th>\n",
       "      <th>left_slope</th>\n",
       "      <th>right_slope</th>\n",
       "      <th>event_sector</th>\n",
       "      <th>target_sector</th>\n",
       "      <th>target_sector_average_price</th>\n",
       "    </tr>\n",
       "    <tr>\n",
       "      <th>index</th>\n",
       "      <th></th>\n",
       "      <th></th>\n",
       "      <th></th>\n",
       "      <th></th>\n",
       "      <th></th>\n",
       "      <th></th>\n",
       "      <th></th>\n",
       "      <th></th>\n",
       "    </tr>\n",
       "  </thead>\n",
       "  <tbody>\n",
       "    <tr>\n",
       "      <th>176</th>\n",
       "      <td>0.427034</td>\n",
       "      <td>0.000715</td>\n",
       "      <td>0.000000</td>\n",
       "      <td>1.000000</td>\n",
       "      <td>0.709326</td>\n",
       "      <td>Financials</td>\n",
       "      <td>Information Technology</td>\n",
       "      <td>0.485373</td>\n",
       "    </tr>\n",
       "    <tr>\n",
       "      <th>177</th>\n",
       "      <td>0.603930</td>\n",
       "      <td>0.010153</td>\n",
       "      <td>0.047619</td>\n",
       "      <td>0.025634</td>\n",
       "      <td>0.889386</td>\n",
       "      <td>Financials</td>\n",
       "      <td>Information Technology</td>\n",
       "      <td>0.485373</td>\n",
       "    </tr>\n",
       "    <tr>\n",
       "      <th>178</th>\n",
       "      <td>0.295572</td>\n",
       "      <td>0.000050</td>\n",
       "      <td>0.037879</td>\n",
       "      <td>0.005847</td>\n",
       "      <td>0.909873</td>\n",
       "      <td>Financials</td>\n",
       "      <td>Information Technology</td>\n",
       "      <td>0.485373</td>\n",
       "    </tr>\n",
       "    <tr>\n",
       "      <th>179</th>\n",
       "      <td>0.387765</td>\n",
       "      <td>0.000742</td>\n",
       "      <td>0.022727</td>\n",
       "      <td>0.004625</td>\n",
       "      <td>0.958728</td>\n",
       "      <td>Financials</td>\n",
       "      <td>Information Technology</td>\n",
       "      <td>0.485373</td>\n",
       "    </tr>\n",
       "    <tr>\n",
       "      <th>180</th>\n",
       "      <td>0.387001</td>\n",
       "      <td>0.000110</td>\n",
       "      <td>0.002165</td>\n",
       "      <td>0.008202</td>\n",
       "      <td>0.943096</td>\n",
       "      <td>Financials</td>\n",
       "      <td>Information Technology</td>\n",
       "      <td>0.485373</td>\n",
       "    </tr>\n",
       "  </tbody>\n",
       "</table>\n",
       "</div>"
      ],
      "text/plain": [
       "         height     width  distance  left_slope  right_slope event_sector  \\\n",
       "index                                                                       \n",
       "176    0.427034  0.000715  0.000000    1.000000     0.709326   Financials   \n",
       "177    0.603930  0.010153  0.047619    0.025634     0.889386   Financials   \n",
       "178    0.295572  0.000050  0.037879    0.005847     0.909873   Financials   \n",
       "179    0.387765  0.000742  0.022727    0.004625     0.958728   Financials   \n",
       "180    0.387001  0.000110  0.002165    0.008202     0.943096   Financials   \n",
       "\n",
       "                target_sector  target_sector_average_price  \n",
       "index                                                       \n",
       "176    Information Technology                     0.485373  \n",
       "177    Information Technology                     0.485373  \n",
       "178    Information Technology                     0.485373  \n",
       "179    Information Technology                     0.485373  \n",
       "180    Information Technology                     0.485373  "
      ]
     },
     "execution_count": 23,
     "metadata": {},
     "output_type": "execute_result"
    }
   ],
   "source": [
    "f_it.head()"
   ]
  },
  {
   "cell_type": "code",
   "execution_count": 24,
   "metadata": {},
   "outputs": [],
   "source": [
    "X = f_it[['height', 'width', 'distance', 'left_slope', 'right_slope']]\n",
    "Y = f_it['target_sector_average_price']\n",
    "X = X.values\n",
    "Y = Y.values\n",
    "#Test size?\n",
    "X_train, X_test, Y_train, Y_test = train_test_split(X, Y, test_size=0.2, random_state=42)"
   ]
  },
  {
   "cell_type": "code",
   "execution_count": 25,
   "metadata": {},
   "outputs": [
    {
     "name": "stdout",
     "output_type": "stream",
     "text": [
      "(140, 1, 5) (140,) (36, 1, 5) (36,)\n"
     ]
    }
   ],
   "source": [
    "# reshape input to be 3D [samples, timesteps, features]\n",
    "X_train = X_train.reshape((X_train.shape[0], 1, X_train.shape[1]))\n",
    "X_test = X_test.reshape((X_test.shape[0], 1, X_test.shape[1]))\n",
    "print(X_train.shape, Y_train.shape, X_test.shape, Y_test.shape)"
   ]
  },
  {
   "cell_type": "code",
   "execution_count": 28,
   "metadata": {},
   "outputs": [],
   "source": [
    "# design network\n",
    "model = Sequential()\n",
    "model.add(LSTM(50, input_shape=(X_train.shape[1], X_train.shape[2])))\n",
    "model.add(Dense(1))\n",
    "model.compile(loss='mse', optimizer='adam')"
   ]
  },
  {
   "cell_type": "code",
   "execution_count": 29,
   "metadata": {},
   "outputs": [
    {
     "name": "stdout",
     "output_type": "stream",
     "text": [
      "Train on 140 samples, validate on 36 samples\n",
      "Epoch 1/50\n",
      " - 3s - loss: 0.3487 - val_loss: 0.3428\n",
      "Epoch 2/50\n",
      " - 0s - loss: 0.3355 - val_loss: 0.3295\n",
      "Epoch 3/50\n",
      " - 0s - loss: 0.3227 - val_loss: 0.3168\n",
      "Epoch 4/50\n",
      " - 0s - loss: 0.3104 - val_loss: 0.3045\n",
      "Epoch 5/50\n",
      " - 0s - loss: 0.2985 - val_loss: 0.2925\n",
      "Epoch 6/50\n",
      " - 0s - loss: 0.2868 - val_loss: 0.2807\n",
      "Epoch 7/50\n",
      " - 0s - loss: 0.2754 - val_loss: 0.2693\n",
      "Epoch 8/50\n",
      " - 0s - loss: 0.2643 - val_loss: 0.2582\n",
      "Epoch 9/50\n",
      " - 0s - loss: 0.2536 - val_loss: 0.2476\n",
      "Epoch 10/50\n",
      " - 0s - loss: 0.2432 - val_loss: 0.2371\n",
      "Epoch 11/50\n",
      " - 0s - loss: 0.2331 - val_loss: 0.2271\n",
      "Epoch 12/50\n",
      " - 0s - loss: 0.2233 - val_loss: 0.2173\n",
      "Epoch 13/50\n",
      " - 0s - loss: 0.2139 - val_loss: 0.2079\n",
      "Epoch 14/50\n",
      " - 0s - loss: 0.2047 - val_loss: 0.1987\n",
      "Epoch 15/50\n",
      " - 0s - loss: 0.1958 - val_loss: 0.1898\n",
      "Epoch 16/50\n",
      " - 0s - loss: 0.1872 - val_loss: 0.1813\n",
      "Epoch 17/50\n",
      " - 0s - loss: 0.1788 - val_loss: 0.1729\n",
      "Epoch 18/50\n",
      " - 0s - loss: 0.1707 - val_loss: 0.1649\n",
      "Epoch 19/50\n",
      " - 0s - loss: 0.1629 - val_loss: 0.1572\n",
      "Epoch 20/50\n",
      " - 0s - loss: 0.1554 - val_loss: 0.1497\n",
      "Epoch 21/50\n",
      " - 0s - loss: 0.1481 - val_loss: 0.1425\n",
      "Epoch 22/50\n",
      " - 0s - loss: 0.1411 - val_loss: 0.1356\n",
      "Epoch 23/50\n",
      " - 0s - loss: 0.1344 - val_loss: 0.1290\n",
      "Epoch 24/50\n",
      " - 0s - loss: 0.1279 - val_loss: 0.1227\n",
      "Epoch 25/50\n",
      " - 0s - loss: 0.1218 - val_loss: 0.1167\n",
      "Epoch 26/50\n",
      " - 0s - loss: 0.1159 - val_loss: 0.1111\n",
      "Epoch 27/50\n",
      " - 0s - loss: 0.1104 - val_loss: 0.1057\n",
      "Epoch 28/50\n",
      " - 0s - loss: 0.1051 - val_loss: 0.1006\n",
      "Epoch 29/50\n",
      " - 0s - loss: 0.1001 - val_loss: 0.0959\n",
      "Epoch 30/50\n",
      " - 0s - loss: 0.0955 - val_loss: 0.0914\n",
      "Epoch 31/50\n",
      " - 0s - loss: 0.0911 - val_loss: 0.0873\n",
      "Epoch 32/50\n",
      " - 0s - loss: 0.0870 - val_loss: 0.0835\n",
      "Epoch 33/50\n",
      " - 0s - loss: 0.0833 - val_loss: 0.0800\n",
      "Epoch 34/50\n",
      " - 0s - loss: 0.0798 - val_loss: 0.0768\n",
      "Epoch 35/50\n",
      " - 0s - loss: 0.0767 - val_loss: 0.0740\n",
      "Epoch 36/50\n",
      " - 0s - loss: 0.0738 - val_loss: 0.0714\n",
      "Epoch 37/50\n",
      " - 0s - loss: 0.0713 - val_loss: 0.0691\n",
      "Epoch 38/50\n",
      " - 0s - loss: 0.0690 - val_loss: 0.0672\n",
      "Epoch 39/50\n",
      " - 0s - loss: 0.0670 - val_loss: 0.0654\n",
      "Epoch 40/50\n",
      " - 0s - loss: 0.0653 - val_loss: 0.0639\n",
      "Epoch 41/50\n",
      " - 0s - loss: 0.0638 - val_loss: 0.0627\n",
      "Epoch 42/50\n",
      " - 0s - loss: 0.0625 - val_loss: 0.0617\n",
      "Epoch 43/50\n",
      " - 0s - loss: 0.0614 - val_loss: 0.0608\n",
      "Epoch 44/50\n",
      " - 0s - loss: 0.0605 - val_loss: 0.0601\n",
      "Epoch 45/50\n",
      " - 0s - loss: 0.0598 - val_loss: 0.0595\n",
      "Epoch 46/50\n",
      " - 0s - loss: 0.0592 - val_loss: 0.0591\n",
      "Epoch 47/50\n",
      " - 0s - loss: 0.0587 - val_loss: 0.0588\n",
      "Epoch 48/50\n",
      " - 0s - loss: 0.0583 - val_loss: 0.0585\n",
      "Epoch 49/50\n",
      " - 0s - loss: 0.0580 - val_loss: 0.0583\n",
      "Epoch 50/50\n",
      " - 0s - loss: 0.0578 - val_loss: 0.0581\n"
     ]
    }
   ],
   "source": [
    "# fit network\n",
    "history = model.fit(X_train, Y_train, epochs=50, batch_size=72, validation_data=(X_test, Y_test), verbose=2, shuffle=False)"
   ]
  },
  {
   "cell_type": "code",
   "execution_count": 30,
   "metadata": {},
   "outputs": [
    {
     "data": {
      "image/png": "[encoded data removed]",
      "text/plain": [
       "<Figure size 432x288 with 1 Axes>"
      ]
     },
     "metadata": {
      "needs_background": "light"
     },
     "output_type": "display_data"
    }
   ],
   "source": [
    "# plot history\n",
    "pyplot.plot(history.history['loss'], label='train')\n",
    "pyplot.plot(history.history['val_loss'], label='test')\n",
    "pyplot.legend()\n",
    "pyplot.show()"
   ]
  },
  {
   "cell_type": "code",
   "execution_count": 31,
   "metadata": {},
   "outputs": [],
   "source": [
    "yhat = model.predict(X_test)"
   ]
  },
  {
   "cell_type": "code",
   "execution_count": 32,
   "metadata": {},
   "outputs": [
    {
     "name": "stdout",
     "output_type": "stream",
     "text": [
      "Test RMSE: 0.241\n"
     ]
    }
   ],
   "source": [
    "rmse = sqrt(mean_squared_error(Y_test, yhat))\n",
    "print('Test RMSE: %.3f' % rmse)"
   ]
  },
  {
   "cell_type": "markdown",
   "metadata": {},
   "source": [
    "Health Care -- Financial"
   ]
  },
  {
   "cell_type": "code",
   "execution_count": 36,
   "metadata": {},
   "outputs": [],
   "source": [
    "hc_f = hc.loc[hc['target_sector'] == \"Financials\"]"
   ]
  },
  {
   "cell_type": "code",
   "execution_count": 37,
   "metadata": {},
   "outputs": [
    {
     "data": {
      "text/html": [
       "<div>\n",
       "<style scoped>\n",
       "    .dataframe tbody tr th:only-of-type {\n",
       "        vertical-align: middle;\n",
       "    }\n",
       "\n",
       "    .dataframe tbody tr th {\n",
       "        vertical-align: top;\n",
       "    }\n",
       "\n",
       "    .dataframe thead th {\n",
       "        text-align: right;\n",
       "    }\n",
       "</style>\n",
       "<table border=\"1\" class=\"dataframe\">\n",
       "  <thead>\n",
       "    <tr style=\"text-align: right;\">\n",
       "      <th></th>\n",
       "      <th>height</th>\n",
       "      <th>width</th>\n",
       "      <th>distance</th>\n",
       "      <th>left_slope</th>\n",
       "      <th>right_slope</th>\n",
       "      <th>event_sector</th>\n",
       "      <th>target_sector</th>\n",
       "      <th>target_sector_average_price</th>\n",
       "    </tr>\n",
       "    <tr>\n",
       "      <th>index</th>\n",
       "      <th></th>\n",
       "      <th></th>\n",
       "      <th></th>\n",
       "      <th></th>\n",
       "      <th></th>\n",
       "      <th></th>\n",
       "      <th></th>\n",
       "      <th></th>\n",
       "    </tr>\n",
       "  </thead>\n",
       "  <tbody>\n",
       "    <tr>\n",
       "      <th>0</th>\n",
       "      <td>0.878098</td>\n",
       "      <td>0.000661</td>\n",
       "      <td>0.000000</td>\n",
       "      <td>1.000000</td>\n",
       "      <td>0.235240</td>\n",
       "      <td>Health Care</td>\n",
       "      <td>Financials</td>\n",
       "      <td>0.891598</td>\n",
       "    </tr>\n",
       "    <tr>\n",
       "      <th>1</th>\n",
       "      <td>1.000000</td>\n",
       "      <td>1.000000</td>\n",
       "      <td>0.047964</td>\n",
       "      <td>0.020885</td>\n",
       "      <td>0.998019</td>\n",
       "      <td>Health Care</td>\n",
       "      <td>Financials</td>\n",
       "      <td>0.891598</td>\n",
       "    </tr>\n",
       "    <tr>\n",
       "      <th>2</th>\n",
       "      <td>0.661844</td>\n",
       "      <td>0.000051</td>\n",
       "      <td>0.024434</td>\n",
       "      <td>0.028068</td>\n",
       "      <td>0.000000</td>\n",
       "      <td>Health Care</td>\n",
       "      <td>Financials</td>\n",
       "      <td>0.891598</td>\n",
       "    </tr>\n",
       "    <tr>\n",
       "      <th>3</th>\n",
       "      <td>0.491712</td>\n",
       "      <td>0.000272</td>\n",
       "      <td>0.056109</td>\n",
       "      <td>0.000154</td>\n",
       "      <td>0.996357</td>\n",
       "      <td>Health Care</td>\n",
       "      <td>Financials</td>\n",
       "      <td>0.901922</td>\n",
       "    </tr>\n",
       "    <tr>\n",
       "      <th>4</th>\n",
       "      <td>0.502503</td>\n",
       "      <td>0.000013</td>\n",
       "      <td>0.013575</td>\n",
       "      <td>0.001461</td>\n",
       "      <td>0.984032</td>\n",
       "      <td>Health Care</td>\n",
       "      <td>Financials</td>\n",
       "      <td>0.907147</td>\n",
       "    </tr>\n",
       "  </tbody>\n",
       "</table>\n",
       "</div>"
      ],
      "text/plain": [
       "         height     width  distance  left_slope  right_slope event_sector  \\\n",
       "index                                                                       \n",
       "0      0.878098  0.000661  0.000000    1.000000     0.235240  Health Care   \n",
       "1      1.000000  1.000000  0.047964    0.020885     0.998019  Health Care   \n",
       "2      0.661844  0.000051  0.024434    0.028068     0.000000  Health Care   \n",
       "3      0.491712  0.000272  0.056109    0.000154     0.996357  Health Care   \n",
       "4      0.502503  0.000013  0.013575    0.001461     0.984032  Health Care   \n",
       "\n",
       "      target_sector  target_sector_average_price  \n",
       "index                                             \n",
       "0        Financials                     0.891598  \n",
       "1        Financials                     0.891598  \n",
       "2        Financials                     0.891598  \n",
       "3        Financials                     0.901922  \n",
       "4        Financials                     0.907147  "
      ]
     },
     "execution_count": 37,
     "metadata": {},
     "output_type": "execute_result"
    }
   ],
   "source": [
    "hc_f.head()"
   ]
  },
  {
   "cell_type": "code",
   "execution_count": 38,
   "metadata": {},
   "outputs": [],
   "source": [
    "X = hc_f[['height', 'width', 'distance', 'left_slope', 'right_slope']]\n",
    "Y = hc_f['target_sector_average_price']\n",
    "X = X.values\n",
    "Y = Y.values\n",
    "#Test size?\n",
    "X_train, X_test, Y_train, Y_test = train_test_split(X, Y, test_size=0.2, random_state=42)"
   ]
  },
  {
   "cell_type": "code",
   "execution_count": 39,
   "metadata": {},
   "outputs": [
    {
     "name": "stdout",
     "output_type": "stream",
     "text": [
      "(132, 1, 5) (132,) (34, 1, 5) (34,)\n"
     ]
    }
   ],
   "source": [
    "# reshape input to be 3D [samples, timesteps, features]\n",
    "X_train = X_train.reshape((X_train.shape[0], 1, X_train.shape[1]))\n",
    "X_test = X_test.reshape((X_test.shape[0], 1, X_test.shape[1]))\n",
    "print(X_train.shape, Y_train.shape, X_test.shape, Y_test.shape)"
   ]
  },
  {
   "cell_type": "code",
   "execution_count": 40,
   "metadata": {},
   "outputs": [],
   "source": [
    "# design network\n",
    "model = Sequential()\n",
    "model.add(LSTM(50, input_shape=(X_train.shape[1], X_train.shape[2])))\n",
    "model.add(Dense(1))\n",
    "model.compile(loss='mse', optimizer='adam')"
   ]
  },
  {
   "cell_type": "code",
   "execution_count": 41,
   "metadata": {},
   "outputs": [
    {
     "name": "stdout",
     "output_type": "stream",
     "text": [
      "Train on 132 samples, validate on 34 samples\n",
      "Epoch 1/50\n",
      " - 2s - loss: 0.4902 - val_loss: 0.5503\n",
      "Epoch 2/50\n",
      " - 0s - loss: 0.4723 - val_loss: 0.5322\n",
      "Epoch 3/50\n",
      " - 0s - loss: 0.4552 - val_loss: 0.5140\n",
      "Epoch 4/50\n",
      " - 0s - loss: 0.4382 - val_loss: 0.4962\n",
      "Epoch 5/50\n",
      " - 0s - loss: 0.4217 - val_loss: 0.4789\n",
      "Epoch 6/50\n",
      " - 0s - loss: 0.4056 - val_loss: 0.4619\n",
      "Epoch 7/50\n",
      " - 0s - loss: 0.3899 - val_loss: 0.4454\n",
      "Epoch 8/50\n",
      " - 0s - loss: 0.3746 - val_loss: 0.4294\n",
      "Epoch 9/50\n",
      " - 0s - loss: 0.3599 - val_loss: 0.4138\n",
      "Epoch 10/50\n",
      " - 0s - loss: 0.3455 - val_loss: 0.3987\n",
      "Epoch 11/50\n",
      " - 0s - loss: 0.3317 - val_loss: 0.3841\n",
      "Epoch 12/50\n",
      " - 0s - loss: 0.3183 - val_loss: 0.3699\n",
      "Epoch 13/50\n",
      " - 0s - loss: 0.3053 - val_loss: 0.3561\n",
      "Epoch 14/50\n",
      " - 0s - loss: 0.2927 - val_loss: 0.3427\n",
      "Epoch 15/50\n",
      " - 0s - loss: 0.2806 - val_loss: 0.3297\n",
      "Epoch 16/50\n",
      " - 0s - loss: 0.2687 - val_loss: 0.3170\n",
      "Epoch 17/50\n",
      " - 0s - loss: 0.2573 - val_loss: 0.3048\n",
      "Epoch 18/50\n",
      " - 0s - loss: 0.2463 - val_loss: 0.2930\n",
      "Epoch 19/50\n",
      " - 0s - loss: 0.2357 - val_loss: 0.2816\n",
      "Epoch 20/50\n",
      " - 0s - loss: 0.2254 - val_loss: 0.2705\n",
      "Epoch 21/50\n",
      " - 0s - loss: 0.2156 - val_loss: 0.2599\n",
      "Epoch 22/50\n",
      " - 0s - loss: 0.2062 - val_loss: 0.2497\n",
      "Epoch 23/50\n",
      " - 0s - loss: 0.1971 - val_loss: 0.2398\n",
      "Epoch 24/50\n",
      " - 0s - loss: 0.1884 - val_loss: 0.2304\n",
      "Epoch 25/50\n",
      " - 0s - loss: 0.1802 - val_loss: 0.2213\n",
      "Epoch 26/50\n",
      " - 0s - loss: 0.1724 - val_loss: 0.2127\n",
      "Epoch 27/50\n",
      " - 0s - loss: 0.1649 - val_loss: 0.2045\n",
      "Epoch 28/50\n",
      " - 0s - loss: 0.1579 - val_loss: 0.1968\n",
      "Epoch 29/50\n",
      " - 0s - loss: 0.1513 - val_loss: 0.1894\n",
      "Epoch 30/50\n",
      " - 0s - loss: 0.1451 - val_loss: 0.1825\n",
      "Epoch 31/50\n",
      " - 0s - loss: 0.1394 - val_loss: 0.1761\n",
      "Epoch 32/50\n",
      " - 0s - loss: 0.1340 - val_loss: 0.1700\n",
      "Epoch 33/50\n",
      " - 0s - loss: 0.1291 - val_loss: 0.1644\n",
      "Epoch 34/50\n",
      " - 0s - loss: 0.1246 - val_loss: 0.1592\n",
      "Epoch 35/50\n",
      " - 0s - loss: 0.1205 - val_loss: 0.1545\n",
      "Epoch 36/50\n",
      " - 0s - loss: 0.1168 - val_loss: 0.1501\n",
      "Epoch 37/50\n",
      " - 0s - loss: 0.1134 - val_loss: 0.1462\n",
      "Epoch 38/50\n",
      " - 0s - loss: 0.1104 - val_loss: 0.1426\n",
      "Epoch 39/50\n",
      " - 0s - loss: 0.1078 - val_loss: 0.1393\n",
      "Epoch 40/50\n",
      " - 0s - loss: 0.1055 - val_loss: 0.1364\n",
      "Epoch 41/50\n",
      " - 0s - loss: 0.1035 - val_loss: 0.1339\n",
      "Epoch 42/50\n",
      " - 0s - loss: 0.1017 - val_loss: 0.1316\n",
      "Epoch 43/50\n",
      " - 0s - loss: 0.1003 - val_loss: 0.1296\n",
      "Epoch 44/50\n",
      " - 0s - loss: 0.0990 - val_loss: 0.1278\n",
      "Epoch 45/50\n",
      " - 0s - loss: 0.0980 - val_loss: 0.1263\n",
      "Epoch 46/50\n",
      " - 0s - loss: 0.0971 - val_loss: 0.1250\n",
      "Epoch 47/50\n",
      " - 0s - loss: 0.0964 - val_loss: 0.1238\n",
      "Epoch 48/50\n",
      " - 0s - loss: 0.0958 - val_loss: 0.1228\n",
      "Epoch 49/50\n",
      " - 0s - loss: 0.0953 - val_loss: 0.1219\n",
      "Epoch 50/50\n",
      " - 0s - loss: 0.0949 - val_loss: 0.1211\n"
     ]
    }
   ],
   "source": [
    "# fit network\n",
    "history = model.fit(X_train, Y_train, epochs=50, batch_size=72, validation_data=(X_test, Y_test), verbose=2, shuffle=False)"
   ]
  },
  {
   "cell_type": "code",
   "execution_count": 42,
   "metadata": {},
   "outputs": [
    {
     "data": {
      "image/png": "[encoded data removed]",
      "text/plain": [
       "<Figure size 432x288 with 1 Axes>"
      ]
     },
     "metadata": {
      "needs_background": "light"
     },
     "output_type": "display_data"
    }
   ],
   "source": [
    "# plot history\n",
    "pyplot.plot(history.history['loss'], label='train')\n",
    "pyplot.plot(history.history['val_loss'], label='test')\n",
    "pyplot.legend()\n",
    "pyplot.show()"
   ]
  },
  {
   "cell_type": "code",
   "execution_count": 43,
   "metadata": {},
   "outputs": [],
   "source": [
    "yhat = model.predict(X_test)"
   ]
  },
  {
   "cell_type": "code",
   "execution_count": 44,
   "metadata": {},
   "outputs": [
    {
     "name": "stdout",
     "output_type": "stream",
     "text": [
      "Test RMSE: 0.348\n"
     ]
    }
   ],
   "source": [
    "rmse = sqrt(mean_squared_error(Y_test, yhat))\n",
    "print('Test RMSE: %.3f' % rmse)"
   ]
  },
  {
   "cell_type": "markdown",
   "metadata": {},
   "source": [
    "Health Care -- Information Tech"
   ]
  },
  {
   "cell_type": "code",
   "execution_count": 45,
   "metadata": {},
   "outputs": [],
   "source": [
    "hc_it = hc.loc[hc['target_sector'] == \"Information Technology\"]"
   ]
  },
  {
   "cell_type": "code",
   "execution_count": 46,
   "metadata": {},
   "outputs": [
    {
     "data": {
      "text/html": [
       "<div>\n",
       "<style scoped>\n",
       "    .dataframe tbody tr th:only-of-type {\n",
       "        vertical-align: middle;\n",
       "    }\n",
       "\n",
       "    .dataframe tbody tr th {\n",
       "        vertical-align: top;\n",
       "    }\n",
       "\n",
       "    .dataframe thead th {\n",
       "        text-align: right;\n",
       "    }\n",
       "</style>\n",
       "<table border=\"1\" class=\"dataframe\">\n",
       "  <thead>\n",
       "    <tr style=\"text-align: right;\">\n",
       "      <th></th>\n",
       "      <th>height</th>\n",
       "      <th>width</th>\n",
       "      <th>distance</th>\n",
       "      <th>left_slope</th>\n",
       "      <th>right_slope</th>\n",
       "      <th>event_sector</th>\n",
       "      <th>target_sector</th>\n",
       "      <th>target_sector_average_price</th>\n",
       "    </tr>\n",
       "    <tr>\n",
       "      <th>index</th>\n",
       "      <th></th>\n",
       "      <th></th>\n",
       "      <th></th>\n",
       "      <th></th>\n",
       "      <th></th>\n",
       "      <th></th>\n",
       "      <th></th>\n",
       "      <th></th>\n",
       "    </tr>\n",
       "  </thead>\n",
       "  <tbody>\n",
       "    <tr>\n",
       "      <th>166</th>\n",
       "      <td>0.878098</td>\n",
       "      <td>0.000661</td>\n",
       "      <td>0.000000</td>\n",
       "      <td>1.000000</td>\n",
       "      <td>0.235240</td>\n",
       "      <td>Health Care</td>\n",
       "      <td>Information Technology</td>\n",
       "      <td>0.494994</td>\n",
       "    </tr>\n",
       "    <tr>\n",
       "      <th>167</th>\n",
       "      <td>1.000000</td>\n",
       "      <td>1.000000</td>\n",
       "      <td>0.047964</td>\n",
       "      <td>0.020885</td>\n",
       "      <td>0.998019</td>\n",
       "      <td>Health Care</td>\n",
       "      <td>Information Technology</td>\n",
       "      <td>0.494994</td>\n",
       "    </tr>\n",
       "    <tr>\n",
       "      <th>168</th>\n",
       "      <td>0.661844</td>\n",
       "      <td>0.000051</td>\n",
       "      <td>0.024434</td>\n",
       "      <td>0.028068</td>\n",
       "      <td>0.000000</td>\n",
       "      <td>Health Care</td>\n",
       "      <td>Information Technology</td>\n",
       "      <td>0.494994</td>\n",
       "    </tr>\n",
       "    <tr>\n",
       "      <th>169</th>\n",
       "      <td>0.491712</td>\n",
       "      <td>0.000272</td>\n",
       "      <td>0.056109</td>\n",
       "      <td>0.000154</td>\n",
       "      <td>0.996357</td>\n",
       "      <td>Health Care</td>\n",
       "      <td>Information Technology</td>\n",
       "      <td>0.494994</td>\n",
       "    </tr>\n",
       "    <tr>\n",
       "      <th>170</th>\n",
       "      <td>0.502503</td>\n",
       "      <td>0.000013</td>\n",
       "      <td>0.013575</td>\n",
       "      <td>0.001461</td>\n",
       "      <td>0.984032</td>\n",
       "      <td>Health Care</td>\n",
       "      <td>Information Technology</td>\n",
       "      <td>0.494994</td>\n",
       "    </tr>\n",
       "  </tbody>\n",
       "</table>\n",
       "</div>"
      ],
      "text/plain": [
       "         height     width  distance  left_slope  right_slope event_sector  \\\n",
       "index                                                                       \n",
       "166    0.878098  0.000661  0.000000    1.000000     0.235240  Health Care   \n",
       "167    1.000000  1.000000  0.047964    0.020885     0.998019  Health Care   \n",
       "168    0.661844  0.000051  0.024434    0.028068     0.000000  Health Care   \n",
       "169    0.491712  0.000272  0.056109    0.000154     0.996357  Health Care   \n",
       "170    0.502503  0.000013  0.013575    0.001461     0.984032  Health Care   \n",
       "\n",
       "                target_sector  target_sector_average_price  \n",
       "index                                                       \n",
       "166    Information Technology                     0.494994  \n",
       "167    Information Technology                     0.494994  \n",
       "168    Information Technology                     0.494994  \n",
       "169    Information Technology                     0.494994  \n",
       "170    Information Technology                     0.494994  "
      ]
     },
     "execution_count": 46,
     "metadata": {},
     "output_type": "execute_result"
    }
   ],
   "source": [
    "hc_it.head()"
   ]
  },
  {
   "cell_type": "code",
   "execution_count": 48,
   "metadata": {},
   "outputs": [],
   "source": [
    "X = hc_it[['height', 'width', 'distance', 'left_slope', 'right_slope']]\n",
    "Y = hc_it['target_sector_average_price']\n",
    "X = X.values\n",
    "Y = Y.values\n",
    "#Test size?\n",
    "X_train, X_test, Y_train, Y_test = train_test_split(X, Y, test_size=0.2, random_state=42)"
   ]
  },
  {
   "cell_type": "code",
   "execution_count": 49,
   "metadata": {},
   "outputs": [
    {
     "name": "stdout",
     "output_type": "stream",
     "text": [
      "(132, 1, 5) (132,) (34, 1, 5) (34,)\n"
     ]
    }
   ],
   "source": [
    "# reshape input to be 3D [samples, timesteps, features]\n",
    "X_train = X_train.reshape((X_train.shape[0], 1, X_train.shape[1]))\n",
    "X_test = X_test.reshape((X_test.shape[0], 1, X_test.shape[1]))\n",
    "print(X_train.shape, Y_train.shape, X_test.shape, Y_test.shape)"
   ]
  },
  {
   "cell_type": "code",
   "execution_count": 54,
   "metadata": {},
   "outputs": [],
   "source": [
    "# design network\n",
    "model = Sequential()\n",
    "model.add(LSTM(50, input_shape=(X_train.shape[1], X_train.shape[2])))\n",
    "model.add(Dense(1))\n",
    "model.compile(loss='mse', optimizer='adam')"
   ]
  },
  {
   "cell_type": "code",
   "execution_count": 55,
   "metadata": {},
   "outputs": [
    {
     "name": "stdout",
     "output_type": "stream",
     "text": [
      "Train on 132 samples, validate on 34 samples\n",
      "Epoch 1/50\n",
      " - 2s - loss: 0.3604 - val_loss: 0.3297\n",
      "Epoch 2/50\n",
      " - 0s - loss: 0.3458 - val_loss: 0.3160\n",
      "Epoch 3/50\n",
      " - 0s - loss: 0.3322 - val_loss: 0.3019\n",
      "Epoch 4/50\n",
      " - 0s - loss: 0.3184 - val_loss: 0.2879\n",
      "Epoch 5/50\n",
      " - 0s - loss: 0.3048 - val_loss: 0.2743\n",
      "Epoch 6/50\n",
      " - 0s - loss: 0.2917 - val_loss: 0.2613\n",
      "Epoch 7/50\n",
      " - 0s - loss: 0.2790 - val_loss: 0.2486\n",
      "Epoch 8/50\n",
      " - 0s - loss: 0.2667 - val_loss: 0.2363\n",
      "Epoch 9/50\n",
      " - 0s - loss: 0.2548 - val_loss: 0.2245\n",
      "Epoch 10/50\n",
      " - 0s - loss: 0.2433 - val_loss: 0.2130\n",
      "Epoch 11/50\n",
      " - 0s - loss: 0.2322 - val_loss: 0.2019\n",
      "Epoch 12/50\n",
      " - 0s - loss: 0.2215 - val_loss: 0.1913\n",
      "Epoch 13/50\n",
      " - 0s - loss: 0.2113 - val_loss: 0.1811\n",
      "Epoch 14/50\n",
      " - 0s - loss: 0.2015 - val_loss: 0.1713\n",
      "Epoch 15/50\n",
      " - 0s - loss: 0.1920 - val_loss: 0.1618\n",
      "Epoch 16/50\n",
      " - 0s - loss: 0.1829 - val_loss: 0.1527\n",
      "Epoch 17/50\n",
      " - 0s - loss: 0.1741 - val_loss: 0.1439\n",
      "Epoch 18/50\n",
      " - 0s - loss: 0.1658 - val_loss: 0.1356\n",
      "Epoch 19/50\n",
      " - 0s - loss: 0.1578 - val_loss: 0.1277\n",
      "Epoch 20/50\n",
      " - 0s - loss: 0.1503 - val_loss: 0.1202\n",
      "Epoch 21/50\n",
      " - 0s - loss: 0.1431 - val_loss: 0.1130\n",
      "Epoch 22/50\n",
      " - 0s - loss: 0.1363 - val_loss: 0.1062\n",
      "Epoch 23/50\n",
      " - 0s - loss: 0.1299 - val_loss: 0.0999\n",
      "Epoch 24/50\n",
      " - 0s - loss: 0.1239 - val_loss: 0.0939\n",
      "Epoch 25/50\n",
      " - 0s - loss: 0.1183 - val_loss: 0.0883\n",
      "Epoch 26/50\n",
      " - 0s - loss: 0.1131 - val_loss: 0.0831\n",
      "Epoch 27/50\n",
      " - 0s - loss: 0.1083 - val_loss: 0.0783\n",
      "Epoch 28/50\n",
      " - 0s - loss: 0.1038 - val_loss: 0.0739\n",
      "Epoch 29/50\n",
      " - 0s - loss: 0.0997 - val_loss: 0.0698\n",
      "Epoch 30/50\n",
      " - 0s - loss: 0.0960 - val_loss: 0.0661\n",
      "Epoch 31/50\n",
      " - 0s - loss: 0.0926 - val_loss: 0.0628\n",
      "Epoch 32/50\n",
      " - 0s - loss: 0.0896 - val_loss: 0.0598\n",
      "Epoch 33/50\n",
      " - 0s - loss: 0.0869 - val_loss: 0.0571\n",
      "Epoch 34/50\n",
      " - 0s - loss: 0.0845 - val_loss: 0.0548\n",
      "Epoch 35/50\n",
      " - 0s - loss: 0.0824 - val_loss: 0.0527\n",
      "Epoch 36/50\n",
      " - 0s - loss: 0.0806 - val_loss: 0.0509\n",
      "Epoch 37/50\n",
      " - 0s - loss: 0.0790 - val_loss: 0.0494\n",
      "Epoch 38/50\n",
      " - 0s - loss: 0.0777 - val_loss: 0.0481\n",
      "Epoch 39/50\n",
      " - 0s - loss: 0.0765 - val_loss: 0.0470\n",
      "Epoch 40/50\n",
      " - 0s - loss: 0.0756 - val_loss: 0.0461\n",
      "Epoch 41/50\n",
      " - 0s - loss: 0.0748 - val_loss: 0.0453\n",
      "Epoch 42/50\n",
      " - 0s - loss: 0.0741 - val_loss: 0.0447\n",
      "Epoch 43/50\n",
      " - 0s - loss: 0.0736 - val_loss: 0.0442\n",
      "Epoch 44/50\n",
      " - 0s - loss: 0.0731 - val_loss: 0.0438\n",
      "Epoch 45/50\n",
      " - 0s - loss: 0.0728 - val_loss: 0.0435\n",
      "Epoch 46/50\n",
      " - 0s - loss: 0.0725 - val_loss: 0.0432\n",
      "Epoch 47/50\n",
      " - 0s - loss: 0.0722 - val_loss: 0.0430\n",
      "Epoch 48/50\n",
      " - 0s - loss: 0.0720 - val_loss: 0.0429\n",
      "Epoch 49/50\n",
      " - 0s - loss: 0.0718 - val_loss: 0.0428\n",
      "Epoch 50/50\n",
      " - 0s - loss: 0.0717 - val_loss: 0.0427\n"
     ]
    }
   ],
   "source": [
    "# fit network\n",
    "history = model.fit(X_train, Y_train, epochs=50, batch_size=72, validation_data=(X_test, Y_test), verbose=2, shuffle=False)"
   ]
  },
  {
   "cell_type": "code",
   "execution_count": 56,
   "metadata": {},
   "outputs": [
    {
     "data": {
      "image/png": "[encoded data removed]",
      "text/plain": [
       "<Figure size 432x288 with 1 Axes>"
      ]
     },
     "metadata": {
      "needs_background": "light"
     },
     "output_type": "display_data"
    }
   ],
   "source": [
    "# plot history\n",
    "pyplot.plot(history.history['loss'], label='train')\n",
    "pyplot.plot(history.history['val_loss'], label='test')\n",
    "pyplot.legend()\n",
    "pyplot.show()"
   ]
  },
  {
   "cell_type": "code",
   "execution_count": 57,
   "metadata": {},
   "outputs": [],
   "source": [
    "yhat = model.predict(X_test)"
   ]
  },
  {
   "cell_type": "code",
   "execution_count": 58,
   "metadata": {},
   "outputs": [
    {
     "name": "stdout",
     "output_type": "stream",
     "text": [
      "Test RMSE: 0.207\n"
     ]
    }
   ],
   "source": [
    "rmse = sqrt(mean_squared_error(Y_test, yhat))\n",
    "print('Test RMSE: %.3f' % rmse)"
   ]
  },
  {
   "cell_type": "markdown",
   "metadata": {},
   "source": [
    "Information Tech -- Health Care"
   ]
  },
  {
   "cell_type": "code",
   "execution_count": 62,
   "metadata": {},
   "outputs": [],
   "source": [
    "it_hc = it.loc[it['target_sector'] == \"Health Care\"]"
   ]
  },
  {
   "cell_type": "code",
   "execution_count": 63,
   "metadata": {},
   "outputs": [
    {
     "data": {
      "text/html": [
       "<div>\n",
       "<style scoped>\n",
       "    .dataframe tbody tr th:only-of-type {\n",
       "        vertical-align: middle;\n",
       "    }\n",
       "\n",
       "    .dataframe tbody tr th {\n",
       "        vertical-align: top;\n",
       "    }\n",
       "\n",
       "    .dataframe thead th {\n",
       "        text-align: right;\n",
       "    }\n",
       "</style>\n",
       "<table border=\"1\" class=\"dataframe\">\n",
       "  <thead>\n",
       "    <tr style=\"text-align: right;\">\n",
       "      <th></th>\n",
       "      <th>height</th>\n",
       "      <th>width</th>\n",
       "      <th>distance</th>\n",
       "      <th>left_slope</th>\n",
       "      <th>right_slope</th>\n",
       "      <th>event_sector</th>\n",
       "      <th>target_sector</th>\n",
       "      <th>target_sector_average_price</th>\n",
       "    </tr>\n",
       "    <tr>\n",
       "      <th>index</th>\n",
       "      <th></th>\n",
       "      <th></th>\n",
       "      <th></th>\n",
       "      <th></th>\n",
       "      <th></th>\n",
       "      <th></th>\n",
       "      <th></th>\n",
       "      <th></th>\n",
       "    </tr>\n",
       "  </thead>\n",
       "  <tbody>\n",
       "    <tr>\n",
       "      <th>0</th>\n",
       "      <td>0.095357</td>\n",
       "      <td>0.000299</td>\n",
       "      <td>0.000000</td>\n",
       "      <td>0.016869</td>\n",
       "      <td>0.997753</td>\n",
       "      <td>Information Technology</td>\n",
       "      <td>Health Care</td>\n",
       "      <td>0.0</td>\n",
       "    </tr>\n",
       "    <tr>\n",
       "      <th>1</th>\n",
       "      <td>0.085886</td>\n",
       "      <td>0.000014</td>\n",
       "      <td>0.001386</td>\n",
       "      <td>0.001996</td>\n",
       "      <td>0.994901</td>\n",
       "      <td>Information Technology</td>\n",
       "      <td>Health Care</td>\n",
       "      <td>0.0</td>\n",
       "    </tr>\n",
       "    <tr>\n",
       "      <th>2</th>\n",
       "      <td>0.082324</td>\n",
       "      <td>0.000013</td>\n",
       "      <td>0.000832</td>\n",
       "      <td>0.000856</td>\n",
       "      <td>0.997623</td>\n",
       "      <td>Information Technology</td>\n",
       "      <td>Health Care</td>\n",
       "      <td>0.0</td>\n",
       "    </tr>\n",
       "    <tr>\n",
       "      <th>3</th>\n",
       "      <td>0.081331</td>\n",
       "      <td>0.000028</td>\n",
       "      <td>0.000554</td>\n",
       "      <td>0.000925</td>\n",
       "      <td>0.999145</td>\n",
       "      <td>Information Technology</td>\n",
       "      <td>Health Care</td>\n",
       "      <td>0.0</td>\n",
       "    </tr>\n",
       "    <tr>\n",
       "      <th>4</th>\n",
       "      <td>0.271692</td>\n",
       "      <td>0.000265</td>\n",
       "      <td>0.005822</td>\n",
       "      <td>0.020013</td>\n",
       "      <td>0.822693</td>\n",
       "      <td>Information Technology</td>\n",
       "      <td>Health Care</td>\n",
       "      <td>0.0</td>\n",
       "    </tr>\n",
       "  </tbody>\n",
       "</table>\n",
       "</div>"
      ],
      "text/plain": [
       "         height     width  distance  left_slope  right_slope  \\\n",
       "index                                                          \n",
       "0      0.095357  0.000299  0.000000    0.016869     0.997753   \n",
       "1      0.085886  0.000014  0.001386    0.001996     0.994901   \n",
       "2      0.082324  0.000013  0.000832    0.000856     0.997623   \n",
       "3      0.081331  0.000028  0.000554    0.000925     0.999145   \n",
       "4      0.271692  0.000265  0.005822    0.020013     0.822693   \n",
       "\n",
       "                 event_sector target_sector  target_sector_average_price  \n",
       "index                                                                     \n",
       "0      Information Technology   Health Care                          0.0  \n",
       "1      Information Technology   Health Care                          0.0  \n",
       "2      Information Technology   Health Care                          0.0  \n",
       "3      Information Technology   Health Care                          0.0  \n",
       "4      Information Technology   Health Care                          0.0  "
      ]
     },
     "execution_count": 63,
     "metadata": {},
     "output_type": "execute_result"
    }
   ],
   "source": [
    "it_hc.head()"
   ]
  },
  {
   "cell_type": "code",
   "execution_count": 64,
   "metadata": {},
   "outputs": [],
   "source": [
    "X = it_hc[['height', 'width', 'distance', 'left_slope', 'right_slope']]\n",
    "Y = it_hc['target_sector_average_price']\n",
    "X = X.values\n",
    "Y = Y.values\n",
    "#Test size?\n",
    "X_train, X_test, Y_train, Y_test = train_test_split(X, Y, test_size=0.2, random_state=42)"
   ]
  },
  {
   "cell_type": "code",
   "execution_count": 65,
   "metadata": {},
   "outputs": [
    {
     "name": "stdout",
     "output_type": "stream",
     "text": [
      "(444, 1, 5) (444,) (111, 1, 5) (111,)\n"
     ]
    }
   ],
   "source": [
    "# reshape input to be 3D [samples, timesteps, features]\n",
    "X_train = X_train.reshape((X_train.shape[0], 1, X_train.shape[1]))\n",
    "X_test = X_test.reshape((X_test.shape[0], 1, X_test.shape[1]))\n",
    "print(X_train.shape, Y_train.shape, X_test.shape, Y_test.shape)"
   ]
  },
  {
   "cell_type": "code",
   "execution_count": 66,
   "metadata": {},
   "outputs": [],
   "source": [
    "# design network\n",
    "model = Sequential()\n",
    "model.add(LSTM(50, input_shape=(X_train.shape[1], X_train.shape[2])))\n",
    "model.add(Dense(1))\n",
    "model.compile(loss='mse', optimizer='adam')"
   ]
  },
  {
   "cell_type": "code",
   "execution_count": 67,
   "metadata": {},
   "outputs": [
    {
     "name": "stdout",
     "output_type": "stream",
     "text": [
      "Train on 444 samples, validate on 111 samples\n",
      "Epoch 1/50\n",
      " - 2s - loss: 0.3143 - val_loss: 0.2748\n",
      "Epoch 2/50\n",
      " - 0s - loss: 0.2730 - val_loss: 0.2381\n",
      "Epoch 3/50\n",
      " - 0s - loss: 0.2358 - val_loss: 0.2054\n",
      "Epoch 4/50\n",
      " - 0s - loss: 0.2027 - val_loss: 0.1765\n",
      "Epoch 5/50\n",
      " - 0s - loss: 0.1735 - val_loss: 0.1512\n",
      "Epoch 6/50\n",
      " - 0s - loss: 0.1479 - val_loss: 0.1295\n",
      "Epoch 7/50\n",
      " - 0s - loss: 0.1259 - val_loss: 0.1112\n",
      "Epoch 8/50\n",
      " - 0s - loss: 0.1074 - val_loss: 0.0963\n",
      "Epoch 9/50\n",
      " - 0s - loss: 0.0925 - val_loss: 0.0847\n",
      "Epoch 10/50\n",
      " - 0s - loss: 0.0810 - val_loss: 0.0761\n",
      "Epoch 11/50\n",
      " - 0s - loss: 0.0725 - val_loss: 0.0701\n",
      "Epoch 12/50\n",
      " - 0s - loss: 0.0667 - val_loss: 0.0662\n",
      "Epoch 13/50\n",
      " - 0s - loss: 0.0629 - val_loss: 0.0639\n",
      "Epoch 14/50\n",
      " - 0s - loss: 0.0607 - val_loss: 0.0625\n",
      "Epoch 15/50\n",
      " - 0s - loss: 0.0594 - val_loss: 0.0617\n",
      "Epoch 16/50\n",
      " - 0s - loss: 0.0587 - val_loss: 0.0612\n",
      "Epoch 17/50\n",
      " - 0s - loss: 0.0582 - val_loss: 0.0607\n",
      "Epoch 18/50\n",
      " - 0s - loss: 0.0578 - val_loss: 0.0603\n",
      "Epoch 19/50\n",
      " - 0s - loss: 0.0575 - val_loss: 0.0599\n",
      "Epoch 20/50\n",
      " - 0s - loss: 0.0572 - val_loss: 0.0596\n",
      "Epoch 21/50\n",
      " - 0s - loss: 0.0570 - val_loss: 0.0593\n",
      "Epoch 22/50\n",
      " - 0s - loss: 0.0568 - val_loss: 0.0591\n",
      "Epoch 23/50\n",
      " - 0s - loss: 0.0566 - val_loss: 0.0589\n",
      "Epoch 24/50\n",
      " - 0s - loss: 0.0564 - val_loss: 0.0588\n",
      "Epoch 25/50\n",
      " - 0s - loss: 0.0562 - val_loss: 0.0586\n",
      "Epoch 26/50\n",
      " - 0s - loss: 0.0560 - val_loss: 0.0585\n",
      "Epoch 27/50\n",
      " - 0s - loss: 0.0558 - val_loss: 0.0585\n",
      "Epoch 28/50\n",
      " - 0s - loss: 0.0557 - val_loss: 0.0584\n",
      "Epoch 29/50\n",
      " - 0s - loss: 0.0555 - val_loss: 0.0583\n",
      "Epoch 30/50\n",
      " - 0s - loss: 0.0554 - val_loss: 0.0583\n",
      "Epoch 31/50\n",
      " - 0s - loss: 0.0552 - val_loss: 0.0583\n",
      "Epoch 32/50\n",
      " - 0s - loss: 0.0551 - val_loss: 0.0583\n",
      "Epoch 33/50\n",
      " - 0s - loss: 0.0550 - val_loss: 0.0583\n",
      "Epoch 34/50\n",
      " - 0s - loss: 0.0549 - val_loss: 0.0583\n",
      "Epoch 35/50\n",
      " - 0s - loss: 0.0548 - val_loss: 0.0583\n",
      "Epoch 36/50\n",
      " - 0s - loss: 0.0547 - val_loss: 0.0583\n",
      "Epoch 37/50\n",
      " - 0s - loss: 0.0546 - val_loss: 0.0583\n",
      "Epoch 38/50\n",
      " - 0s - loss: 0.0545 - val_loss: 0.0583\n",
      "Epoch 39/50\n",
      " - 0s - loss: 0.0544 - val_loss: 0.0584\n",
      "Epoch 40/50\n",
      " - 0s - loss: 0.0544 - val_loss: 0.0584\n",
      "Epoch 41/50\n",
      " - 0s - loss: 0.0543 - val_loss: 0.0584\n",
      "Epoch 42/50\n",
      " - 0s - loss: 0.0542 - val_loss: 0.0585\n",
      "Epoch 43/50\n",
      " - 0s - loss: 0.0541 - val_loss: 0.0585\n",
      "Epoch 44/50\n",
      " - 0s - loss: 0.0541 - val_loss: 0.0585\n",
      "Epoch 45/50\n",
      " - 0s - loss: 0.0540 - val_loss: 0.0585\n",
      "Epoch 46/50\n",
      " - 0s - loss: 0.0540 - val_loss: 0.0585\n",
      "Epoch 47/50\n",
      " - 0s - loss: 0.0539 - val_loss: 0.0586\n",
      "Epoch 48/50\n",
      " - 0s - loss: 0.0538 - val_loss: 0.0586\n",
      "Epoch 49/50\n",
      " - 0s - loss: 0.0538 - val_loss: 0.0586\n",
      "Epoch 50/50\n",
      " - 0s - loss: 0.0537 - val_loss: 0.0586\n"
     ]
    }
   ],
   "source": [
    "# fit network\n",
    "history = model.fit(X_train, Y_train, epochs=50, batch_size=72, validation_data=(X_test, Y_test), verbose=2, shuffle=False)"
   ]
  },
  {
   "cell_type": "code",
   "execution_count": 68,
   "metadata": {},
   "outputs": [
    {
     "data": {
      "image/png": "[encoded data removed]",
      "text/plain": [
       "<Figure size 432x288 with 1 Axes>"
      ]
     },
     "metadata": {
      "needs_background": "light"
     },
     "output_type": "display_data"
    }
   ],
   "source": [
    "# plot history\n",
    "pyplot.plot(history.history['loss'], label='train')\n",
    "pyplot.plot(history.history['val_loss'], label='test')\n",
    "pyplot.legend()\n",
    "pyplot.show()"
   ]
  },
  {
   "cell_type": "code",
   "execution_count": 69,
   "metadata": {},
   "outputs": [],
   "source": [
    "yhat = model.predict(X_test)"
   ]
  },
  {
   "cell_type": "code",
   "execution_count": 70,
   "metadata": {},
   "outputs": [
    {
     "name": "stdout",
     "output_type": "stream",
     "text": [
      "Test RMSE: 0.242\n"
     ]
    }
   ],
   "source": [
    "rmse = sqrt(mean_squared_error(Y_test, yhat))\n",
    "print('Test RMSE: %.3f' % rmse)"
   ]
  },
  {
   "cell_type": "markdown",
   "metadata": {},
   "source": [
    "Information Tech -- Financial"
   ]
  },
  {
   "cell_type": "code",
   "execution_count": 71,
   "metadata": {},
   "outputs": [],
   "source": [
    "it_f = it.loc[it['target_sector'] == \"Financials\"]"
   ]
  },
  {
   "cell_type": "code",
   "execution_count": 72,
   "metadata": {},
   "outputs": [
    {
     "data": {
      "text/html": [
       "<div>\n",
       "<style scoped>\n",
       "    .dataframe tbody tr th:only-of-type {\n",
       "        vertical-align: middle;\n",
       "    }\n",
       "\n",
       "    .dataframe tbody tr th {\n",
       "        vertical-align: top;\n",
       "    }\n",
       "\n",
       "    .dataframe thead th {\n",
       "        text-align: right;\n",
       "    }\n",
       "</style>\n",
       "<table border=\"1\" class=\"dataframe\">\n",
       "  <thead>\n",
       "    <tr style=\"text-align: right;\">\n",
       "      <th></th>\n",
       "      <th>height</th>\n",
       "      <th>width</th>\n",
       "      <th>distance</th>\n",
       "      <th>left_slope</th>\n",
       "      <th>right_slope</th>\n",
       "      <th>event_sector</th>\n",
       "      <th>target_sector</th>\n",
       "      <th>target_sector_average_price</th>\n",
       "    </tr>\n",
       "    <tr>\n",
       "      <th>index</th>\n",
       "      <th></th>\n",
       "      <th></th>\n",
       "      <th></th>\n",
       "      <th></th>\n",
       "      <th></th>\n",
       "      <th></th>\n",
       "      <th></th>\n",
       "      <th></th>\n",
       "    </tr>\n",
       "  </thead>\n",
       "  <tbody>\n",
       "    <tr>\n",
       "      <th>555</th>\n",
       "      <td>0.095357</td>\n",
       "      <td>0.000299</td>\n",
       "      <td>0.000000</td>\n",
       "      <td>0.016869</td>\n",
       "      <td>0.997753</td>\n",
       "      <td>Information Technology</td>\n",
       "      <td>Financials</td>\n",
       "      <td>0.904174</td>\n",
       "    </tr>\n",
       "    <tr>\n",
       "      <th>556</th>\n",
       "      <td>0.085886</td>\n",
       "      <td>0.000014</td>\n",
       "      <td>0.001386</td>\n",
       "      <td>0.001996</td>\n",
       "      <td>0.994901</td>\n",
       "      <td>Information Technology</td>\n",
       "      <td>Financials</td>\n",
       "      <td>0.904174</td>\n",
       "    </tr>\n",
       "    <tr>\n",
       "      <th>557</th>\n",
       "      <td>0.082324</td>\n",
       "      <td>0.000013</td>\n",
       "      <td>0.000832</td>\n",
       "      <td>0.000856</td>\n",
       "      <td>0.997623</td>\n",
       "      <td>Information Technology</td>\n",
       "      <td>Financials</td>\n",
       "      <td>0.904174</td>\n",
       "    </tr>\n",
       "    <tr>\n",
       "      <th>558</th>\n",
       "      <td>0.081331</td>\n",
       "      <td>0.000028</td>\n",
       "      <td>0.000554</td>\n",
       "      <td>0.000925</td>\n",
       "      <td>0.999145</td>\n",
       "      <td>Information Technology</td>\n",
       "      <td>Financials</td>\n",
       "      <td>0.904174</td>\n",
       "    </tr>\n",
       "    <tr>\n",
       "      <th>559</th>\n",
       "      <td>0.271692</td>\n",
       "      <td>0.000265</td>\n",
       "      <td>0.005822</td>\n",
       "      <td>0.020013</td>\n",
       "      <td>0.822693</td>\n",
       "      <td>Information Technology</td>\n",
       "      <td>Financials</td>\n",
       "      <td>0.904174</td>\n",
       "    </tr>\n",
       "  </tbody>\n",
       "</table>\n",
       "</div>"
      ],
      "text/plain": [
       "         height     width  distance  left_slope  right_slope  \\\n",
       "index                                                          \n",
       "555    0.095357  0.000299  0.000000    0.016869     0.997753   \n",
       "556    0.085886  0.000014  0.001386    0.001996     0.994901   \n",
       "557    0.082324  0.000013  0.000832    0.000856     0.997623   \n",
       "558    0.081331  0.000028  0.000554    0.000925     0.999145   \n",
       "559    0.271692  0.000265  0.005822    0.020013     0.822693   \n",
       "\n",
       "                 event_sector target_sector  target_sector_average_price  \n",
       "index                                                                     \n",
       "555    Information Technology    Financials                     0.904174  \n",
       "556    Information Technology    Financials                     0.904174  \n",
       "557    Information Technology    Financials                     0.904174  \n",
       "558    Information Technology    Financials                     0.904174  \n",
       "559    Information Technology    Financials                     0.904174  "
      ]
     },
     "execution_count": 72,
     "metadata": {},
     "output_type": "execute_result"
    }
   ],
   "source": [
    "it_f.head()"
   ]
  },
  {
   "cell_type": "code",
   "execution_count": 73,
   "metadata": {},
   "outputs": [],
   "source": [
    "X = it_f[['height', 'width', 'distance', 'left_slope', 'right_slope']]\n",
    "Y = it_f['target_sector_average_price']\n",
    "X = X.values\n",
    "Y = Y.values\n",
    "#Test size?\n",
    "X_train, X_test, Y_train, Y_test = train_test_split(X, Y, test_size=0.2, random_state=42)"
   ]
  },
  {
   "cell_type": "code",
   "execution_count": 74,
   "metadata": {},
   "outputs": [
    {
     "name": "stdout",
     "output_type": "stream",
     "text": [
      "(444, 1, 5) (444,) (111, 1, 5) (111,)\n"
     ]
    }
   ],
   "source": [
    "# reshape input to be 3D [samples, timesteps, features]\n",
    "X_train = X_train.reshape((X_train.shape[0], 1, X_train.shape[1]))\n",
    "X_test = X_test.reshape((X_test.shape[0], 1, X_test.shape[1]))\n",
    "print(X_train.shape, Y_train.shape, X_test.shape, Y_test.shape)"
   ]
  },
  {
   "cell_type": "code",
   "execution_count": 75,
   "metadata": {},
   "outputs": [],
   "source": [
    "# design network\n",
    "model = Sequential()\n",
    "model.add(LSTM(50, input_shape=(X_train.shape[1], X_train.shape[2])))\n",
    "model.add(Dense(1))\n",
    "model.compile(loss='mse', optimizer='adam')"
   ]
  },
  {
   "cell_type": "code",
   "execution_count": 76,
   "metadata": {},
   "outputs": [
    {
     "name": "stdout",
     "output_type": "stream",
     "text": [
      "Train on 444 samples, validate on 111 samples\n",
      "Epoch 1/50\n",
      " - 2s - loss: 0.5627 - val_loss: 0.5443\n",
      "Epoch 2/50\n",
      " - 0s - loss: 0.5046 - val_loss: 0.4882\n",
      "Epoch 3/50\n",
      " - 0s - loss: 0.4506 - val_loss: 0.4357\n",
      "Epoch 4/50\n",
      " - 0s - loss: 0.4003 - val_loss: 0.3867\n",
      "Epoch 5/50\n",
      " - 0s - loss: 0.3533 - val_loss: 0.3408\n",
      "Epoch 6/50\n",
      " - 0s - loss: 0.3094 - val_loss: 0.2981\n",
      "Epoch 7/50\n",
      " - 0s - loss: 0.2684 - val_loss: 0.2580\n",
      "Epoch 8/50\n",
      " - 0s - loss: 0.2303 - val_loss: 0.2211\n",
      "Epoch 9/50\n",
      " - 0s - loss: 0.1954 - val_loss: 0.1879\n",
      "Epoch 10/50\n",
      " - 0s - loss: 0.1644 - val_loss: 0.1586\n",
      "Epoch 11/50\n",
      " - 0s - loss: 0.1375 - val_loss: 0.1340\n",
      "Epoch 12/50\n",
      " - 0s - loss: 0.1153 - val_loss: 0.1143\n",
      "Epoch 13/50\n",
      " - 0s - loss: 0.0978 - val_loss: 0.0993\n",
      "Epoch 14/50\n",
      " - 0s - loss: 0.0850 - val_loss: 0.0888\n",
      "Epoch 15/50\n",
      " - 0s - loss: 0.0763 - val_loss: 0.0821\n",
      "Epoch 16/50\n",
      " - 0s - loss: 0.0710 - val_loss: 0.0783\n",
      "Epoch 17/50\n",
      " - 0s - loss: 0.0681 - val_loss: 0.0763\n",
      "Epoch 18/50\n",
      " - 0s - loss: 0.0667 - val_loss: 0.0754\n",
      "Epoch 19/50\n",
      " - 0s - loss: 0.0662 - val_loss: 0.0750\n",
      "Epoch 20/50\n",
      " - 0s - loss: 0.0660 - val_loss: 0.0748\n",
      "Epoch 21/50\n",
      " - 0s - loss: 0.0658 - val_loss: 0.0745\n",
      "Epoch 22/50\n",
      " - 0s - loss: 0.0656 - val_loss: 0.0742\n",
      "Epoch 23/50\n",
      " - 0s - loss: 0.0654 - val_loss: 0.0738\n",
      "Epoch 24/50\n",
      " - 0s - loss: 0.0651 - val_loss: 0.0735\n",
      "Epoch 25/50\n",
      " - 0s - loss: 0.0649 - val_loss: 0.0732\n",
      "Epoch 26/50\n",
      " - 0s - loss: 0.0647 - val_loss: 0.0729\n",
      "Epoch 27/50\n",
      " - 0s - loss: 0.0645 - val_loss: 0.0726\n",
      "Epoch 28/50\n",
      " - 0s - loss: 0.0643 - val_loss: 0.0723\n",
      "Epoch 29/50\n",
      " - 0s - loss: 0.0641 - val_loss: 0.0721\n",
      "Epoch 30/50\n",
      " - 0s - loss: 0.0639 - val_loss: 0.0718\n",
      "Epoch 31/50\n",
      " - 0s - loss: 0.0638 - val_loss: 0.0716\n",
      "Epoch 32/50\n",
      " - 0s - loss: 0.0636 - val_loss: 0.0714\n",
      "Epoch 33/50\n",
      " - 0s - loss: 0.0635 - val_loss: 0.0712\n",
      "Epoch 34/50\n",
      " - 0s - loss: 0.0633 - val_loss: 0.0710\n",
      "Epoch 35/50\n",
      " - 0s - loss: 0.0632 - val_loss: 0.0708\n",
      "Epoch 36/50\n",
      " - 0s - loss: 0.0631 - val_loss: 0.0706\n",
      "Epoch 37/50\n",
      " - 0s - loss: 0.0630 - val_loss: 0.0704\n",
      "Epoch 38/50\n",
      " - 0s - loss: 0.0629 - val_loss: 0.0702\n",
      "Epoch 39/50\n",
      " - 0s - loss: 0.0628 - val_loss: 0.0700\n",
      "Epoch 40/50\n",
      " - 0s - loss: 0.0626 - val_loss: 0.0698\n",
      "Epoch 41/50\n",
      " - 0s - loss: 0.0625 - val_loss: 0.0697\n",
      "Epoch 42/50\n",
      " - 0s - loss: 0.0625 - val_loss: 0.0695\n",
      "Epoch 43/50\n",
      " - 0s - loss: 0.0624 - val_loss: 0.0693\n",
      "Epoch 44/50\n",
      " - 0s - loss: 0.0623 - val_loss: 0.0692\n",
      "Epoch 45/50\n",
      " - 0s - loss: 0.0622 - val_loss: 0.0690\n",
      "Epoch 46/50\n",
      " - 0s - loss: 0.0621 - val_loss: 0.0689\n",
      "Epoch 47/50\n",
      " - 0s - loss: 0.0620 - val_loss: 0.0688\n",
      "Epoch 48/50\n",
      " - 0s - loss: 0.0619 - val_loss: 0.0686\n",
      "Epoch 49/50\n",
      " - 0s - loss: 0.0619 - val_loss: 0.0685\n",
      "Epoch 50/50\n",
      " - 0s - loss: 0.0618 - val_loss: 0.0684\n"
     ]
    }
   ],
   "source": [
    "# fit network\n",
    "history = model.fit(X_train, Y_train, epochs=50, batch_size=72, validation_data=(X_test, Y_test), verbose=2, shuffle=False)"
   ]
  },
  {
   "cell_type": "code",
   "execution_count": 77,
   "metadata": {},
   "outputs": [
    {
     "data": {
      "image/png": "[encoded data removed]",
      "text/plain": [
       "<Figure size 432x288 with 1 Axes>"
      ]
     },
     "metadata": {
      "needs_background": "light"
     },
     "output_type": "display_data"
    }
   ],
   "source": [
    "# plot history\n",
    "pyplot.plot(history.history['loss'], label='train')\n",
    "pyplot.plot(history.history['val_loss'], label='test')\n",
    "pyplot.legend()\n",
    "pyplot.show()"
   ]
  },
  {
   "cell_type": "code",
   "execution_count": 78,
   "metadata": {},
   "outputs": [],
   "source": [
    "yhat = model.predict(X_test)"
   ]
  },
  {
   "cell_type": "code",
   "execution_count": 79,
   "metadata": {},
   "outputs": [
    {
     "name": "stdout",
     "output_type": "stream",
     "text": [
      "Test RMSE: 0.261\n"
     ]
    }
   ],
   "source": [
    "rmse = sqrt(mean_squared_error(Y_test, yhat))\n",
    "print('Test RMSE: %.3f' % rmse)"
   ]
  }
 ],
 "metadata": {
  "kernelspec": {
   "display_name": "Python 3",
   "language": "python",
   "name": "python3"
  },
  "language_info": {
   "codemirror_mode": {
    "name": "ipython",
    "version": 3
   },
   "file_extension": ".py",
   "mimetype": "text/x-python",
   "name": "python",
   "nbconvert_exporter": "python",
   "pygments_lexer": "ipython3",
   "version": "3.6.8"
  }
 },
 "nbformat": 4,
 "nbformat_minor": 2
}
