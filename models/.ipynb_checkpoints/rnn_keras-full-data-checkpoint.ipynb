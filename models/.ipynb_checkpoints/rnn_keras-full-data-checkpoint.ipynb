{
 "cells": [
  {
   "cell_type": "code",
   "execution_count": 60,
   "metadata": {},
   "outputs": [],
   "source": [
    "from math import sqrt\n",
    "from numpy import split\n",
    "from numpy import array\n",
    "from pandas import read_csv\n",
    "from sklearn.metrics import mean_squared_error\n",
    "from matplotlib import pyplot\n",
    "from keras.models import Sequential\n",
    "from keras.layers import Dense\n",
    "from keras.layers import Flatten\n",
    "from keras.layers.convolutional import Conv1D\n",
    "from keras.layers.convolutional import MaxPooling1D\n",
    "from keras.layers import Dropout\n",
    "\n",
    "import pandas as pd\n",
    "import numpy as np\n",
    "from sklearn.model_selection import train_test_split\n",
    "from sklearn.metrics import mean_squared_error\n",
    "\n",
    "from time import time\n",
    "from tensorflow.python.keras.callbacks import TensorBoard\n",
    "\n",
    "tensorboard = TensorBoard(log_dir='./final_logs/{}'.format(time()))"
   ]
  },
  {
   "cell_type": "markdown",
   "metadata": {},
   "source": [
    "## Reading in the data"
   ]
  },
  {
   "cell_type": "code",
   "execution_count": 2,
   "metadata": {},
   "outputs": [
    {
     "data": {
      "text/html": [
       "<div>\n",
       "<style scoped>\n",
       "    .dataframe tbody tr th:only-of-type {\n",
       "        vertical-align: middle;\n",
       "    }\n",
       "\n",
       "    .dataframe tbody tr th {\n",
       "        vertical-align: top;\n",
       "    }\n",
       "\n",
       "    .dataframe thead th {\n",
       "        text-align: right;\n",
       "    }\n",
       "</style>\n",
       "<table border=\"1\" class=\"dataframe\">\n",
       "  <thead>\n",
       "    <tr style=\"text-align: right;\">\n",
       "      <th></th>\n",
       "      <th>Unnamed: 0</th>\n",
       "      <th>height</th>\n",
       "      <th>width</th>\n",
       "      <th>distance</th>\n",
       "      <th>left_slope</th>\n",
       "      <th>right_slope</th>\n",
       "      <th>event_sector</th>\n",
       "      <th>target_sector</th>\n",
       "      <th>target_sector_average_price</th>\n",
       "    </tr>\n",
       "  </thead>\n",
       "  <tbody>\n",
       "    <tr>\n",
       "      <th>0</th>\n",
       "      <td>0</td>\n",
       "      <td>0.053152</td>\n",
       "      <td>0.000003</td>\n",
       "      <td>0.000000</td>\n",
       "      <td>0.113784</td>\n",
       "      <td>0.964781</td>\n",
       "      <td>Consumer Discretionary</td>\n",
       "      <td>Health Care</td>\n",
       "      <td>0.017173</td>\n",
       "    </tr>\n",
       "    <tr>\n",
       "      <th>1</th>\n",
       "      <td>0</td>\n",
       "      <td>0.089049</td>\n",
       "      <td>0.000023</td>\n",
       "      <td>0.016760</td>\n",
       "      <td>0.104410</td>\n",
       "      <td>0.992334</td>\n",
       "      <td>Consumer Discretionary</td>\n",
       "      <td>Health Care</td>\n",
       "      <td>0.116957</td>\n",
       "    </tr>\n",
       "    <tr>\n",
       "      <th>2</th>\n",
       "      <td>0</td>\n",
       "      <td>0.075720</td>\n",
       "      <td>0.000007</td>\n",
       "      <td>0.022346</td>\n",
       "      <td>0.033813</td>\n",
       "      <td>0.976758</td>\n",
       "      <td>Consumer Discretionary</td>\n",
       "      <td>Health Care</td>\n",
       "      <td>0.116957</td>\n",
       "    </tr>\n",
       "    <tr>\n",
       "      <th>3</th>\n",
       "      <td>0</td>\n",
       "      <td>0.023592</td>\n",
       "      <td>0.000005</td>\n",
       "      <td>0.044693</td>\n",
       "      <td>0.007957</td>\n",
       "      <td>0.964307</td>\n",
       "      <td>Consumer Discretionary</td>\n",
       "      <td>Health Care</td>\n",
       "      <td>0.231336</td>\n",
       "    </tr>\n",
       "    <tr>\n",
       "      <th>4</th>\n",
       "      <td>0</td>\n",
       "      <td>0.023596</td>\n",
       "      <td>0.000003</td>\n",
       "      <td>0.016760</td>\n",
       "      <td>0.014150</td>\n",
       "      <td>0.976824</td>\n",
       "      <td>Consumer Discretionary</td>\n",
       "      <td>Health Care</td>\n",
       "      <td>0.231336</td>\n",
       "    </tr>\n",
       "  </tbody>\n",
       "</table>\n",
       "</div>"
      ],
      "text/plain": [
       "   Unnamed: 0    height     width  distance  left_slope  right_slope  \\\n",
       "0           0  0.053152  0.000003  0.000000    0.113784     0.964781   \n",
       "1           0  0.089049  0.000023  0.016760    0.104410     0.992334   \n",
       "2           0  0.075720  0.000007  0.022346    0.033813     0.976758   \n",
       "3           0  0.023592  0.000005  0.044693    0.007957     0.964307   \n",
       "4           0  0.023596  0.000003  0.016760    0.014150     0.976824   \n",
       "\n",
       "             event_sector target_sector  target_sector_average_price  \n",
       "0  Consumer Discretionary   Health Care                     0.017173  \n",
       "1  Consumer Discretionary   Health Care                     0.116957  \n",
       "2  Consumer Discretionary   Health Care                     0.116957  \n",
       "3  Consumer Discretionary   Health Care                     0.231336  \n",
       "4  Consumer Discretionary   Health Care                     0.231336  "
      ]
     },
     "execution_count": 2,
     "metadata": {},
     "output_type": "execute_result"
    }
   ],
   "source": [
    "data = pd.read_csv('../data/events_prices/events_prices/Consumer Discretionary.csv')\n",
    "data.name = 'ConsumerDiscretion'\n",
    "data.head(5)"
   ]
  },
  {
   "cell_type": "code",
   "execution_count": 12,
   "metadata": {},
   "outputs": [
    {
     "data": {
      "text/html": [
       "<div>\n",
       "<style scoped>\n",
       "    .dataframe tbody tr th:only-of-type {\n",
       "        vertical-align: middle;\n",
       "    }\n",
       "\n",
       "    .dataframe tbody tr th {\n",
       "        vertical-align: top;\n",
       "    }\n",
       "\n",
       "    .dataframe thead th {\n",
       "        text-align: right;\n",
       "    }\n",
       "</style>\n",
       "<table border=\"1\" class=\"dataframe\">\n",
       "  <thead>\n",
       "    <tr style=\"text-align: right;\">\n",
       "      <th></th>\n",
       "      <th>height</th>\n",
       "      <th>width</th>\n",
       "      <th>distance</th>\n",
       "      <th>left_slope</th>\n",
       "      <th>right_slope</th>\n",
       "    </tr>\n",
       "  </thead>\n",
       "  <tbody>\n",
       "    <tr>\n",
       "      <th>0</th>\n",
       "      <td>0.053152</td>\n",
       "      <td>0.000003</td>\n",
       "      <td>0.000000</td>\n",
       "      <td>0.113784</td>\n",
       "      <td>0.964781</td>\n",
       "    </tr>\n",
       "    <tr>\n",
       "      <th>1</th>\n",
       "      <td>0.089049</td>\n",
       "      <td>0.000023</td>\n",
       "      <td>0.016760</td>\n",
       "      <td>0.104410</td>\n",
       "      <td>0.992334</td>\n",
       "    </tr>\n",
       "    <tr>\n",
       "      <th>2</th>\n",
       "      <td>0.075720</td>\n",
       "      <td>0.000007</td>\n",
       "      <td>0.022346</td>\n",
       "      <td>0.033813</td>\n",
       "      <td>0.976758</td>\n",
       "    </tr>\n",
       "    <tr>\n",
       "      <th>3</th>\n",
       "      <td>0.023592</td>\n",
       "      <td>0.000005</td>\n",
       "      <td>0.044693</td>\n",
       "      <td>0.007957</td>\n",
       "      <td>0.964307</td>\n",
       "    </tr>\n",
       "    <tr>\n",
       "      <th>4</th>\n",
       "      <td>0.023596</td>\n",
       "      <td>0.000003</td>\n",
       "      <td>0.016760</td>\n",
       "      <td>0.014150</td>\n",
       "      <td>0.976824</td>\n",
       "    </tr>\n",
       "  </tbody>\n",
       "</table>\n",
       "</div>"
      ],
      "text/plain": [
       "     height     width  distance  left_slope  right_slope\n",
       "0  0.053152  0.000003  0.000000    0.113784     0.964781\n",
       "1  0.089049  0.000023  0.016760    0.104410     0.992334\n",
       "2  0.075720  0.000007  0.022346    0.033813     0.976758\n",
       "3  0.023592  0.000005  0.044693    0.007957     0.964307\n",
       "4  0.023596  0.000003  0.016760    0.014150     0.976824"
      ]
     },
     "execution_count": 12,
     "metadata": {},
     "output_type": "execute_result"
    }
   ],
   "source": [
    "X = data.iloc[:, 1:6]\n",
    "X.head()"
   ]
  },
  {
   "cell_type": "code",
   "execution_count": 13,
   "metadata": {},
   "outputs": [
    {
     "data": {
      "text/plain": [
       "0    0.017173\n",
       "1    0.116957\n",
       "2    0.116957\n",
       "3    0.231336\n",
       "4    0.231336\n",
       "Name: target_sector_average_price, dtype: float64"
      ]
     },
     "execution_count": 13,
     "metadata": {},
     "output_type": "execute_result"
    }
   ],
   "source": [
    "y = data.iloc[:, -1]\n",
    "y.head()"
   ]
  },
  {
   "cell_type": "markdown",
   "metadata": {},
   "source": [
    "## Data Pre-processing\n",
    "\n",
    "We reshape the data for 1D convolution, with 5 features. We have variable **image_height**, which indicates the height of the convolution window. The default image height is 5.\n"
   ]
  },
  {
   "cell_type": "code",
   "execution_count": 39,
   "metadata": {},
   "outputs": [],
   "source": [
    "# reshapes data into n (len(data)/image_height) image_heightx5 data values.\n",
    "def split_reshape_dataset(X, y, image_height=5):\n",
    "    \n",
    "    X = X.sample(frac=0.05, random_state=100)\n",
    "    y = y.sample(frac=0.05, random_state=100)\n",
    "    X_train, X_test, y_train, y_test = train_test_split(X, y, test_size=0.2, random_state=1)\n",
    "    \n",
    "    X_train = make_dataset_whole(X_train,image_height)\n",
    "    X_test = make_dataset_whole(X_test,image_height)\n",
    "    y_train = make_dataset_whole(y_train,image_height)\n",
    "    y_test = make_dataset_whole(y_test,image_height)\n",
    "    \n",
    "    X_train = np.reshape(X_train.values, (-1, image_height, 5))\n",
    "    X_test = np.reshape(X_test.values, (-1, image_height, 5))\n",
    "    y_train = np.reshape(y_train.values, (-1, image_height))\n",
    "    y_test = np.reshape(y_test.values, (-1, image_height))\n",
    "    \n",
    "    return X_train, X_test, y_train, y_test\n",
    "\n",
    "# to make sure we have uniform sized images. \n",
    "# eg. If there are 161 rows of observations and we want to make predictions on 5 time steps each,\n",
    "# this will reduce the dataset to 160 observations as 160%5==0\n",
    "def make_dataset_whole(X, image_height=5):\n",
    "    X = X.reset_index(drop='index')\n",
    "    x_shape=X.shape[0]\n",
    "    i = x_shape%image_height\n",
    "    if i != 0:\n",
    "        X = X.drop(list(range(x_shape-1, x_shape-i-1,-1)),axis=0)\n",
    "    \n",
    "    return X"
   ]
  },
  {
   "cell_type": "markdown",
   "metadata": {},
   "source": [
    "## Split data into train and test"
   ]
  },
  {
   "cell_type": "code",
   "execution_count": 40,
   "metadata": {},
   "outputs": [
    {
     "data": {
      "text/plain": [
       "((1124, 5), (1124, 5, 5))"
      ]
     },
     "execution_count": 40,
     "metadata": {},
     "output_type": "execute_result"
    }
   ],
   "source": [
    "X_train, X_test, y_train, y_test = split_reshape_dataset(X,y)\n",
    "\n",
    "y_train.shape, X_train.shape"
   ]
  },
  {
   "cell_type": "code",
   "execution_count": 8,
   "metadata": {},
   "outputs": [],
   "source": [
    "data1 = pd.read_csv('../data/events_prices/events_prices/Consumer Discretionary.csv')"
   ]
  },
  {
   "cell_type": "code",
   "execution_count": 41,
   "metadata": {},
   "outputs": [],
   "source": [
    "def get_target_dfs(data):\n",
    "    df_list = []\n",
    "    event = str(data.event_sector[0])\n",
    "    for target in pd.unique(data.target_sector):\n",
    "        \n",
    "        target_name = str(target)\n",
    "        df = data[data.target_sector == target]\n",
    "        df.name = event+'-'+target_name\n",
    "        df_list.append(df)\n",
    "        \n",
    "    return df_list\n",
    "\n",
    "target_dflist = get_target_dfs(data1)"
   ]
  },
  {
   "cell_type": "code",
   "execution_count": 7,
   "metadata": {},
   "outputs": [],
   "source": []
  },
  {
   "cell_type": "markdown",
   "metadata": {},
   "source": [
    "## Build basic model using 1 1D convolution layer with kernel_size = 3"
   ]
  },
  {
   "cell_type": "code",
   "execution_count": 42,
   "metadata": {},
   "outputs": [],
   "source": [
    "def build_model(X_train, y_train):\n",
    "    verbose, epochs, batch_size = 0, 20, 4\n",
    "    n_timesteps, n_features, n_outputs = X_train.shape[1], X_train.shape[2], y_train.shape[1]\n",
    "    model = Sequential()\n",
    "    model.add(Conv1D(filters=16, kernel_size=2, activation='relu',\n",
    "                     input_shape=(n_timesteps, n_features)))\n",
    "    \n",
    "    model.add(MaxPooling1D(pool_size=2))\n",
    "    model.add(Flatten())\n",
    "    model.add(Dense(10, activation='relu'))\n",
    "    model.add(Dense(n_outputs))\n",
    "    model.compile(loss='mse', optimizer='adam')\n",
    "    model.fit(X_train, y_train, epochs=epochs,\n",
    "              batch_size=batch_size, verbose=verbose)\n",
    "    return model"
   ]
  },
  {
   "cell_type": "code",
   "execution_count": 43,
   "metadata": {},
   "outputs": [
    {
     "name": "stdout",
     "output_type": "stream",
     "text": [
      "0.0013794300178229424\n",
      "0.0012250820105853889\n",
      "0.0006843781874176421\n",
      "0.002825744763597792\n",
      "0.003363960698824228\n",
      "0.0012336542774464023\n",
      "0.0028413736164810384\n",
      "0.0031752534141794354\n",
      "0.003479179458192337\n",
      "0.014152756029514258\n",
      "{'Consumer Discretionary-Health Care': 0.0013794300178229424, 'Consumer Discretionary-Industrials': 0.0012250820105853889, 'Consumer Discretionary-Information Technology': 0.0006843781874176421, 'Consumer Discretionary-Consumer Staples': 0.002825744763597792, 'Consumer Discretionary-Utilities': 0.003363960698824228, 'Consumer Discretionary-Financials': 0.0012336542774464023, 'Consumer Discretionary-Real Estate': 0.0028413736164810384, 'Consumer Discretionary-Materials': 0.0031752534141794354, 'Consumer Discretionary-Energy': 0.003479179458192337, 'Consumer Discretionary-Telecommunications Services': 0.014152756029514258}\n"
     ]
    }
   ],
   "source": [
    "i = 0\n",
    "# target_dflist = [data1, data2, data3, data4, data5, data6]\n",
    "index = []\n",
    "cols = []\n",
    "mse_dict = {}\n",
    "while i < len(target_dflist):\n",
    "    data = target_dflist[i]\n",
    "    name = data.name\n",
    "    event_sector = name.split('-')[0]\n",
    "    target_sector = name.split('-')[1]\n",
    "    index+=[event_sector]\n",
    "    cols+=[target_sector]\n",
    "    X = data.iloc[:, 1:6]\n",
    "    y = data.iloc[:, -1]\n",
    "    X_train, X_test, y_train, y_test = split_reshape_dataset(X,y)\n",
    "    model = build_model(X_train, y_train)\n",
    "    y_pred = model.predict(X_test)\n",
    "    mse = mean_squared_error(y_test, y_pred)\n",
    "    mse_dict[name] = mse\n",
    "    print(mse)\n",
    "    i+=1\n",
    "print(mse_dict)"
   ]
  },
  {
   "cell_type": "code",
   "execution_count": 45,
   "metadata": {},
   "outputs": [
    {
     "data": {
      "text/plain": [
       "0.003436081247406146"
      ]
     },
     "execution_count": 45,
     "metadata": {},
     "output_type": "execute_result"
    }
   ],
   "source": [
    "# consumer_dict = pd.DataFrame(mse_dict)\n",
    "# consumer_dict.to_csv('CD_model1.csv')\n",
    "np.mean(list(mse_dict.values()))"
   ]
  },
  {
   "cell_type": "markdown",
   "metadata": {},
   "source": [
    "## Model with 2 convolution layers with kernel_size=2"
   ]
  },
  {
   "cell_type": "code",
   "execution_count": 48,
   "metadata": {},
   "outputs": [],
   "source": [
    "def build_model_2(X_train, y_train):\n",
    "    verbose, epochs, batch_size = 0, 20, 4\n",
    "    n_timesteps, n_features, n_outputs = X_train.shape[1], X_train.shape[2], y_train.shape[1]\n",
    "    # define model\n",
    "    model = Sequential()\n",
    "    model.add(Conv1D(filters=20, kernel_size=2, activation='relu',\n",
    "                     input_shape=(n_timesteps, n_features)))\n",
    "    model.add(Conv1D(filters=10, kernel_size=2, activation='relu'))\n",
    "    model.add(MaxPooling1D(pool_size=1))\n",
    "    model.add(Flatten())\n",
    "    model.add(Dense(100, activation='relu'))\n",
    "    model.add(Dense(n_outputs))\n",
    "    model.compile(loss='mse', optimizer='adam')\n",
    "    # fit network\n",
    "    model.fit(X_train, y_train, epochs=epochs,\n",
    "              batch_size=batch_size, verbose=verbose)\n",
    "    return model"
   ]
  },
  {
   "cell_type": "code",
   "execution_count": 49,
   "metadata": {},
   "outputs": [
    {
     "name": "stdout",
     "output_type": "stream",
     "text": [
      "0.00141969758149393\n",
      "0.0012219664118559704\n",
      "0.0006834738584785911\n",
      "0.0026699880355763508\n",
      "0.003395965483112876\n",
      "0.0013021739886564464\n",
      "0.0028086327098332635\n",
      "0.0032137529862367293\n",
      "0.003528651510155088\n",
      "0.014578122250404446\n",
      "{'Consumer Discretionary-Health Care': 0.00141969758149393, 'Consumer Discretionary-Industrials': 0.0012219664118559704, 'Consumer Discretionary-Information Technology': 0.0006834738584785911, 'Consumer Discretionary-Consumer Staples': 0.0026699880355763508, 'Consumer Discretionary-Utilities': 0.003395965483112876, 'Consumer Discretionary-Financials': 0.0013021739886564464, 'Consumer Discretionary-Real Estate': 0.0028086327098332635, 'Consumer Discretionary-Materials': 0.0032137529862367293, 'Consumer Discretionary-Energy': 0.003528651510155088, 'Consumer Discretionary-Telecommunications Services': 0.014578122250404446}\n"
     ]
    }
   ],
   "source": [
    "i = 0\n",
    "# target_dflist = [data1, data2, data3, data4, data5, data6]\n",
    "index = []\n",
    "cols = []\n",
    "mse_dict = {}\n",
    "while i < len(target_dflist):\n",
    "    data = target_dflist[i]\n",
    "    name = data.name\n",
    "    event_sector = name.split('-')[0]\n",
    "    target_sector = name.split('-')[1]\n",
    "    index+=[event_sector]\n",
    "    cols+=[target_sector]\n",
    "    X = data.iloc[:, 1:6]\n",
    "    y = data.iloc[:, -1]\n",
    "    X_train, X_test, y_train, y_test = split_reshape_dataset(X,y)\n",
    "    model = build_model_2(X_train, y_train)\n",
    "    y_pred = model.predict(X_test)\n",
    "    mse = mean_squared_error(y_test, y_pred)\n",
    "    mse_dict[name] = mse\n",
    "    print(mse)\n",
    "    i+=1\n",
    "print(mse_dict)"
   ]
  },
  {
   "cell_type": "markdown",
   "metadata": {},
   "source": [
    "## Changing the timestep size from 5 to 10 and building model with 3 convolution layers.\n",
    "\n",
    "## Increasing the timestep allows us to use more convolution layers."
   ]
  },
  {
   "cell_type": "code",
   "execution_count": 50,
   "metadata": {},
   "outputs": [],
   "source": [
    "def build_model_3(X_train, y_train):\n",
    "    verbose, epochs, batch_size = 0, 20, 4\n",
    "    n_timesteps, n_features, n_outputs = X_train.shape[1], X_train.shape[2], y_train.shape[1]\n",
    "    # define model\n",
    "    model = Sequential()\n",
    "    \n",
    "    model.add(Conv1D(filters=20, kernel_size=3, activation='relu',\n",
    "                     input_shape=(n_timesteps, n_features)))\n",
    "    model.add(Conv1D(filters=10, kernel_size=3, activation='relu'))\n",
    "    model.add(Dropout(0.2))\n",
    "    model.add(Conv1D(filters=5, kernel_size=3, activation='relu'))\n",
    "    model.add(MaxPooling1D(pool_size=1))\n",
    "    model.add(Flatten())\n",
    "    model.add(Dense(100, activation='relu'))\n",
    "    model.add(Dense(n_outputs))\n",
    "    model.compile(loss='mse', optimizer='adam')\n",
    "    # fit network\n",
    "    model.fit(X_train, y_train, epochs=epochs,\n",
    "              batch_size=batch_size, verbose=verbose, callbacks=[tensorboard])\n",
    "    return model"
   ]
  },
  {
   "cell_type": "markdown",
   "metadata": {},
   "source": [
    "### Testing the changed timestep size with build_model 2"
   ]
  },
  {
   "cell_type": "code",
   "execution_count": 53,
   "metadata": {},
   "outputs": [
    {
     "name": "stdout",
     "output_type": "stream",
     "text": [
      "0.001531568287631271\n",
      "0.00133000158947943\n",
      "0.000739482175976337\n",
      "0.0030756871047207617\n",
      "0.0035288014208112567\n",
      "0.0013566928827960854\n",
      "0.003003303418114345\n",
      "0.0034887569093828147\n",
      "0.003821921532877616\n",
      "0.015269900625870548\n",
      "{'Consumer Discretionary-Health Care': 0.001531568287631271, 'Consumer Discretionary-Industrials': 0.00133000158947943, 'Consumer Discretionary-Information Technology': 0.000739482175976337, 'Consumer Discretionary-Consumer Staples': 0.0030756871047207617, 'Consumer Discretionary-Utilities': 0.0035288014208112567, 'Consumer Discretionary-Financials': 0.0013566928827960854, 'Consumer Discretionary-Real Estate': 0.003003303418114345, 'Consumer Discretionary-Materials': 0.0034887569093828147, 'Consumer Discretionary-Energy': 0.003821921532877616, 'Consumer Discretionary-Telecommunications Services': 0.015269900625870548}\n"
     ]
    },
    {
     "data": {
      "text/plain": [
       "0.0037146115947660464"
      ]
     },
     "execution_count": 53,
     "metadata": {},
     "output_type": "execute_result"
    }
   ],
   "source": [
    "i = 0\n",
    "# target_dflist = [data1, data2, data3, data4, data5, data6]\n",
    "index = []\n",
    "cols = []\n",
    "mse_dict = {}\n",
    "while i < len(target_dflist):\n",
    "    data = target_dflist[i]\n",
    "    name = data.name\n",
    "    event_sector = name.split('-')[0]\n",
    "    target_sector = name.split('-')[1]\n",
    "    index+=[event_sector]\n",
    "    cols+=[target_sector]\n",
    "    X = data.iloc[:, :5]\n",
    "    y = data.iloc[:, -1]\n",
    "    X_train, X_test, y_train, y_test = split_reshape_dataset(X,y, image_height=10) ## change image height\n",
    "    model = build_model_2(X_train, y_train)\n",
    "    y_pred = model.predict(X_test)\n",
    "    mse = mean_squared_error(y_test, y_pred)\n",
    "    mse_dict[name] = mse\n",
    "    print(mse)\n",
    "    i+=1\n",
    "print(mse_dict)\n",
    "np.mean(list(mse_dict.values()))"
   ]
  },
  {
   "cell_type": "code",
   "execution_count": 54,
   "metadata": {},
   "outputs": [
    {
     "name": "stdout",
     "output_type": "stream",
     "text": [
      "0.0013897012092876646\n",
      "0.0012282276224936783\n",
      "0.0006891808668886771\n",
      "0.002681524017329346\n",
      "0.0031754255677073026\n",
      "0.0012258341006400892\n",
      "0.0028631484347698037\n",
      "0.0031624380596742864\n",
      "0.00365463521475482\n",
      "0.014358575152452768\n",
      "{'Consumer Discretionary-Health Care': 0.0013897012092876646, 'Consumer Discretionary-Industrials': 0.0012282276224936783, 'Consumer Discretionary-Information Technology': 0.0006891808668886771, 'Consumer Discretionary-Consumer Staples': 0.002681524017329346, 'Consumer Discretionary-Utilities': 0.0031754255677073026, 'Consumer Discretionary-Financials': 0.0012258341006400892, 'Consumer Discretionary-Real Estate': 0.0028631484347698037, 'Consumer Discretionary-Materials': 0.0031624380596742864, 'Consumer Discretionary-Energy': 0.00365463521475482, 'Consumer Discretionary-Telecommunications Services': 0.014358575152452768}\n"
     ]
    },
    {
     "data": {
      "text/plain": [
       "0.003442869024599844"
      ]
     },
     "execution_count": 54,
     "metadata": {},
     "output_type": "execute_result"
    }
   ],
   "source": [
    "## Final CNN\n",
    "## Testing with build_model_3\n",
    "i = 0\n",
    "# target_dflist = [data1, data2, data3, data4, data5, data6]\n",
    "index = []\n",
    "cols = []\n",
    "mse_dict = {}\n",
    "while i < len(target_dflist):\n",
    "    data = target_dflist[i]\n",
    "    name = data.name\n",
    "    event_sector = name.split('-')[0]\n",
    "    target_sector = name.split('-')[1]\n",
    "    index+=[event_sector]\n",
    "    cols+=[target_sector]\n",
    "    X = data.iloc[:, :5]\n",
    "    y = data.iloc[:, -1]\n",
    "    X_train, X_test, y_train, y_test = split_reshape_dataset(X,y, image_height=10) ## change image height\n",
    "    model = build_model_3(X_train, y_train)\n",
    "    y_pred = model.predict(X_test)\n",
    "    mse = mean_squared_error(y_test, y_pred)\n",
    "    mse_dict[name] = mse\n",
    "    print(mse)\n",
    "    i+=1\n",
    "print(mse_dict)\n",
    "np.mean(list(mse_dict.values()))"
   ]
  },
  {
   "cell_type": "code",
   "execution_count": 56,
   "metadata": {},
   "outputs": [],
   "source": [
    "# Using model 3 to build the rest of the models"
   ]
  },
  {
   "cell_type": "code",
   "execution_count": 57,
   "metadata": {},
   "outputs": [],
   "source": [
    "data2 = pd.read_csv('../data/events_prices/events_prices/Health Care.csv')\n",
    "data3 = pd.read_csv('../data/events_prices/events_prices/Industrials.csv')\n",
    "data4 = pd.read_csv('../data/events_prices/events_prices/Information Technology.csv')\n",
    "data5 = pd.read_csv('../data/events_prices/events_prices/Consumer Staples.csv')\n",
    "data6 = pd.read_csv('../data/events_prices/events_prices/Utilities.csv')\n",
    "data7 = pd.read_csv('../data/events_prices/events_prices/Financials.csv')\n",
    "data8 = pd.read_csv('../data/events_prices/events_prices/Real Estate.csv')\n",
    "data9 = pd.read_csv('../data/events_prices/events_prices/Materials.csv')\n",
    "data10 = pd.read_csv('../data/events_prices/events_prices/Energy.csv')\n",
    "data11 = pd.read_csv('../data/events_prices/events_prices/Telecommunications Services.csv')"
   ]
  },
  {
   "cell_type": "code",
   "execution_count": 63,
   "metadata": {},
   "outputs": [
    {
     "name": "stdout",
     "output_type": "stream",
     "text": [
      "0.0016599650335218795\n",
      "0.0004863177599136796\n",
      "0.000912227619383335\n",
      "0.0037136058319609975\n",
      "0.014810140484231158\n",
      "0.0015606324972483945\n",
      "0.003945650692799669\n",
      "0.008544401605734615\n",
      "0.005930171136718275\n",
      "0.01770534994195485\n",
      "{'Health Care-Industrials': 0.0016599650335218795, 'Health Care-Consumer Discretionary': 0.0004863177599136796, 'Health Care-Information Technology': 0.000912227619383335, 'Health Care-Consumer Staples': 0.0037136058319609975, 'Health Care-Utilities': 0.014810140484231158, 'Health Care-Financials': 0.0015606324972483945, 'Health Care-Real Estate': 0.003945650692799669, 'Health Care-Materials': 0.008544401605734615, 'Health Care-Energy': 0.005930171136718275, 'Health Care-Telecommunications Services': 0.01770534994195485}\n",
      "0.0014811464920281565\n",
      "0.0004987636345380644\n",
      "0.0008624441344954017\n",
      "0.003750586912071279\n",
      "0.014782196790673338\n",
      "0.0015040672709027824\n",
      "0.0039002038459846748\n",
      "0.009343894042661982\n",
      "0.005876199859139116\n",
      "0.016927809433518102\n",
      "{'Health Care-Industrials': 0.0014811464920281565, 'Health Care-Consumer Discretionary': 0.0004987636345380644, 'Health Care-Information Technology': 0.0008624441344954017, 'Health Care-Consumer Staples': 0.003750586912071279, 'Health Care-Utilities': 0.014782196790673338, 'Health Care-Financials': 0.0015040672709027824, 'Health Care-Real Estate': 0.0039002038459846748, 'Health Care-Materials': 0.009343894042661982, 'Health Care-Energy': 0.005876199859139116, 'Health Care-Telecommunications Services': 0.016927809433518102}\n",
      "0.00433206468478472\n",
      "0.011336587493410311\n",
      "0.01469295990616088\n",
      "0.023634981777848955\n",
      "0.0054161498807217675\n",
      "0.008620918698581777\n",
      "0.014433859464523224\n",
      "0.012718881192009335\n",
      "0.006829938750797365\n",
      "0.02065986391478249\n",
      "{'Industrials-Health Care': 0.00433206468478472, 'Industrials-Consumer Discretionary': 0.011336587493410311, 'Industrials-Information Technology': 0.01469295990616088, 'Industrials-Consumer Staples': 0.023634981777848955, 'Industrials-Utilities': 0.0054161498807217675, 'Industrials-Financials': 0.008620918698581777, 'Industrials-Real Estate': 0.014433859464523224, 'Industrials-Materials': 0.012718881192009335, 'Industrials-Energy': 0.006829938750797365, 'Industrials-Telecommunications Services': 0.02065986391478249}\n",
      "0.002076154149150601\n",
      "0.0015942810619658525\n",
      "0.0006483210891832496\n",
      "0.0022904801416612597\n",
      "0.0035630833677631362\n",
      "0.0017037877476220081\n",
      "0.0032583599828907585\n",
      "0.003957991525896711\n",
      "0.003999771564323655\n",
      "0.01629747392980708\n",
      "{'Information Technology-Health Care': 0.002076154149150601, 'Information Technology-Industrials': 0.0015942810619658525, 'Information Technology-Consumer Discretionary': 0.0006483210891832496, 'Information Technology-Consumer Staples': 0.0022904801416612597, 'Information Technology-Utilities': 0.0035630833677631362, 'Information Technology-Financials': 0.0017037877476220081, 'Information Technology-Real Estate': 0.0032583599828907585, 'Information Technology-Materials': 0.003957991525896711, 'Information Technology-Energy': 0.003999771564323655, 'Information Technology-Telecommunications Services': 0.01629747392980708}\n",
      "0.0029154383730568842\n",
      "0.0015688372272956168\n",
      "0.003356252734865049\n",
      "0.0033125099159984966\n",
      "0.005506307055789103\n",
      "0.009575217369922218\n",
      "0.013553766081636012\n",
      "0.011753394828790797\n",
      "0.009990783496875284\n",
      "0.021067559447883515\n",
      "{'Consumer Staples-Health Care': 0.0029154383730568842, 'Consumer Staples-Industrials': 0.0015688372272956168, 'Consumer Staples-Consumer Discretionary': 0.003356252734865049, 'Consumer Staples-Information Technology': 0.0033125099159984966, 'Consumer Staples-Utilities': 0.005506307055789103, 'Consumer Staples-Financials': 0.009575217369922218, 'Consumer Staples-Real Estate': 0.013553766081636012, 'Consumer Staples-Materials': 0.011753394828790797, 'Consumer Staples-Energy': 0.009990783496875284, 'Consumer Staples-Telecommunications Services': 0.021067559447883515}\n",
      "0.0216385605534269\n",
      "0.017508581611729794\n",
      "0.011821221893068973\n",
      "0.01564000363596844\n",
      "0.02995738798959393\n",
      "0.017662681014723017\n",
      "0.014303093241586753\n",
      "0.013820764663058527\n",
      "0.023711428892821584\n",
      "0.03637198080366099\n",
      "{'Utilities-Health Care': 0.0216385605534269, 'Utilities-Industrials': 0.017508581611729794, 'Utilities-Consumer Discretionary': 0.011821221893068973, 'Utilities-Information Technology': 0.01564000363596844, 'Utilities-Consumer Staples': 0.02995738798959393, 'Utilities-Financials': 0.017662681014723017, 'Utilities-Real Estate': 0.014303093241586753, 'Utilities-Materials': 0.013820764663058527, 'Utilities-Energy': 0.023711428892821584, 'Utilities-Telecommunications Services': 0.03637198080366099}\n",
      "0.0014864044786528359\n",
      "0.0013343905503707938\n",
      "0.0005787957164149679\n",
      "0.0008761622417056802\n",
      "0.00311796123144494\n",
      "0.003688760974595805\n",
      "0.0037422808691918467\n",
      "0.0042342170495639235\n",
      "0.0038693601932367878\n",
      "0.014869224798360675\n",
      "{'Financials-Health Care': 0.0014864044786528359, 'Financials-Industrials': 0.0013343905503707938, 'Financials-Consumer Discretionary': 0.0005787957164149679, 'Financials-Information Technology': 0.0008761622417056802, 'Financials-Consumer Staples': 0.00311796123144494, 'Financials-Utilities': 0.003688760974595805, 'Financials-Real Estate': 0.0037422808691918467, 'Financials-Materials': 0.0042342170495639235, 'Financials-Energy': 0.0038693601932367878, 'Financials-Telecommunications Services': 0.014869224798360675}\n",
      "0.01827311865281825\n",
      "0.02020840598624505\n",
      "0.00632338599486001\n",
      "0.02037741857367164\n",
      "0.023422251233432223\n",
      "0.012778429678711251\n",
      "0.01829436671587375\n",
      "0.015532633320838738\n",
      "0.012666173238562103\n",
      "0.02037090853635836\n",
      "{'Real Estate-Health Care': 0.01827311865281825, 'Real Estate-Industrials': 0.02020840598624505, 'Real Estate-Consumer Discretionary': 0.00632338599486001, 'Real Estate-Information Technology': 0.02037741857367164, 'Real Estate-Consumer Staples': 0.023422251233432223, 'Real Estate-Utilities': 0.012778429678711251, 'Real Estate-Financials': 0.01829436671587375, 'Real Estate-Materials': 0.015532633320838738, 'Real Estate-Energy': 0.012666173238562103, 'Real Estate-Telecommunications Services': 0.02037090853635836}\n",
      "0.0019226422601977735\n",
      "0.001516524629097826\n",
      "0.0018211227501491816\n",
      "0.0007644722172832624\n",
      "0.014105621356098968\n",
      "0.005175569866050732\n",
      "0.001957493870690636\n",
      "0.017842023097268483\n",
      "0.005045345181090711\n",
      "0.010654309559881416\n",
      "{'Materials-Health Care': 0.0019226422601977735, 'Materials-Industrials': 0.001516524629097826, 'Materials-Consumer Discretionary': 0.0018211227501491816, 'Materials-Information Technology': 0.0007644722172832624, 'Materials-Consumer Staples': 0.014105621356098968, 'Materials-Utilities': 0.005175569866050732, 'Materials-Financials': 0.001957493870690636, 'Materials-Real Estate': 0.017842023097268483, 'Materials-Energy': 0.005045345181090711, 'Materials-Telecommunications Services': 0.010654309559881416}\n",
      "0.001965830904775243\n",
      "0.00437695466416221\n",
      "0.0018216309588156704\n",
      "0.0019000819191676232\n",
      "0.007823191247325036\n",
      "0.016968731633853647\n",
      "0.007991641522131677\n",
      "0.003136123000294716\n",
      "0.011378860671081629\n",
      "0.01898889764762471\n",
      "{'Energy-Health Care': 0.001965830904775243, 'Energy-Industrials': 0.00437695466416221, 'Energy-Consumer Discretionary': 0.0018216309588156704, 'Energy-Information Technology': 0.0019000819191676232, 'Energy-Consumer Staples': 0.007823191247325036, 'Energy-Utilities': 0.016968731633853647, 'Energy-Financials': 0.007991641522131677, 'Energy-Real Estate': 0.003136123000294716, 'Energy-Materials': 0.011378860671081629, 'Energy-Telecommunications Services': 0.01898889764762471}\n",
      "0.02761652722738319\n",
      "0.005004109623870989\n",
      "0.0036903414562715715\n",
      "0.009389101620995322\n",
      "0.030071247512672927\n",
      "0.010484215743732875\n",
      "0.005391789497562761\n",
      "0.014571479460917507\n",
      "0.024942166294523234\n",
      "0.006492032925307012\n",
      "{'Telecommunications Services-Health Care': 0.02761652722738319, 'Telecommunications Services-Industrials': 0.005004109623870989, 'Telecommunications Services-Consumer Discretionary': 0.0036903414562715715, 'Telecommunications Services-Information Technology': 0.009389101620995322, 'Telecommunications Services-Consumer Staples': 0.030071247512672927, 'Telecommunications Services-Utilities': 0.010484215743732875, 'Telecommunications Services-Financials': 0.005391789497562761, 'Telecommunications Services-Real Estate': 0.014571479460917507, 'Telecommunications Services-Materials': 0.024942166294523234, 'Telecommunications Services-Energy': 0.006492032925307012}\n"
     ]
    }
   ],
   "source": [
    "dataList = [data2, data3, data4, data5, data6, data7, data8, data9, data10, data11]\n",
    "mse_list = []\n",
    "\n",
    "for df in dataList:\n",
    "    target_dflist = get_target_dfs(df)\n",
    "    i = 0\n",
    "    # target_dflist = [data1, data2, data3, data4, data5, data6]\n",
    "    index = []\n",
    "    cols = []\n",
    "    mse_dict = {}\n",
    "    while i < len(target_dflist):\n",
    "        data = target_dflist[i]\n",
    "        name = data.name\n",
    "        event_sector = name.split('-')[0]\n",
    "        target_sector = name.split('-')[1]\n",
    "        index+=[event_sector]\n",
    "        cols+=[target_sector]\n",
    "        X = data.iloc[:, :5]\n",
    "        y = data.iloc[:, -1]\n",
    "        X_train, X_test, y_train, y_test = split_reshape_dataset(X,y, image_height=10) ## change image height\n",
    "        model = build_model_2(X_train, y_train)\n",
    "        y_pred = model.predict(X_test)\n",
    "        mse = mean_squared_error(y_test, y_pred)\n",
    "        mse_dict[name] = mse\n",
    "        print(mse)\n",
    "        i+=1\n",
    "    print(mse_dict)\n",
    "    mse_list.append(mse_dict)\n",
    "#     np.mean(list(mse_dict.values()))\n",
    "    \n",
    "    "
   ]
  }
 ],
 "metadata": {
  "kernelspec": {
   "display_name": "Python 3",
   "language": "python",
   "name": "python3"
  },
  "language_info": {
   "codemirror_mode": {
    "name": "ipython",
    "version": 3
   },
   "file_extension": ".py",
   "mimetype": "text/x-python",
   "name": "python",
   "nbconvert_exporter": "python",
   "pygments_lexer": "ipython3",
   "version": "3.6.8"
  }
 },
 "nbformat": 4,
 "nbformat_minor": 2
}
